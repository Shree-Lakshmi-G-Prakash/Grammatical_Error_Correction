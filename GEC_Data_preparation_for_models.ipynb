{
  "nbformat": 4,
  "nbformat_minor": 0,
  "metadata": {
    "colab": {
      "name": "GEC_Data_preparation_for_models.ipynb",
      "provenance": [],
      "collapsed_sections": [],
      "toc_visible": true
    },
    "kernelspec": {
      "name": "python3",
      "display_name": "Python 3"
    },
    "language_info": {
      "name": "python"
    }
  },
  "cells": [
    {
      "cell_type": "markdown",
      "metadata": {
        "id": "FYe3ojSBula_"
      },
      "source": [
        "#1.Mount"
      ]
    },
    {
      "cell_type": "code",
      "metadata": {
        "colab": {
          "base_uri": "https://localhost:8080/"
        },
        "id": "Rkn8as1cue8d",
        "outputId": "0273e6dc-1cc9-4326-8808-50b9409420b5"
      },
      "source": [
        "from google.colab import drive\n",
        "drive.mount('/content/drive')"
      ],
      "execution_count": null,
      "outputs": [
        {
          "output_type": "stream",
          "name": "stdout",
          "text": [
            "Mounted at /content/drive\n"
          ]
        }
      ]
    },
    {
      "cell_type": "code",
      "metadata": {
        "colab": {
          "base_uri": "https://localhost:8080/"
        },
        "id": "m6G9Q0CKvzjX",
        "outputId": "4354c620-880d-4e38-d347-aff168edf0bb"
      },
      "source": [
        "%cd /content/drive/MyDrive/Grammatical_Error_correction/"
      ],
      "execution_count": null,
      "outputs": [
        {
          "output_type": "stream",
          "name": "stdout",
          "text": [
            "/content/drive/MyDrive/Grammatical_Error_correction\n"
          ]
        }
      ]
    },
    {
      "cell_type": "markdown",
      "metadata": {
        "id": "1CyXikfvvV2T"
      },
      "source": [
        "#2.Imports and installations"
      ]
    },
    {
      "cell_type": "code",
      "metadata": {
        "id": "vZbm6J6bvOIM"
      },
      "source": [
        "import os\n",
        "import io\n",
        "import pickle\n",
        "import numpy as np\n",
        "import pandas as pd\n",
        "from tqdm import tqdm\n",
        "import matplotlib.pyplot as plt\n",
        "\n",
        "\n",
        "from sklearn.model_selection import train_test_split\n",
        "\n",
        "from tensorflow.keras.preprocessing.text import Tokenizer\n",
        "from tensorflow.keras.preprocessing.sequence import pad_sequences"
      ],
      "execution_count": null,
      "outputs": []
    },
    {
      "cell_type": "markdown",
      "metadata": {
        "id": "xNmVmYKBvhhx"
      },
      "source": [
        "#3.Define Constants"
      ]
    },
    {
      "cell_type": "code",
      "metadata": {
        "id": "NCueE_IMvgxf"
      },
      "source": [
        "DATA_PATH = '/content/drive/MyDrive/Grammatical_Error_correction/Data/csv_data/lang8/lang8_anno_id0_preprocessed_word.csv'\n",
        "CSV_PATH = '/content/drive/MyDrive/Grammatical_Error_correction/Data/csv_data/lang8'\n",
        "MAX_SEQ_LEN = 10 #50th percentile of incorrect sentence length\n",
        "START_TOKEN = '<start>'\n",
        "END_TOKEN = '<end>'"
      ],
      "execution_count": null,
      "outputs": []
    },
    {
      "cell_type": "markdown",
      "metadata": {
        "id": "V71f7MHwvuf8"
      },
      "source": [
        "#4.Read Data and Prepare data for model"
      ]
    },
    {
      "cell_type": "code",
      "metadata": {
        "id": "LPr4VbP6vv7L",
        "colab": {
          "base_uri": "https://localhost:8080/"
        },
        "outputId": "dfe19e50-372d-4a51-ba56-4af5695f86cc"
      },
      "source": [
        "data = pd.read_csv(DATA_PATH)\n",
        "data.shape"
      ],
      "execution_count": null,
      "outputs": [
        {
          "output_type": "execute_result",
          "data": {
            "text/plain": [
              "(929615, 7)"
            ]
          },
          "metadata": {},
          "execution_count": 5
        }
      ]
    },
    {
      "cell_type": "code",
      "metadata": {
        "colab": {
          "base_uri": "https://localhost:8080/",
          "height": 268
        },
        "id": "XWfTG3eXSaSZ",
        "outputId": "ad9172c6-1f3a-487a-ab97-4556762f2b1c"
      },
      "source": [
        "data.head()"
      ],
      "execution_count": null,
      "outputs": [
        {
          "output_type": "execute_result",
          "data": {
            "text/html": [
              "<div>\n",
              "<style scoped>\n",
              "    .dataframe tbody tr th:only-of-type {\n",
              "        vertical-align: middle;\n",
              "    }\n",
              "\n",
              "    .dataframe tbody tr th {\n",
              "        vertical-align: top;\n",
              "    }\n",
              "\n",
              "    .dataframe thead th {\n",
              "        text-align: right;\n",
              "    }\n",
              "</style>\n",
              "<table border=\"1\" class=\"dataframe\">\n",
              "  <thead>\n",
              "    <tr style=\"text-align: right;\">\n",
              "      <th></th>\n",
              "      <th>correct</th>\n",
              "      <th>incorrect</th>\n",
              "      <th>total_edits</th>\n",
              "      <th>incorrect_char_len</th>\n",
              "      <th>correct_char_len</th>\n",
              "      <th>incorrect_word_len</th>\n",
              "      <th>correct_word_len</th>\n",
              "    </tr>\n",
              "  </thead>\n",
              "  <tbody>\n",
              "    <tr>\n",
              "      <th>0</th>\n",
              "      <td>good luck on your new start !</td>\n",
              "      <td>good luck on your new start !</td>\n",
              "      <td>0</td>\n",
              "      <td>29</td>\n",
              "      <td>29</td>\n",
              "      <td>7</td>\n",
              "      <td>7</td>\n",
              "    </tr>\n",
              "    <tr>\n",
              "      <th>1</th>\n",
              "      <td>my teacher is going to move to change his job .</td>\n",
              "      <td>my teacher is going to move to change his job .</td>\n",
              "      <td>0</td>\n",
              "      <td>47</td>\n",
              "      <td>47</td>\n",
              "      <td>11</td>\n",
              "      <td>11</td>\n",
              "    </tr>\n",
              "    <tr>\n",
              "      <th>2</th>\n",
              "      <td>he is a so nice guy and taught me english very...</td>\n",
              "      <td>he is a so nice guy and taught me english very...</td>\n",
              "      <td>0</td>\n",
              "      <td>106</td>\n",
              "      <td>106</td>\n",
              "      <td>23</td>\n",
              "      <td>23</td>\n",
              "    </tr>\n",
              "    <tr>\n",
              "      <th>3</th>\n",
              "      <td>and he took in my favorite subjects like soccer .</td>\n",
              "      <td>and he took in my favorite subject like soccer .</td>\n",
              "      <td>1</td>\n",
              "      <td>48</td>\n",
              "      <td>49</td>\n",
              "      <td>10</td>\n",
              "      <td>10</td>\n",
              "    </tr>\n",
              "    <tr>\n",
              "      <th>4</th>\n",
              "      <td>actually , he was the one who let me know abou...</td>\n",
              "      <td>actually , who let me know about lang   was him .</td>\n",
              "      <td>2</td>\n",
              "      <td>49</td>\n",
              "      <td>58</td>\n",
              "      <td>11</td>\n",
              "      <td>14</td>\n",
              "    </tr>\n",
              "  </tbody>\n",
              "</table>\n",
              "</div>"
            ],
            "text/plain": [
              "                                             correct  ... correct_word_len\n",
              "0                      good luck on your new start !  ...                7\n",
              "1    my teacher is going to move to change his job .  ...               11\n",
              "2  he is a so nice guy and taught me english very...  ...               23\n",
              "3  and he took in my favorite subjects like soccer .  ...               10\n",
              "4  actually , he was the one who let me know abou...  ...               14\n",
              "\n",
              "[5 rows x 7 columns]"
            ]
          },
          "metadata": {},
          "execution_count": 6
        }
      ]
    },
    {
      "cell_type": "code",
      "metadata": {
        "colab": {
          "base_uri": "https://localhost:8080/"
        },
        "id": "ciDUQy-xSrp7",
        "outputId": "3b74aaf9-2234-449c-b066-daacd864f28a"
      },
      "source": [
        "data = data[data['incorrect_word_len'] <= MAX_SEQ_LEN]\n",
        "data.shape"
      ],
      "execution_count": null,
      "outputs": [
        {
          "output_type": "execute_result",
          "data": {
            "text/plain": [
              "(470503, 7)"
            ]
          },
          "metadata": {},
          "execution_count": 7
        }
      ]
    },
    {
      "cell_type": "code",
      "metadata": {
        "colab": {
          "base_uri": "https://localhost:8080/"
        },
        "id": "zKhuI4IuTuMR",
        "outputId": "ed22f3a5-1314-4d1e-fde3-17822db0b1af"
      },
      "source": [
        "data['total_edits'].value_counts(sort=True)"
      ],
      "execution_count": null,
      "outputs": [
        {
          "output_type": "execute_result",
          "data": {
            "text/plain": [
              "0     265930\n",
              "1     105284\n",
              "2      58520\n",
              "3      26688\n",
              "4       9872\n",
              "5       3052\n",
              "6        871\n",
              "7        209\n",
              "8         49\n",
              "9         14\n",
              "10         7\n",
              "11         4\n",
              "16         1\n",
              "14         1\n",
              "13         1\n",
              "Name: total_edits, dtype: int64"
            ]
          },
          "metadata": {},
          "execution_count": 16
        }
      ]
    },
    {
      "cell_type": "code",
      "metadata": {
        "colab": {
          "base_uri": "https://localhost:8080/",
          "height": 322
        },
        "id": "gpqiFAF6Sz-7",
        "outputId": "629025c4-d24c-42cd-89d0-ef45a2c521f9"
      },
      "source": [
        "fig, ax = plt.subplots(figsize=(20, 5))\n",
        "data['total_edits'].value_counts().plot(kind='bar', ax=ax, edgecolor='red', color='green')\n",
        "\n",
        "for p in ax.patches:\n",
        "  value = np.round(p.get_height() * 100/data.shape[0], 4)\n",
        "  ax.annotate(str(value), (p.get_x(), p.get_height() * 1.005))"
      ],
      "execution_count": null,
      "outputs": [
        {
          "output_type": "display_data",
          "data": {
            "image/png": "[encoded data removed]",
            "text/plain": [
              "<Figure size 1440x360 with 1 Axes>"
            ]
          },
          "metadata": {
            "needs_background": "light"
          }
        }
      ]
    },
    {
      "cell_type": "markdown",
      "metadata": {
        "id": "oNt23LwoVZvR"
      },
      "source": [
        "**Observation**: <br> \n",
        "1. Majority of sentences (half of the data points in our dataset) has total edits = 0, that is incorrect sentences == correct sentence.\n",
        "2. This will make the model bias. that is, it always gives output as same as input. \n",
        "3. Hence we need to decrease this count"
      ]
    },
    {
      "cell_type": "code",
      "metadata": {
        "colab": {
          "base_uri": "https://localhost:8080/"
        },
        "id": "Tu8X9CBuWNHF",
        "outputId": "ca191204-be55-43f6-89ce-c4f1606a807f"
      },
      "source": [
        "data2 = data.drop(data[data['total_edits'] == 0].sample(frac=0.98).index, inplace=False) #dropping 95% of data points whose total edits = 0\n",
        "data2.shape"
      ],
      "execution_count": null,
      "outputs": [
        {
          "output_type": "execute_result",
          "data": {
            "text/plain": [
              "(209892, 7)"
            ]
          },
          "metadata": {},
          "execution_count": 22
        }
      ]
    },
    {
      "cell_type": "code",
      "metadata": {
        "colab": {
          "base_uri": "https://localhost:8080/"
        },
        "id": "PGuVCHyKWP70",
        "outputId": "0af18807-c8b3-400a-f3d5-1d0229f19ed7"
      },
      "source": [
        "data2['total_edits'].value_counts(sort=True)"
      ],
      "execution_count": null,
      "outputs": [
        {
          "output_type": "execute_result",
          "data": {
            "text/plain": [
              "1     105284\n",
              "2      58520\n",
              "3      26688\n",
              "4       9872\n",
              "0       5319\n",
              "5       3052\n",
              "6        871\n",
              "7        209\n",
              "8         49\n",
              "9         14\n",
              "10         7\n",
              "11         4\n",
              "16         1\n",
              "14         1\n",
              "13         1\n",
              "Name: total_edits, dtype: int64"
            ]
          },
          "metadata": {},
          "execution_count": 23
        }
      ]
    },
    {
      "cell_type": "code",
      "metadata": {
        "colab": {
          "base_uri": "https://localhost:8080/",
          "height": 322
        },
        "id": "aph4wEPoY1HU",
        "outputId": "0516e429-6e15-4ac1-cce6-df37a0b9b29a"
      },
      "source": [
        "fig, ax = plt.subplots(figsize=(20, 5))\n",
        "data2['total_edits'].value_counts().plot(kind='bar', ax=ax, edgecolor='red', color='green')\n",
        "\n",
        "for p in ax.patches:\n",
        "  value = np.round(p.get_height() * 100/data.shape[0], 4)\n",
        "  ax.annotate(str(value), (p.get_x(), p.get_height() * 1.005))"
      ],
      "execution_count": null,
      "outputs": [
        {
          "output_type": "display_data",
          "data": {
            "image/png": "[encoded data removed]",
            "text/plain": [
              "<Figure size 1440x360 with 1 Axes>"
            ]
          },
          "metadata": {
            "needs_background": "light"
          }
        }
      ]
    },
    {
      "cell_type": "code",
      "metadata": {
        "colab": {
          "base_uri": "https://localhost:8080/"
        },
        "id": "L231JnODZe3o",
        "outputId": "00784908-bd53-4185-d537-34cdbc8a5ee2"
      },
      "source": [
        "data2.reset_index(inplace=True, drop=True)\n",
        "data2.shape"
      ],
      "execution_count": null,
      "outputs": [
        {
          "output_type": "execute_result",
          "data": {
            "text/plain": [
              "(209892, 7)"
            ]
          },
          "metadata": {},
          "execution_count": 25
        }
      ]
    },
    {
      "cell_type": "markdown",
      "metadata": {
        "id": "U9DWCbWnXbD_"
      },
      "source": [
        "#5.Train validation and Test split"
      ]
    },
    {
      "cell_type": "code",
      "metadata": {
        "colab": {
          "base_uri": "https://localhost:8080/"
        },
        "id": "Dgf3pIW9XBPf",
        "outputId": "3a0f209a-a8cc-461a-dcf1-250193c59a97"
      },
      "source": [
        "train, test = train_test_split(data2, test_size=0.05)\n",
        "train, validation = train_test_split(train, test_size = 0.1)\n",
        "\n",
        "\n",
        "print(\"SHAPES\")\n",
        "print(\"=\"*100)\n",
        "print(\"Train: \", train.shape)\n",
        "print(\"Validation: \", validation.shape)\n",
        "print(\"Test: \", test.shape)"
      ],
      "execution_count": null,
      "outputs": [
        {
          "output_type": "stream",
          "name": "stdout",
          "text": [
            "SHAPES\n",
            "====================================================================================================\n",
            "Train:  (179457, 7)\n",
            "Validation:  (19940, 7)\n",
            "Test:  (10495, 7)\n"
          ]
        }
      ]
    },
    {
      "cell_type": "code",
      "metadata": {
        "colab": {
          "base_uri": "https://localhost:8080/",
          "height": 235
        },
        "id": "tTRxwb52ZMpA",
        "outputId": "6d070178-f84a-433b-d029-ab72cba2bb4e"
      },
      "source": [
        "train.head()"
      ],
      "execution_count": null,
      "outputs": [
        {
          "output_type": "execute_result",
          "data": {
            "text/html": [
              "<div>\n",
              "<style scoped>\n",
              "    .dataframe tbody tr th:only-of-type {\n",
              "        vertical-align: middle;\n",
              "    }\n",
              "\n",
              "    .dataframe tbody tr th {\n",
              "        vertical-align: top;\n",
              "    }\n",
              "\n",
              "    .dataframe thead th {\n",
              "        text-align: right;\n",
              "    }\n",
              "</style>\n",
              "<table border=\"1\" class=\"dataframe\">\n",
              "  <thead>\n",
              "    <tr style=\"text-align: right;\">\n",
              "      <th></th>\n",
              "      <th>correct</th>\n",
              "      <th>incorrect</th>\n",
              "      <th>total_edits</th>\n",
              "      <th>incorrect_char_len</th>\n",
              "      <th>correct_char_len</th>\n",
              "      <th>incorrect_word_len</th>\n",
              "      <th>correct_word_len</th>\n",
              "    </tr>\n",
              "  </thead>\n",
              "  <tbody>\n",
              "    <tr>\n",
              "      <th>91083</th>\n",
              "      <td>it has been raining almost all day long today .</td>\n",
              "      <td>i has been raining almost all day long today .</td>\n",
              "      <td>1</td>\n",
              "      <td>46</td>\n",
              "      <td>47</td>\n",
              "      <td>10</td>\n",
              "      <td>10</td>\n",
              "    </tr>\n",
              "    <tr>\n",
              "      <th>198663</th>\n",
              "      <td>yesterday , it was raining .</td>\n",
              "      <td>yester day , it was raining .</td>\n",
              "      <td>2</td>\n",
              "      <td>29</td>\n",
              "      <td>28</td>\n",
              "      <td>7</td>\n",
              "      <td>6</td>\n",
              "    </tr>\n",
              "    <tr>\n",
              "      <th>186376</th>\n",
              "      <td>heaven is over . . . .</td>\n",
              "      <td>heven is over . . . .</td>\n",
              "      <td>1</td>\n",
              "      <td>21</td>\n",
              "      <td>22</td>\n",
              "      <td>7</td>\n",
              "      <td>7</td>\n",
              "    </tr>\n",
              "    <tr>\n",
              "      <th>195242</th>\n",
              "      <td>i thought , `` how frustrating ! ``</td>\n",
              "      <td>i thought how frustrating ! !</td>\n",
              "      <td>2</td>\n",
              "      <td>29</td>\n",
              "      <td>35</td>\n",
              "      <td>6</td>\n",
              "      <td>8</td>\n",
              "    </tr>\n",
              "    <tr>\n",
              "      <th>107407</th>\n",
              "      <td>i know how to make a good coffee now ,</td>\n",
              "      <td>i know to make a good coffee now .</td>\n",
              "      <td>2</td>\n",
              "      <td>34</td>\n",
              "      <td>38</td>\n",
              "      <td>9</td>\n",
              "      <td>10</td>\n",
              "    </tr>\n",
              "  </tbody>\n",
              "</table>\n",
              "</div>"
            ],
            "text/plain": [
              "                                                correct  ... correct_word_len\n",
              "91083   it has been raining almost all day long today .  ...               10\n",
              "198663                     yesterday , it was raining .  ...                6\n",
              "186376                           heaven is over . . . .  ...                7\n",
              "195242              i thought , `` how frustrating ! ``  ...                8\n",
              "107407           i know how to make a good coffee now ,  ...               10\n",
              "\n",
              "[5 rows x 7 columns]"
            ]
          },
          "metadata": {},
          "execution_count": 30
        }
      ]
    },
    {
      "cell_type": "code",
      "metadata": {
        "colab": {
          "base_uri": "https://localhost:8080/",
          "height": 268
        },
        "id": "5JwkMJbeZWbC",
        "outputId": "c86f4b3d-9710-4a11-9532-8329504daf58"
      },
      "source": [
        "validation.head()"
      ],
      "execution_count": null,
      "outputs": [
        {
          "output_type": "execute_result",
          "data": {
            "text/html": [
              "<div>\n",
              "<style scoped>\n",
              "    .dataframe tbody tr th:only-of-type {\n",
              "        vertical-align: middle;\n",
              "    }\n",
              "\n",
              "    .dataframe tbody tr th {\n",
              "        vertical-align: top;\n",
              "    }\n",
              "\n",
              "    .dataframe thead th {\n",
              "        text-align: right;\n",
              "    }\n",
              "</style>\n",
              "<table border=\"1\" class=\"dataframe\">\n",
              "  <thead>\n",
              "    <tr style=\"text-align: right;\">\n",
              "      <th></th>\n",
              "      <th>correct</th>\n",
              "      <th>incorrect</th>\n",
              "      <th>total_edits</th>\n",
              "      <th>incorrect_char_len</th>\n",
              "      <th>correct_char_len</th>\n",
              "      <th>incorrect_word_len</th>\n",
              "      <th>correct_word_len</th>\n",
              "    </tr>\n",
              "  </thead>\n",
              "  <tbody>\n",
              "    <tr>\n",
              "      <th>119132</th>\n",
              "      <td>i am a college student from china .</td>\n",
              "      <td>i am a college student frome china .</td>\n",
              "      <td>1</td>\n",
              "      <td>36</td>\n",
              "      <td>35</td>\n",
              "      <td>8</td>\n",
              "      <td>8</td>\n",
              "    </tr>\n",
              "    <tr>\n",
              "      <th>47253</th>\n",
              "      <td>the first day in lang</td>\n",
              "      <td>the first day in lang</td>\n",
              "      <td>0</td>\n",
              "      <td>21</td>\n",
              "      <td>21</td>\n",
              "      <td>5</td>\n",
              "      <td>5</td>\n",
              "    </tr>\n",
              "    <tr>\n",
              "      <th>291</th>\n",
              "      <td>i dreamed about her the night before yesterday .</td>\n",
              "      <td>i dreamed her the night before yesterday .</td>\n",
              "      <td>1</td>\n",
              "      <td>42</td>\n",
              "      <td>48</td>\n",
              "      <td>8</td>\n",
              "      <td>9</td>\n",
              "    </tr>\n",
              "    <tr>\n",
              "      <th>55531</th>\n",
              "      <td>today  is topic was `` the circulatory system ...</td>\n",
              "      <td>today  is topic was `` the circulatory system ...</td>\n",
              "      <td>4</td>\n",
              "      <td>50</td>\n",
              "      <td>51</td>\n",
              "      <td>10</td>\n",
              "      <td>10</td>\n",
              "    </tr>\n",
              "    <tr>\n",
              "      <th>28429</th>\n",
              "      <td>my husband took some photographs during the su...</td>\n",
              "      <td>when operating , my husband took the photograph .</td>\n",
              "      <td>4</td>\n",
              "      <td>49</td>\n",
              "      <td>53</td>\n",
              "      <td>9</td>\n",
              "      <td>9</td>\n",
              "    </tr>\n",
              "  </tbody>\n",
              "</table>\n",
              "</div>"
            ],
            "text/plain": [
              "                                                  correct  ... correct_word_len\n",
              "119132                i am a college student from china .  ...                8\n",
              "47253                               the first day in lang  ...                5\n",
              "291      i dreamed about her the night before yesterday .  ...                9\n",
              "55531   today  is topic was `` the circulatory system ...  ...               10\n",
              "28429   my husband took some photographs during the su...  ...                9\n",
              "\n",
              "[5 rows x 7 columns]"
            ]
          },
          "metadata": {},
          "execution_count": 31
        }
      ]
    },
    {
      "cell_type": "code",
      "metadata": {
        "id": "hZNQWY4YZ2kO"
      },
      "source": [
        "train.to_csv(os.path.join(CSV_PATH, 'train.csv'), index=False)\n",
        "validation.to_csv(os.path.join(CSV_PATH, 'validation.csv'), index=False)\n",
        "test.to_csv(os.path.join(CSV_PATH, 'test.csv'), index=False)"
      ],
      "execution_count": null,
      "outputs": []
    },
    {
      "cell_type": "code",
      "metadata": {
        "id": "9p2htIA6T7uy"
      },
      "source": [
        "#load \n",
        "train = pd.read_csv(os.path.join(CSV_PATH, 'train.csv'))\n",
        "validation = pd.read_csv(os.path.join(CSV_PATH, 'validation.csv'))\n",
        "test = pd.read_csv(os.path.join(CSV_PATH, 'test.csv'))\n",
        "\n",
        "sample = pd.read_csv(os.path.join(CSV_PATH, 'train.csv'), nrows=16)"
      ],
      "execution_count": null,
      "outputs": []
    },
    {
      "cell_type": "markdown",
      "metadata": {
        "id": "T7qKImkGbZIi"
      },
      "source": [
        "#6.Tokenization"
      ]
    },
    {
      "cell_type": "code",
      "metadata": {
        "id": "L6s2W9baawJW"
      },
      "source": [
        "train['decoder_inp'] = START_TOKEN + ' ' + train['correct'].astype(str)\n",
        "train['decoder_out'] = train['correct'].astype(str) +' ' + END_TOKEN\n",
        "\n",
        "validation['decoder_inp'] = START_TOKEN + ' ' + validation['correct'].astype(str)\n",
        "validation['decoder_out'] = validation['correct'].astype(str) + ' ' + END_TOKEN\n",
        "\n",
        "\n",
        "sample['decoder_inp'] = START_TOKEN + ' ' + sample['correct'].astype(str)\n",
        "sample['decoder_out'] = sample['correct'].astype(str) + ' ' + END_TOKEN"
      ],
      "execution_count": null,
      "outputs": []
    },
    {
      "cell_type": "code",
      "metadata": {
        "colab": {
          "base_uri": "https://localhost:8080/",
          "height": 177
        },
        "id": "D4xt4aHSfOsW",
        "outputId": "dca557c4-fc25-4aaa-8c86-d356092e9e50"
      },
      "source": [
        "train.head(2)"
      ],
      "execution_count": null,
      "outputs": [
        {
          "output_type": "execute_result",
          "data": {
            "text/html": [
              "<div>\n",
              "<style scoped>\n",
              "    .dataframe tbody tr th:only-of-type {\n",
              "        vertical-align: middle;\n",
              "    }\n",
              "\n",
              "    .dataframe tbody tr th {\n",
              "        vertical-align: top;\n",
              "    }\n",
              "\n",
              "    .dataframe thead th {\n",
              "        text-align: right;\n",
              "    }\n",
              "</style>\n",
              "<table border=\"1\" class=\"dataframe\">\n",
              "  <thead>\n",
              "    <tr style=\"text-align: right;\">\n",
              "      <th></th>\n",
              "      <th>correct</th>\n",
              "      <th>incorrect</th>\n",
              "      <th>total_edits</th>\n",
              "      <th>incorrect_char_len</th>\n",
              "      <th>correct_char_len</th>\n",
              "      <th>incorrect_word_len</th>\n",
              "      <th>correct_word_len</th>\n",
              "      <th>decoder_inp</th>\n",
              "      <th>decoder_out</th>\n",
              "    </tr>\n",
              "  </thead>\n",
              "  <tbody>\n",
              "    <tr>\n",
              "      <th>0</th>\n",
              "      <td>it has been raining almost all day long today .</td>\n",
              "      <td>i has been raining almost all day long today .</td>\n",
              "      <td>1</td>\n",
              "      <td>46</td>\n",
              "      <td>47</td>\n",
              "      <td>10</td>\n",
              "      <td>10</td>\n",
              "      <td>&lt;start&gt; it has been raining almost all day lon...</td>\n",
              "      <td>it has been raining almost all day long today ...</td>\n",
              "    </tr>\n",
              "    <tr>\n",
              "      <th>1</th>\n",
              "      <td>yesterday , it was raining .</td>\n",
              "      <td>yester day , it was raining .</td>\n",
              "      <td>2</td>\n",
              "      <td>29</td>\n",
              "      <td>28</td>\n",
              "      <td>7</td>\n",
              "      <td>6</td>\n",
              "      <td>&lt;start&gt; yesterday , it was raining .</td>\n",
              "      <td>yesterday , it was raining . &lt;end&gt;</td>\n",
              "    </tr>\n",
              "  </tbody>\n",
              "</table>\n",
              "</div>"
            ],
            "text/plain": [
              "                                           correct  ...                                        decoder_out\n",
              "0  it has been raining almost all day long today .  ...  it has been raining almost all day long today ...\n",
              "1                     yesterday , it was raining .  ...                 yesterday , it was raining . <end>\n",
              "\n",
              "[2 rows x 9 columns]"
            ]
          },
          "metadata": {},
          "execution_count": 37
        }
      ]
    },
    {
      "cell_type": "code",
      "metadata": {
        "colab": {
          "base_uri": "https://localhost:8080/",
          "height": 177
        },
        "id": "n2O9KOYlfQkW",
        "outputId": "eabf5f10-a27e-4876-bc7c-0677c8a00d42"
      },
      "source": [
        "validation.head(2)"
      ],
      "execution_count": null,
      "outputs": [
        {
          "output_type": "execute_result",
          "data": {
            "text/html": [
              "<div>\n",
              "<style scoped>\n",
              "    .dataframe tbody tr th:only-of-type {\n",
              "        vertical-align: middle;\n",
              "    }\n",
              "\n",
              "    .dataframe tbody tr th {\n",
              "        vertical-align: top;\n",
              "    }\n",
              "\n",
              "    .dataframe thead th {\n",
              "        text-align: right;\n",
              "    }\n",
              "</style>\n",
              "<table border=\"1\" class=\"dataframe\">\n",
              "  <thead>\n",
              "    <tr style=\"text-align: right;\">\n",
              "      <th></th>\n",
              "      <th>correct</th>\n",
              "      <th>incorrect</th>\n",
              "      <th>total_edits</th>\n",
              "      <th>incorrect_char_len</th>\n",
              "      <th>correct_char_len</th>\n",
              "      <th>incorrect_word_len</th>\n",
              "      <th>correct_word_len</th>\n",
              "      <th>decoder_inp</th>\n",
              "      <th>decoder_out</th>\n",
              "    </tr>\n",
              "  </thead>\n",
              "  <tbody>\n",
              "    <tr>\n",
              "      <th>0</th>\n",
              "      <td>i am a college student from china .</td>\n",
              "      <td>i am a college student frome china .</td>\n",
              "      <td>1</td>\n",
              "      <td>36</td>\n",
              "      <td>35</td>\n",
              "      <td>8</td>\n",
              "      <td>8</td>\n",
              "      <td>&lt;start&gt; i am a college student from china .</td>\n",
              "      <td>i am a college student from china . &lt;end&gt;</td>\n",
              "    </tr>\n",
              "    <tr>\n",
              "      <th>1</th>\n",
              "      <td>the first day in lang</td>\n",
              "      <td>the first day in lang</td>\n",
              "      <td>0</td>\n",
              "      <td>21</td>\n",
              "      <td>21</td>\n",
              "      <td>5</td>\n",
              "      <td>5</td>\n",
              "      <td>&lt;start&gt; the first day in lang</td>\n",
              "      <td>the first day in lang &lt;end&gt;</td>\n",
              "    </tr>\n",
              "  </tbody>\n",
              "</table>\n",
              "</div>"
            ],
            "text/plain": [
              "                               correct  ...                                decoder_out\n",
              "0  i am a college student from china .  ...  i am a college student from china . <end>\n",
              "1                the first day in lang  ...                the first day in lang <end>\n",
              "\n",
              "[2 rows x 9 columns]"
            ]
          },
          "metadata": {},
          "execution_count": 38
        }
      ]
    },
    {
      "cell_type": "code",
      "metadata": {
        "id": "UsXb4RQFij3f"
      },
      "source": [
        "tokenizer_encoder = Tokenizer(filters='', lower=True)\n",
        "tokenizer_encoder.fit_on_texts(train['incorrect'].values.tolist())\n",
        "\n",
        "tokenizer_decoder = Tokenizer(filters='', lower=True)\n",
        "tokenizer_decoder.fit_on_texts(train['decoder_inp'].values.tolist())"
      ],
      "execution_count": null,
      "outputs": []
    },
    {
      "cell_type": "code",
      "metadata": {
        "colab": {
          "base_uri": "https://localhost:8080/"
        },
        "id": "E2NtObdMkJ3k",
        "outputId": "87871d61-3b88-491f-e635-2b5be50d70a8"
      },
      "source": [
        "print(f'Vocab size of encoder is: {len(tokenizer_encoder.word_index)}')\n",
        "print(f'Vocab size of decoder is: {len(tokenizer_decoder.word_index)}')"
      ],
      "execution_count": null,
      "outputs": [
        {
          "output_type": "stream",
          "name": "stdout",
          "text": [
            "Vocab size of encoder is: 37462\n",
            "Vocab size of decoder is: 29022\n"
          ]
        }
      ]
    },
    {
      "cell_type": "code",
      "metadata": {
        "colab": {
          "base_uri": "https://localhost:8080/"
        },
        "id": "9VKA3dFJoQUB",
        "outputId": "87b617ca-ea75-4495-b362-19449c5615e9"
      },
      "source": [
        "tokenizer_decoder.word_index[START_TOKEN], tokenizer_decoder.word_index.get(END_TOKEN, None)"
      ],
      "execution_count": null,
      "outputs": [
        {
          "output_type": "execute_result",
          "data": {
            "text/plain": [
              "(1, None)"
            ]
          },
          "metadata": {},
          "execution_count": 41
        }
      ]
    },
    {
      "cell_type": "markdown",
      "metadata": {
        "id": "y1SXGc4ToNlP"
      },
      "source": [
        "**Observation:** <br> \n",
        "1. We can see Encoder tokenizer size is more than Decoder tokenizer size. \n",
        "2. This is because encoder contains misspelling words.\n",
        "3. We do not have index for \\<END\\> token, lets add it\n"
      ]
    },
    {
      "cell_type": "code",
      "metadata": {
        "colab": {
          "base_uri": "https://localhost:8080/"
        },
        "id": "e3zMBLtMmQK1",
        "outputId": "2ff54097-4409-4646-fda4-59b8727bcd43"
      },
      "source": [
        " tokenizer_decoder.word_index[END_TOKEN] = len(tokenizer_decoder.word_index) + 1\n",
        " print(f'Vocab size of decoder is: {len(tokenizer_decoder.word_index)}')\n",
        "\n",
        " print(\"\\n\\n\")\n",
        " tokenizer_decoder.word_index[START_TOKEN], tokenizer_decoder.word_index.get(END_TOKEN, None)"
      ],
      "execution_count": null,
      "outputs": [
        {
          "output_type": "stream",
          "name": "stdout",
          "text": [
            "Vocab size of decoder is: 29023\n",
            "\n",
            "\n",
            "\n"
          ]
        },
        {
          "output_type": "execute_result",
          "data": {
            "text/plain": [
              "(1, 29023)"
            ]
          },
          "metadata": {},
          "execution_count": 42
        }
      ]
    },
    {
      "cell_type": "code",
      "metadata": {
        "id": "LroICzS2rbO_"
      },
      "source": [
        "#save \n",
        "\n",
        "with open('./checkpoints/lang8/tokenizer_encoder_word_level.pickle', 'wb') as fp:\n",
        "  pickle.dump(tokenizer_encoder, fp)\n",
        "\n",
        "with open('./checkpoints/lang8/tokenizer_decoder_word_level.pickle', 'wb') as fp:\n",
        "  pickle.dump(tokenizer_decoder, fp)"
      ],
      "execution_count": null,
      "outputs": []
    },
    {
      "cell_type": "code",
      "metadata": {
        "id": "PTp8LiNjsgVK"
      },
      "source": [
        "# #load\n",
        "\n",
        "# with open('./checkpoints/lang8/tokenizer_encoder_word_level.pickle', 'rb') as fp:\n",
        "#   tokenizer_encoder = pickle.load(fp)\n",
        "\n",
        "# with open('./checkpoints/lang8/tokenizer_decoder_word_level.pickle','rb') as fp:\n",
        "#   tokenizer_decoder = pickle.load(fp)"
      ],
      "execution_count": null,
      "outputs": []
    },
    {
      "cell_type": "code",
      "metadata": {
        "id": "f5nO0LhexUD9"
      },
      "source": [
        "#training dataset\n",
        "train_encoder_inp = tokenizer_encoder.texts_to_sequences(train['incorrect'].values.tolist())\n",
        "train_decoder_inp = tokenizer_decoder.texts_to_sequences(train['decoder_inp'].values.tolist())\n",
        "train_decoder_out = tokenizer_decoder.texts_to_sequences(train['decoder_out'].values.tolist())\n",
        "\n",
        "#for decoder inp and output +1 is added, because of <start> and <end> token\n",
        "train_encoder_inp = pad_sequences(train_encoder_inp, maxlen=MAX_SEQ_LEN, dtype='int32', padding='post', truncating='post', value=0)\n",
        "train_decoder_inp = pad_sequences(train_decoder_inp, maxlen=MAX_SEQ_LEN+1, dtype='int32', padding='post', truncating='post', value=0)\n",
        "train_decoder_out = pad_sequences(train_decoder_out, maxlen=MAX_SEQ_LEN+1, dtype='int32', padding='post', truncating='post', value=0)\n",
        "\n",
        "\n",
        "#validation dataset\n",
        "validation_encoder_inp = tokenizer_encoder.texts_to_sequences(validation['incorrect'].values.tolist())\n",
        "validation_decoder_inp = tokenizer_decoder.texts_to_sequences(validation['decoder_inp'].values.tolist())\n",
        "validation_decoder_out = tokenizer_decoder.texts_to_sequences(validation['decoder_out'].values.tolist())\n",
        "\n",
        "validation_encoder_inp = pad_sequences(validation_encoder_inp, maxlen=MAX_SEQ_LEN, dtype='int32', padding='post', truncating='post', value=0)\n",
        "validation_decoder_inp = pad_sequences(validation_decoder_inp, maxlen=MAX_SEQ_LEN+1, dtype='int32', padding='post', truncating='post', value=0)\n",
        "validation_decoder_out = pad_sequences(validation_decoder_out, maxlen=MAX_SEQ_LEN+1, dtype='int32', padding='post', truncating='post', value=0)"
      ],
      "execution_count": null,
      "outputs": []
    },
    {
      "cell_type": "code",
      "metadata": {
        "id": "oVDFVSX7NWuZ"
      },
      "source": [
        "sample_encoder_inp = tokenizer_encoder.texts_to_sequences(sample['incorrect'].values.tolist())\n",
        "sample_decoder_inp = tokenizer_decoder.texts_to_sequences(sample['decoder_inp'].values.tolist())\n",
        "sample_decoder_out = tokenizer_decoder.texts_to_sequences(sample['decoder_out'].values.tolist())\n",
        "\n",
        "sample_encoder_inp = pad_sequences(sample_encoder_inp, maxlen=MAX_SEQ_LEN, dtype='int32', padding='post', truncating='post', value=0)\n",
        "sample_decoder_inp = pad_sequences(sample_decoder_inp, maxlen=MAX_SEQ_LEN+1, dtype='int32', padding='post', truncating='post', value=0)\n",
        "sample_decoder_out = pad_sequences(sample_decoder_out, maxlen=MAX_SEQ_LEN+1, dtype='int32', padding='post', truncating='post', value=0)"
      ],
      "execution_count": null,
      "outputs": []
    },
    {
      "cell_type": "code",
      "metadata": {
        "id": "lTgLBA4H0RDB"
      },
      "source": [
        "#save \n",
        "np.save('./Data/numpy_array/train_encoder_inp.npy', train_encoder_inp)\n",
        "np.save('./Data/numpy_array/train_decoder_inp.npy', train_decoder_inp)\n",
        "np.save('./Data/numpy_array/train_decoder_out.npy', train_decoder_out)\n",
        "\n",
        "np.save('./Data/numpy_array/validation_encoder_inp.npy', validation_encoder_inp)\n",
        "np.save('./Data/numpy_array/validation_decoder_inp.npy', validation_decoder_inp)\n",
        "np.save('./Data/numpy_array/validation_decoder_out.npy', validation_decoder_out)"
      ],
      "execution_count": null,
      "outputs": []
    },
    {
      "cell_type": "code",
      "metadata": {
        "id": "PZ_vK1bjN6tF"
      },
      "source": [
        "np.save('./Data/numpy_array/sample_encoder_inp.npy', sample_encoder_inp)\n",
        "np.save('./Data/numpy_array/sample_decoder_inp.npy', sample_decoder_inp)\n",
        "np.save('./Data/numpy_array/sample_decoder_out.npy', sample_decoder_out)"
      ],
      "execution_count": null,
      "outputs": []
    },
    {
      "cell_type": "markdown",
      "metadata": {
        "id": "Bz8zLwKC6J0F"
      },
      "source": [
        "#7.FastText Embeddings"
      ]
    },
    {
      "cell_type": "code",
      "metadata": {
        "colab": {
          "base_uri": "https://localhost:8080/"
        },
        "id": "PF4kswZg2RYJ",
        "outputId": "b91531ac-4911-4cb0-9469-7fb3e1442f82"
      },
      "source": [
        "def load_vectors(fname):\n",
        "    fin = io.open(fname, 'r', encoding='utf-8', newline='\\n', errors='ignore')\n",
        "    n, d = map(int, fin.readline().split())\n",
        "    print(f\"There are {n} number of words and their representation dim is {d} \\n\\n\")\n",
        "    data = {}\n",
        "    for line in tqdm(fin):\n",
        "        tokens = line.rstrip().split(' ')\n",
        "        data[tokens[0]] = np.array(list(tokens[1:]), dtype='float32')\n",
        "    return data\n",
        "\n",
        "fasttext_fname = './wiki-news-300d-1M-subword.vec'\n",
        "\n",
        "fasttext_word2vec = load_vectors(fasttext_fname)"
      ],
      "execution_count": null,
      "outputs": [
        {
          "output_type": "stream",
          "name": "stdout",
          "text": [
            "There are 999994 number of words and their representation dim is 300 \n",
            "\n",
            "\n"
          ]
        },
        {
          "output_type": "stream",
          "name": "stderr",
          "text": [
            "999994it [01:39, 10001.61it/s]\n"
          ]
        }
      ]
    },
    {
      "cell_type": "code",
      "metadata": {
        "colab": {
          "base_uri": "https://localhost:8080/"
        },
        "id": "LeFX2B6o7ExN",
        "outputId": "d4c2d0bc-e3f0-441d-f68d-21e60cf3bffd"
      },
      "source": [
        "encoder_emb_matrix = np.zeros(shape=(len(tokenizer_encoder.word_index)+1,300)) #+1 is added to include PAD token\n",
        "decoder_emb_matrix = np.zeros(shape=(len(tokenizer_decoder.word_index)+1,300)) #+1 is added to include PAD token\n",
        "\n",
        "not_found = 0\n",
        "not_found_list = []\n",
        "for word, idx in tqdm(tokenizer_encoder.word_index.items()):\n",
        "  vec = fasttext_word2vec.get(word)\n",
        "  if vec is not None:\n",
        "     encoder_emb_matrix[idx] = vec\n",
        "  else:\n",
        "    not_found+=1\n",
        "    not_found_list.append(word)\n",
        "\n",
        "print(\"\\n\")\n",
        "print(f'{not_found} number of words did not got representation from FastText library')\n",
        "print(f'{np.round((not_found/len(tokenizer_encoder.word_index))*100,2)} % of words did not got representation from FastText library')"
      ],
      "execution_count": null,
      "outputs": [
        {
          "output_type": "stream",
          "name": "stderr",
          "text": [
            "100%|██████████| 37462/37462 [00:00<00:00, 440431.49it/s]"
          ]
        },
        {
          "output_type": "stream",
          "name": "stdout",
          "text": [
            "\n",
            "\n",
            "13113 number of words did not got representation from FastText library\n",
            "35.0 % of words did not got representation from FastText library\n"
          ]
        },
        {
          "output_type": "stream",
          "name": "stderr",
          "text": [
            "\n"
          ]
        }
      ]
    },
    {
      "cell_type": "code",
      "metadata": {
        "colab": {
          "base_uri": "https://localhost:8080/"
        },
        "id": "VKUzB_bz8GXs",
        "outputId": "966cd5f5-23b9-4a83-8b03-1e77f9af3332"
      },
      "source": [
        "not_found = 0\n",
        "not_found_list_de = []\n",
        "for word, idx in tqdm(tokenizer_decoder.word_index.items()):\n",
        "  vec = fasttext_word2vec.get(word)\n",
        "  if vec is not None:\n",
        "     decoder_emb_matrix[idx] = vec\n",
        "  else:\n",
        "    not_found+=1\n",
        "    not_found_list_de.append(word)\n",
        "\n",
        "print(\"\\n\")\n",
        "print(f'{not_found} number of words did not got representation from FastText library')\n",
        "print(f'{np.round((not_found/len(tokenizer_decoder.word_index))*100,2)} % of words did not got representation from FastText library')"
      ],
      "execution_count": null,
      "outputs": [
        {
          "output_type": "stream",
          "name": "stderr",
          "text": [
            "100%|██████████| 29023/29023 [00:00<00:00, 399879.39it/s]"
          ]
        },
        {
          "output_type": "stream",
          "name": "stdout",
          "text": [
            "\n",
            "\n",
            "6964 number of words did not got representation from FastText library\n",
            "23.99 % of words did not got representation from FastText library\n"
          ]
        },
        {
          "output_type": "stream",
          "name": "stderr",
          "text": [
            "\n"
          ]
        }
      ]
    },
    {
      "cell_type": "code",
      "metadata": {
        "id": "ArA0AG5M8K6D"
      },
      "source": [
        "np.save('./Data/numpy_array/encoder_embeddings.npy', encoder_emb_matrix)\n",
        "np.save('./Data/numpy_array/decoder_embeddings.npy', decoder_emb_matrix)"
      ],
      "execution_count": null,
      "outputs": []
    },
    {
      "cell_type": "code",
      "metadata": {
        "id": "vBRqRy1Wvx8m"
      },
      "source": [
        ""
      ],
      "execution_count": null,
      "outputs": []
    }
  ]
}