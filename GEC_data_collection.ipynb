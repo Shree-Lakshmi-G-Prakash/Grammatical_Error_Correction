{
  "nbformat": 4,
  "nbformat_minor": 0,
  "metadata": {
    "colab": {
      "name": "GEC_data_collection.ipynb",
      "provenance": [],
      "collapsed_sections": [],
      "toc_visible": true
    },
    "kernelspec": {
      "name": "python3",
      "display_name": "Python 3"
    },
    "language_info": {
      "name": "python"
    }
  },
  "cells": [
    {
      "cell_type": "markdown",
      "metadata": {
        "id": "E3H8wLtq4QP7"
      },
      "source": [
        "#1.Mount"
      ]
    },
    {
      "cell_type": "code",
      "metadata": {
        "id": "V3iRN1c64ISD"
      },
      "source": [
        "from google.colab import drive\n",
        "drive.mount('/content/drive')"
      ],
      "execution_count": null,
      "outputs": []
    },
    {
      "cell_type": "code",
      "metadata": {
        "colab": {
          "base_uri": "https://localhost:8080/"
        },
        "id": "76y-Hahw4XPJ",
        "outputId": "1efeac93-865d-43e9-ff3a-71dac61b9a5f"
      },
      "source": [
        "%cd drive/MyDrive/Grammatical_Error_correction/"
      ],
      "execution_count": null,
      "outputs": [
        {
          "output_type": "stream",
          "text": [
            "/content/drive/MyDrive/Grammatical_Error_correction\n"
          ],
          "name": "stdout"
        }
      ]
    },
    {
      "cell_type": "markdown",
      "metadata": {
        "id": "4H4Uf2mCAOOl"
      },
      "source": [
        "#2.Import and Installations"
      ]
    },
    {
      "cell_type": "code",
      "metadata": {
        "id": "kVkQR5xMAXWJ"
      },
      "source": [
        "import pandas as pd"
      ],
      "execution_count": null,
      "outputs": []
    },
    {
      "cell_type": "markdown",
      "metadata": {
        "id": "Sshq0kNq5DlV"
      },
      "source": [
        "#3.Download data"
      ]
    },
    {
      "cell_type": "markdown",
      "metadata": {
        "id": "WDldAv1k6gOE"
      },
      "source": [
        "wget used to get data from web. \n",
        "syntax: wget <path> -P <path> <br>\n",
        "-P --> path to download file"
      ]
    },
    {
      "cell_type": "code",
      "metadata": {
        "colab": {
          "base_uri": "https://localhost:8080/"
        },
        "id": "nTT9M0NZ4_se",
        "outputId": "80854728-716a-46c7-c26f-117618df351c"
      },
      "source": [
        "!wget https://www.comp.nus.edu.sg/~nlp/conll14st/conll14st-test-data.tar.gz -P /content/drive/MyDrive/Grammatical_Error_correction/Data/"
      ],
      "execution_count": null,
      "outputs": [
        {
          "output_type": "stream",
          "text": [
            "--2021-06-21 15:02:29--  https://www.comp.nus.edu.sg/~nlp/conll14st/conll14st-test-data.tar.gz\n",
            "Resolving www.comp.nus.edu.sg (www.comp.nus.edu.sg)... 45.60.35.225\n",
            "Connecting to www.comp.nus.edu.sg (www.comp.nus.edu.sg)|45.60.35.225|:443... connected.\n",
            "HTTP request sent, awaiting response... 200 OK\n",
            "Length: 643482 (628K) [application/x-gzip]\n",
            "Saving to: ‘/content/drive/MyDrive/Grammatical_Error_correction/Data/conll14st-test-data.tar.gz.1’\n",
            "\n",
            "conll14st-test-data 100%[===================>] 628.40K   303KB/s    in 2.1s    \n",
            "\n",
            "2021-06-21 15:02:32 (303 KB/s) - ‘/content/drive/MyDrive/Grammatical_Error_correction/Data/conll14st-test-data.tar.gz.1’ saved [643482/643482]\n",
            "\n"
          ],
          "name": "stdout"
        }
      ]
    },
    {
      "cell_type": "code",
      "metadata": {
        "colab": {
          "base_uri": "https://localhost:8080/"
        },
        "id": "U1CD-Gag7J8l",
        "outputId": "5c741ccc-f209-4d91-a8fc-bc14c0d04b96"
      },
      "source": [
        "!pwd"
      ],
      "execution_count": null,
      "outputs": [
        {
          "output_type": "stream",
          "text": [
            "/content/drive/My Drive/Grammatical_Error_correction\n"
          ],
          "name": "stdout"
        }
      ]
    },
    {
      "cell_type": "code",
      "metadata": {
        "colab": {
          "base_uri": "https://localhost:8080/"
        },
        "id": "tIcIrpQj5Rh8",
        "outputId": "56cb7acb-c5dd-415e-8e1a-67c4de5b075a"
      },
      "source": [
        "!tar -xvzf '/content/drive/My Drive/Grammatical_Error_correction/Data/conll14st-test-data.tar.gz' -C '/content/drive/My Drive/Grammatical_Error_correction/Data/'"
      ],
      "execution_count": null,
      "outputs": [
        {
          "output_type": "stream",
          "text": [
            "conll14st-test-data/\n",
            "conll14st-test-data/scripts/\n",
            "conll14st-test-data/scripts/parser_feature.py\n",
            "conll14st-test-data/scripts/preprocess.py\n",
            "conll14st-test-data/scripts/nuclesgmlparser.py\n",
            "conll14st-test-data/scripts/README\n",
            "conll14st-test-data/scripts/nucle_doc.py\n",
            "conll14st-test-data/scripts/preprocesscombine.py\n",
            "conll14st-test-data/scripts/preprocesswithalt.py\n",
            "conll14st-test-data/scripts/iparser.py\n",
            "conll14st-test-data/noalt/\n",
            "conll14st-test-data/noalt/official-2014.1.conll.ann\n",
            "conll14st-test-data/noalt/official-2014.0.sgml\n",
            "conll14st-test-data/noalt/official-2014.combined.m2\n",
            "conll14st-test-data/noalt/official-2014.1.sgml\n",
            "conll14st-test-data/noalt/official-2014.1.m2\n",
            "conll14st-test-data/noalt/official-2014.0.conll.ann\n",
            "conll14st-test-data/noalt/official-2014.0.m2\n",
            "conll14st-test-data/README\n",
            "conll14st-test-data/alt/\n",
            "conll14st-test-data/alt/alternative-teama.sgml\n",
            "conll14st-test-data/alt/alternative-teamc.sgml\n",
            "conll14st-test-data/alt/alternative-teamb.sgml\n",
            "conll14st-test-data/alt/official-2014.combined-withalt.m2\n"
          ],
          "name": "stdout"
        }
      ]
    },
    {
      "cell_type": "markdown",
      "metadata": {
        "id": "-YPFOmlu704b"
      },
      "source": [
        "#4.Read data and Prepare data"
      ]
    },
    {
      "cell_type": "markdown",
      "metadata": {
        "id": "W37FujZJ-25N"
      },
      "source": [
        "below code snippet is taken from: <br> https://gist.github.com/mridul1012/9867d3b5dc77e0f12d5568b47b7ff9a2#file-m2_to_csv-py\n",
        "  https://www.cl.cam.ac.uk/research/nl/bea2019st/data/corr_from_m2.py"
      ]
    },
    {
      "cell_type": "code",
      "metadata": {
        "id": "zp9CMtHjNwDz"
      },
      "source": [
        "def process_m2file(m2_file, out_file, id=0):\n",
        "\n",
        "  \"\"\"\n",
        "  This function used to convert .m2 file to .txt file. \n",
        "  This functions return dataframe with correct, incorrect, total_edits \n",
        "\n",
        "  Arguments:\n",
        "  m2_file: path to .m2 file\n",
        "  out: path to .txt file\n",
        "  id: Annotator id\n",
        "\n",
        "  converts specified annotators text from erroneous to non-erroneous\n",
        "  \"\"\"\n",
        "  \n",
        "  m2 = open(m2_file).read().strip().split(\"\\n\\n\")\n",
        "  out = open(out_file, \"w\")\n",
        "  # Do not apply edits with these error types\n",
        "  skip = {\"noop\", \"UNK\", \"Um\"}\n",
        "  total_edits = []\n",
        "  \n",
        "  for sent in m2:\n",
        "    sent = sent.split(\"\\n\")\n",
        "    cor_sent = sent[0].split()[1:] # Ignore \"S \"\n",
        "    edits = sent[1:]\n",
        "    offset = 0\n",
        "    cur_edit = 0\n",
        "    for edit in edits:\n",
        "      edit = edit.split(\"|||\")\n",
        "      if edit[1] in skip: continue # Ignore certain edits\n",
        "      coder = int(edit[-1])\n",
        "      if coder != id: continue # Ignore other coders\n",
        "      span = edit[0].split()[1:] # Ignore \"A \"\n",
        "      start = int(span[0])\n",
        "      end = int(span[1])\n",
        "      cor = edit[2].split()\n",
        "      cor_sent[start+offset:end+offset] = cor\n",
        "      cur_edit+=1\n",
        "      offset = offset-(end-start)+len(cor)\n",
        "    total_edits.append(cur_edit)\n",
        "    out.write(\" \".join(cor_sent)+\"\\n\")\n",
        "  out.close()\n",
        "\n",
        "  file1 = open(m2_file,\"r\")\n",
        "  s1 = file1.read()\n",
        "\n",
        "  each_sent = s1.split(\"\\n\\n\")\n",
        "\n",
        "  incorrect = []\n",
        "  for i in range(len(each_sent)):\n",
        "      temp = each_sent[i].split(\"\\n\")\n",
        "      temp = temp[0]\n",
        "      temp = temp.split(\" \")\n",
        "      temp = temp[1:]# ignore S\n",
        "      temp = ' '.join(temp)\n",
        "      incorrect.append(temp)\n",
        "      \n",
        "  #preprocessing correct sentences\n",
        "\n",
        "  file2 = open(out_file, \"r\")\n",
        "  s2 = file2.read()\n",
        "\n",
        "  correct = s2.split(\"\\n\")\n",
        "\n",
        "  print(\"Preparing dataframe\")\n",
        "  df = pd.DataFrame()\n",
        "  df[\"correct\"] = correct\n",
        "  df[\"incorrect\"] = incorrect\n",
        "  total_edits.append(0)\n",
        "  df['total_edits'] = total_edits\n",
        "\n",
        "  return df"
      ],
      "execution_count": null,
      "outputs": []
    },
    {
      "cell_type": "markdown",
      "metadata": {
        "id": "MxJo2UDQXeTq"
      },
      "source": [
        "## Extracting data from Annatator 0"
      ]
    },
    {
      "cell_type": "code",
      "metadata": {
        "id": "OhcTb-JnSQpd"
      },
      "source": [
        "data_id0 = process_m2file(m2_file='/content/drive/My Drive/Grammatical_Error_correction/Data/conll14st-test-data/noalt/official-2014.combined.m2',\n",
        "                      out_file='/content/drive/My Drive/Grammatical_Error_correction/Data/conll14st-test-data/noalt/official-2014.combined.m2_id0_corrected.txt',\n",
        "                      id=0)"
      ],
      "execution_count": null,
      "outputs": []
    },
    {
      "cell_type": "code",
      "metadata": {
        "colab": {
          "base_uri": "https://localhost:8080/"
        },
        "id": "cMDbZR5qV2If",
        "outputId": "2556ed98-d83e-4ef7-8535-ca886c9bc05a"
      },
      "source": [
        "data_id0.shape"
      ],
      "execution_count": null,
      "outputs": [
        {
          "output_type": "execute_result",
          "data": {
            "text/plain": [
              "(1313, 3)"
            ]
          },
          "metadata": {
            "tags": []
          },
          "execution_count": 68
        }
      ]
    },
    {
      "cell_type": "code",
      "metadata": {
        "id": "LxBlixXAW2oS"
      },
      "source": [
        "#save dataframe\n",
        "data_id0.to_csv('/content/drive/MyDrive/Grammatical_Error_correction/Data/csv_data/conll14_combined_id0.csv', index=False)"
      ],
      "execution_count": null,
      "outputs": []
    },
    {
      "cell_type": "markdown",
      "metadata": {
        "id": "xo37AToxYCsr"
      },
      "source": [
        "## Extracting data from Annotator 1"
      ]
    },
    {
      "cell_type": "code",
      "metadata": {
        "id": "L5KHObQAXdG1"
      },
      "source": [
        "data_id1 = process_m2file(m2_file='/content/drive/My Drive/Grammatical_Error_correction/Data/conll14st-test-data/noalt/official-2014.combined.m2',\n",
        "                      out_file='/content/drive/My Drive/Grammatical_Error_correction/Data/conll14st-test-data/noalt/official-2014.combined.m2_id1_corrected.txt',\n",
        "                      id=1)"
      ],
      "execution_count": null,
      "outputs": []
    },
    {
      "cell_type": "code",
      "metadata": {
        "id": "EjfvlZpdSLCM"
      },
      "source": [
        "data_id1 = process_m2file(m2_file='/content/drive/My Drive/Grammatical_Error_correction/Data/conll14st-test-data/noalt/official-2014.combined.m2',\n",
        "                      out_file='/content/drive/My Drive/Grammatical_Error_correction/Data/conll14st-test-data/noalt/official-2014.combined.m2_id11_corrected.txt',\n",
        "                      id=1)"
      ],
      "execution_count": null,
      "outputs": []
    },
    {
      "cell_type": "code",
      "metadata": {
        "colab": {
          "base_uri": "https://localhost:8080/"
        },
        "id": "extZ9L2fY1vu",
        "outputId": "d9e34b28-f30d-4cae-d1fd-e25038b85062"
      },
      "source": [
        "data_id1.shape"
      ],
      "execution_count": null,
      "outputs": [
        {
          "output_type": "execute_result",
          "data": {
            "text/plain": [
              "(1313, 3)"
            ]
          },
          "metadata": {
            "tags": []
          },
          "execution_count": 72
        }
      ]
    },
    {
      "cell_type": "code",
      "metadata": {
        "id": "NaZ_qu8bY_x8"
      },
      "source": [
        "data_id1.to_csv('/content/drive/MyDrive/Grammatical_Error_correction/Data/csv_data/conll14_combined_id1.csv', index=False)"
      ],
      "execution_count": null,
      "outputs": []
    },
    {
      "cell_type": "markdown",
      "metadata": {
        "id": "1LJXL8htH6Hu"
      },
      "source": [
        "#Lang8 data set"
      ]
    },
    {
      "cell_type": "code",
      "metadata": {
        "colab": {
          "base_uri": "https://localhost:8080/"
        },
        "id": "cWUkCJ9GH5Ys",
        "outputId": "c0920f98-9521-4260-e943-25ee937c984f"
      },
      "source": [
        "!tar -xvzf '/content/drive/My Drive/Grammatical_Error_correction/Data/lang8.bea19.tar.gz' -C '/content/drive/My Drive/Grammatical_Error_correction/Data/lang8'"
      ],
      "execution_count": null,
      "outputs": [
        {
          "output_type": "stream",
          "text": [
            "lang8.train.auto.bea19.m2\n",
            "lang8_to_m2.py\n",
            "readme.txt\n"
          ],
          "name": "stdout"
        }
      ]
    },
    {
      "cell_type": "code",
      "metadata": {
        "colab": {
          "base_uri": "https://localhost:8080/"
        },
        "id": "TVjkFooLIct2",
        "outputId": "1a2679d2-2e5f-442f-a52c-dfc62413569a"
      },
      "source": [
        "data_lang8_id0 = process_m2file(m2_file='/content/drive/MyDrive/Grammatical_Error_correction/Data/lang8/lang8.train.auto.bea19.m2',\n",
        "                            out_file='/content/drive/MyDrive/Grammatical_Error_correction/Data/lang8/lang8.train.auto.bea19.m2_id0_corrected.txt',\n",
        "                            id=0)"
      ],
      "execution_count": null,
      "outputs": [
        {
          "output_type": "stream",
          "text": [
            "Preparing dataframe\n"
          ],
          "name": "stdout"
        }
      ]
    },
    {
      "cell_type": "code",
      "metadata": {
        "colab": {
          "base_uri": "https://localhost:8080/",
          "height": 204
        },
        "id": "VaQfJQdKTj-H",
        "outputId": "5355b2e3-865d-4fd8-efef-0fdd97491718"
      },
      "source": [
        "data_lang8_id0.head()"
      ],
      "execution_count": null,
      "outputs": [
        {
          "output_type": "execute_result",
          "data": {
            "text/html": [
              "<div>\n",
              "<style scoped>\n",
              "    .dataframe tbody tr th:only-of-type {\n",
              "        vertical-align: middle;\n",
              "    }\n",
              "\n",
              "    .dataframe tbody tr th {\n",
              "        vertical-align: top;\n",
              "    }\n",
              "\n",
              "    .dataframe thead th {\n",
              "        text-align: right;\n",
              "    }\n",
              "</style>\n",
              "<table border=\"1\" class=\"dataframe\">\n",
              "  <thead>\n",
              "    <tr style=\"text-align: right;\">\n",
              "      <th></th>\n",
              "      <th>correct</th>\n",
              "      <th>incorrect</th>\n",
              "      <th>total_edits</th>\n",
              "    </tr>\n",
              "  </thead>\n",
              "  <tbody>\n",
              "    <tr>\n",
              "      <th>0</th>\n",
              "      <td>Good luck on your new start !</td>\n",
              "      <td>Good luck on your new start !</td>\n",
              "      <td>0</td>\n",
              "    </tr>\n",
              "    <tr>\n",
              "      <th>1</th>\n",
              "      <td>My teacher is going to move to change his job .</td>\n",
              "      <td>My teacher is going to move to change his job .</td>\n",
              "      <td>0</td>\n",
              "    </tr>\n",
              "    <tr>\n",
              "      <th>2</th>\n",
              "      <td>He is a so nice guy and taught me English very...</td>\n",
              "      <td>He is a so nice guy and taught me English very...</td>\n",
              "      <td>0</td>\n",
              "    </tr>\n",
              "    <tr>\n",
              "      <th>3</th>\n",
              "      <td>And he took in my favorite subjects like soccer .</td>\n",
              "      <td>And he took in my favorite subject like soccer .</td>\n",
              "      <td>1</td>\n",
              "    </tr>\n",
              "    <tr>\n",
              "      <th>4</th>\n",
              "      <td>Actually , he was the one who let me know abou...</td>\n",
              "      <td>Actually , who let me know about Lang - 8 was ...</td>\n",
              "      <td>2</td>\n",
              "    </tr>\n",
              "  </tbody>\n",
              "</table>\n",
              "</div>"
            ],
            "text/plain": [
              "                                             correct  ... total_edits\n",
              "0                      Good luck on your new start !  ...           0\n",
              "1    My teacher is going to move to change his job .  ...           0\n",
              "2  He is a so nice guy and taught me English very...  ...           0\n",
              "3  And he took in my favorite subjects like soccer .  ...           1\n",
              "4  Actually , he was the one who let me know abou...  ...           2\n",
              "\n",
              "[5 rows x 3 columns]"
            ]
          },
          "metadata": {
            "tags": []
          },
          "execution_count": 38
        }
      ]
    },
    {
      "cell_type": "code",
      "metadata": {
        "colab": {
          "base_uri": "https://localhost:8080/"
        },
        "id": "UCDsC3jaT0Sf",
        "outputId": "575ff97b-5fd9-48e0-d3c7-d234310d6cf6"
      },
      "source": [
        "data_lang8_id0.shape"
      ],
      "execution_count": null,
      "outputs": [
        {
          "output_type": "execute_result",
          "data": {
            "text/plain": [
              "(1037562, 3)"
            ]
          },
          "metadata": {
            "tags": []
          },
          "execution_count": 39
        }
      ]
    },
    {
      "cell_type": "code",
      "metadata": {
        "id": "HseW5PO8aAx-"
      },
      "source": [
        "data_lang8_id0.to_csv('/content/drive/MyDrive/Grammatical_Error_correction/Data/csv_data/lang8/lang8_anno_id_0.csv', index=False)"
      ],
      "execution_count": null,
      "outputs": []
    },
    {
      "cell_type": "markdown",
      "metadata": {
        "id": "Il7CdnKSU0ER"
      },
      "source": [
        "Observation: <br>\n",
        "We have 10 lacks od sentences which are annotated by annotator  with id_0"
      ]
    },
    {
      "cell_type": "code",
      "metadata": {
        "colab": {
          "base_uri": "https://localhost:8080/"
        },
        "id": "AY6Tocz2UwoN",
        "outputId": "e5871a9a-2cf4-47be-a827-5aa87a903e0d"
      },
      "source": [
        "data_lang8_id1 = process_m2file(m2_file='/content/drive/MyDrive/Grammatical_Error_correction/Data/lang8/lang8.train.auto.bea19.m2',\n",
        "                            out_file='/content/drive/MyDrive/Grammatical_Error_correction/Data/lang8/lang8.train.auto.bea19.m2_id1_corrected.txt',\n",
        "                            id=1)"
      ],
      "execution_count": null,
      "outputs": [
        {
          "output_type": "stream",
          "text": [
            "Preparing dataframe\n"
          ],
          "name": "stdout"
        }
      ]
    },
    {
      "cell_type": "code",
      "metadata": {
        "colab": {
          "base_uri": "https://localhost:8080/",
          "height": 204
        },
        "id": "E3QsvxMuZeJI",
        "outputId": "aea51d0d-f487-4e6c-e263-0590d5fc50a6"
      },
      "source": [
        "data_lang8_id1.head()"
      ],
      "execution_count": null,
      "outputs": [
        {
          "output_type": "execute_result",
          "data": {
            "text/html": [
              "<div>\n",
              "<style scoped>\n",
              "    .dataframe tbody tr th:only-of-type {\n",
              "        vertical-align: middle;\n",
              "    }\n",
              "\n",
              "    .dataframe tbody tr th {\n",
              "        vertical-align: top;\n",
              "    }\n",
              "\n",
              "    .dataframe thead th {\n",
              "        text-align: right;\n",
              "    }\n",
              "</style>\n",
              "<table border=\"1\" class=\"dataframe\">\n",
              "  <thead>\n",
              "    <tr style=\"text-align: right;\">\n",
              "      <th></th>\n",
              "      <th>correct</th>\n",
              "      <th>incorrect</th>\n",
              "      <th>total_edits</th>\n",
              "    </tr>\n",
              "  </thead>\n",
              "  <tbody>\n",
              "    <tr>\n",
              "      <th>0</th>\n",
              "      <td>Good luck on your new start !</td>\n",
              "      <td>Good luck on your new start !</td>\n",
              "      <td>0</td>\n",
              "    </tr>\n",
              "    <tr>\n",
              "      <th>1</th>\n",
              "      <td>My teacher is going to move to change his job .</td>\n",
              "      <td>My teacher is going to move to change his job .</td>\n",
              "      <td>0</td>\n",
              "    </tr>\n",
              "    <tr>\n",
              "      <th>2</th>\n",
              "      <td>He is a so nice guy and taught me English very...</td>\n",
              "      <td>He is a so nice guy and taught me English very...</td>\n",
              "      <td>0</td>\n",
              "    </tr>\n",
              "    <tr>\n",
              "      <th>3</th>\n",
              "      <td>And he took in my favorite subject like soccer .</td>\n",
              "      <td>And he took in my favorite subject like soccer .</td>\n",
              "      <td>0</td>\n",
              "    </tr>\n",
              "    <tr>\n",
              "      <th>4</th>\n",
              "      <td>Actually , who let me know about Lang - 8 was ...</td>\n",
              "      <td>Actually , who let me know about Lang - 8 was ...</td>\n",
              "      <td>0</td>\n",
              "    </tr>\n",
              "  </tbody>\n",
              "</table>\n",
              "</div>"
            ],
            "text/plain": [
              "                                             correct  ... total_edits\n",
              "0                      Good luck on your new start !  ...           0\n",
              "1    My teacher is going to move to change his job .  ...           0\n",
              "2  He is a so nice guy and taught me English very...  ...           0\n",
              "3   And he took in my favorite subject like soccer .  ...           0\n",
              "4  Actually , who let me know about Lang - 8 was ...  ...           0\n",
              "\n",
              "[5 rows x 3 columns]"
            ]
          },
          "metadata": {
            "tags": []
          },
          "execution_count": 43
        }
      ]
    },
    {
      "cell_type": "code",
      "metadata": {
        "colab": {
          "base_uri": "https://localhost:8080/"
        },
        "id": "rLFkpQkYVCPT",
        "outputId": "6ab8b55b-9d4d-4fbe-82f3-3d174ad0bb86"
      },
      "source": [
        "data_lang8_id1.shape"
      ],
      "execution_count": null,
      "outputs": [
        {
          "output_type": "execute_result",
          "data": {
            "text/plain": [
              "(1037562, 3)"
            ]
          },
          "metadata": {
            "tags": []
          },
          "execution_count": 41
        }
      ]
    },
    {
      "cell_type": "markdown",
      "metadata": {
        "id": "mE_ZgyPmVNpU"
      },
      "source": [
        "Observation: <br>\n",
        "we have 10 lacks of sentences which are annotated by annotator with id_1"
      ]
    },
    {
      "cell_type": "code",
      "metadata": {
        "id": "alVGBIX6ZrIx"
      },
      "source": [
        "data_lang8_id1.to_csv('/content/drive/MyDrive/Grammatical_Error_correction/Data/csv_data/lang8/lang8_anno_id1.csv', index=False)"
      ],
      "execution_count": null,
      "outputs": []
    },
    {
      "cell_type": "code",
      "metadata": {
        "id": "ZG52DjdMcE8a"
      },
      "source": [
        "data_lang8_id1 = pd.read_csv('/content/drive/MyDrive/Grammatical_Error_correction/Data/csv_data/lang8/lang8_anno_id1.csv')"
      ],
      "execution_count": null,
      "outputs": []
    }
  ]
}