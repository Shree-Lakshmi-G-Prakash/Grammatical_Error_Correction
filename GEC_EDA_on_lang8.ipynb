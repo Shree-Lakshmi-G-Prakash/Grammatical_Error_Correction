{
  "nbformat": 4,
  "nbformat_minor": 0,
  "metadata": {
    "colab": {
      "name": "GEC_EDA_on_lang8.ipynb",
      "provenance": [],
      "collapsed_sections": [],
      "toc_visible": true
    },
    "kernelspec": {
      "display_name": "Python 3",
      "name": "python3"
    },
    "language_info": {
      "name": "python"
    }
  },
  "cells": [
    {
      "cell_type": "markdown",
      "metadata": {
        "id": "TSnh5C1G6jhd"
      },
      "source": [
        "#1.Mount"
      ]
    },
    {
      "cell_type": "code",
      "metadata": {
        "colab": {
          "base_uri": "https://localhost:8080/"
        },
        "id": "vPnSN6Ya6cjP",
        "outputId": "275e1368-9552-419d-94ec-f1e1ffe158a9"
      },
      "source": [
        "from google.colab import drive\n",
        "drive.mount('/content/drive')"
      ],
      "execution_count": null,
      "outputs": [
        {
          "output_type": "stream",
          "name": "stdout",
          "text": [
            "Mounted at /content/drive\n"
          ]
        }
      ]
    },
    {
      "cell_type": "code",
      "metadata": {
        "colab": {
          "base_uri": "https://localhost:8080/"
        },
        "id": "kXdNDFCj7U84",
        "outputId": "4bc20b49-cc21-447b-e136-60a7eb53f71d"
      },
      "source": [
        "%cd /content/drive/MyDrive/Grammatical_Error_correction/"
      ],
      "execution_count": null,
      "outputs": [
        {
          "output_type": "stream",
          "name": "stdout",
          "text": [
            "/content/drive/MyDrive/Grammatical_Error_correction\n"
          ]
        }
      ]
    },
    {
      "cell_type": "markdown",
      "metadata": {
        "id": "9kekjDbs7CUL"
      },
      "source": [
        "#2.Installation and Import"
      ]
    },
    {
      "cell_type": "code",
      "metadata": {
        "colab": {
          "base_uri": "https://localhost:8080/"
        },
        "id": "7D0MypRV7B2z",
        "outputId": "28ad4525-9264-4d3a-ab66-98958a618b1a"
      },
      "source": [
        "!pip install wordcloud"
      ],
      "execution_count": null,
      "outputs": [
        {
          "output_type": "stream",
          "name": "stdout",
          "text": [
            "Requirement already satisfied: wordcloud in /usr/local/lib/python3.7/dist-packages (1.5.0)\n",
            "Requirement already satisfied: pillow in /usr/local/lib/python3.7/dist-packages (from wordcloud) (7.1.2)\n",
            "Requirement already satisfied: numpy>=1.6.1 in /usr/local/lib/python3.7/dist-packages (from wordcloud) (1.19.5)\n"
          ]
        }
      ]
    },
    {
      "cell_type": "code",
      "metadata": {
        "id": "lVT7BJsw6zLn"
      },
      "source": [
        "import random\n",
        "import numpy as np\n",
        "import pandas as pd\n",
        "import regex as re\n",
        "from tqdm import tqdm\n",
        "from scipy.stats import mode\n",
        "from wordcloud import WordCloud, STOPWORDS\n",
        "from sklearn.feature_extraction.text import CountVectorizer\n",
        "\n",
        "import seaborn as sns\n",
        "import matplotlib.pyplot as plt"
      ],
      "execution_count": null,
      "outputs": []
    },
    {
      "cell_type": "markdown",
      "metadata": {
        "id": "DczTQZfs7N_-"
      },
      "source": [
        "#3.Read Data"
      ]
    },
    {
      "cell_type": "code",
      "metadata": {
        "id": "m5MrHXLG7LqO"
      },
      "source": [
        "data = pd.read_csv('./Data/csv_data/lang8/lang8_anno_id0.csv')"
      ],
      "execution_count": null,
      "outputs": []
    },
    {
      "cell_type": "markdown",
      "metadata": {
        "id": "reEdUtng74MU"
      },
      "source": [
        "#4.Exploratory Data Analysis"
      ]
    },
    {
      "cell_type": "markdown",
      "metadata": {
        "id": "Qvm4vYHb8AAs"
      },
      "source": [
        "##4.1.dataframe info() and describe()"
      ]
    },
    {
      "cell_type": "code",
      "metadata": {
        "colab": {
          "base_uri": "https://localhost:8080/"
        },
        "id": "ykvBH3ME7TYL",
        "outputId": "de0de941-369e-473b-b7e5-f529bf9c44a0"
      },
      "source": [
        "data.info()"
      ],
      "execution_count": null,
      "outputs": [
        {
          "output_type": "stream",
          "name": "stdout",
          "text": [
            "<class 'pandas.core.frame.DataFrame'>\n",
            "RangeIndex: 1037562 entries, 0 to 1037561\n",
            "Data columns (total 3 columns):\n",
            " #   Column       Non-Null Count    Dtype \n",
            "---  ------       --------------    ----- \n",
            " 0   correct      1037560 non-null  object\n",
            " 1   incorrect    1037560 non-null  object\n",
            " 2   total_edits  1037562 non-null  int64 \n",
            "dtypes: int64(1), object(2)\n",
            "memory usage: 23.7+ MB\n"
          ]
        }
      ]
    },
    {
      "cell_type": "markdown",
      "metadata": {
        "id": "uzOjBYli8Vhu"
      },
      "source": [
        "**Observation:** <br>\n",
        "There are 2 null values\n"
      ]
    },
    {
      "cell_type": "code",
      "metadata": {
        "colab": {
          "base_uri": "https://localhost:8080/",
          "height": 294
        },
        "id": "xKDi7v5C8Qc9",
        "outputId": "0a1d2bbf-122e-493a-f407-713898b9ed65"
      },
      "source": [
        "data.describe()"
      ],
      "execution_count": null,
      "outputs": [
        {
          "output_type": "execute_result",
          "data": {
            "text/html": [
              "<div>\n",
              "<style scoped>\n",
              "    .dataframe tbody tr th:only-of-type {\n",
              "        vertical-align: middle;\n",
              "    }\n",
              "\n",
              "    .dataframe tbody tr th {\n",
              "        vertical-align: top;\n",
              "    }\n",
              "\n",
              "    .dataframe thead th {\n",
              "        text-align: right;\n",
              "    }\n",
              "</style>\n",
              "<table border=\"1\" class=\"dataframe\">\n",
              "  <thead>\n",
              "    <tr style=\"text-align: right;\">\n",
              "      <th></th>\n",
              "      <th>total_edits</th>\n",
              "    </tr>\n",
              "  </thead>\n",
              "  <tbody>\n",
              "    <tr>\n",
              "      <th>count</th>\n",
              "      <td>1.037562e+06</td>\n",
              "    </tr>\n",
              "    <tr>\n",
              "      <th>mean</th>\n",
              "      <td>1.141918e+00</td>\n",
              "    </tr>\n",
              "    <tr>\n",
              "      <th>std</th>\n",
              "      <td>1.709852e+00</td>\n",
              "    </tr>\n",
              "    <tr>\n",
              "      <th>min</th>\n",
              "      <td>0.000000e+00</td>\n",
              "    </tr>\n",
              "    <tr>\n",
              "      <th>25%</th>\n",
              "      <td>0.000000e+00</td>\n",
              "    </tr>\n",
              "    <tr>\n",
              "      <th>50%</th>\n",
              "      <td>0.000000e+00</td>\n",
              "    </tr>\n",
              "    <tr>\n",
              "      <th>75%</th>\n",
              "      <td>2.000000e+00</td>\n",
              "    </tr>\n",
              "    <tr>\n",
              "      <th>max</th>\n",
              "      <td>1.670000e+02</td>\n",
              "    </tr>\n",
              "  </tbody>\n",
              "</table>\n",
              "</div>"
            ],
            "text/plain": [
              "        total_edits\n",
              "count  1.037562e+06\n",
              "mean   1.141918e+00\n",
              "std    1.709852e+00\n",
              "min    0.000000e+00\n",
              "25%    0.000000e+00\n",
              "50%    0.000000e+00\n",
              "75%    2.000000e+00\n",
              "max    1.670000e+02"
            ]
          },
          "metadata": {},
          "execution_count": 7
        }
      ]
    },
    {
      "cell_type": "markdown",
      "metadata": {
        "id": "BXGXZU_f8iR7"
      },
      "source": [
        "##4.2.Remove na values"
      ]
    },
    {
      "cell_type": "code",
      "metadata": {
        "colab": {
          "base_uri": "https://localhost:8080/",
          "height": 110
        },
        "id": "fm32DL9s8eue",
        "outputId": "9e96ae24-5169-402f-be1f-c7fd7ebef831"
      },
      "source": [
        "data[data.isna().any(axis=1)]"
      ],
      "execution_count": null,
      "outputs": [
        {
          "output_type": "execute_result",
          "data": {
            "text/html": [
              "<div>\n",
              "<style scoped>\n",
              "    .dataframe tbody tr th:only-of-type {\n",
              "        vertical-align: middle;\n",
              "    }\n",
              "\n",
              "    .dataframe tbody tr th {\n",
              "        vertical-align: top;\n",
              "    }\n",
              "\n",
              "    .dataframe thead th {\n",
              "        text-align: right;\n",
              "    }\n",
              "</style>\n",
              "<table border=\"1\" class=\"dataframe\">\n",
              "  <thead>\n",
              "    <tr style=\"text-align: right;\">\n",
              "      <th></th>\n",
              "      <th>correct</th>\n",
              "      <th>incorrect</th>\n",
              "      <th>total_edits</th>\n",
              "    </tr>\n",
              "  </thead>\n",
              "  <tbody>\n",
              "    <tr>\n",
              "      <th>222211</th>\n",
              "      <td>NaN</td>\n",
              "      <td>NaN</td>\n",
              "      <td>0</td>\n",
              "    </tr>\n",
              "    <tr>\n",
              "      <th>1037561</th>\n",
              "      <td>NaN</td>\n",
              "      <td>NaN</td>\n",
              "      <td>0</td>\n",
              "    </tr>\n",
              "  </tbody>\n",
              "</table>\n",
              "</div>"
            ],
            "text/plain": [
              "        correct incorrect  total_edits\n",
              "222211      NaN       NaN            0\n",
              "1037561     NaN       NaN            0"
            ]
          },
          "metadata": {},
          "execution_count": 8
        }
      ]
    },
    {
      "cell_type": "code",
      "metadata": {
        "colab": {
          "base_uri": "https://localhost:8080/"
        },
        "id": "5DjE_fIs8wa5",
        "outputId": "f3c3596a-12cf-4713-d1cd-bafa844436dc"
      },
      "source": [
        "data.dropna(axis=0, how='any', inplace=True)\n",
        "data.reset_index(drop=True, inplace=True)\n",
        "data.shape"
      ],
      "execution_count": null,
      "outputs": [
        {
          "output_type": "execute_result",
          "data": {
            "text/plain": [
              "(1037560, 3)"
            ]
          },
          "metadata": {},
          "execution_count": 9
        }
      ]
    },
    {
      "cell_type": "markdown",
      "metadata": {
        "id": "jEnpMrGk9Tmv"
      },
      "source": [
        "##4.3.Check for duplicate and remove"
      ]
    },
    {
      "cell_type": "code",
      "metadata": {
        "colab": {
          "base_uri": "https://localhost:8080/"
        },
        "id": "sU4atKKo9SXF",
        "outputId": "c8964286-b429-45d1-d771-1c320d68aac0"
      },
      "source": [
        "data.duplicated(['correct','incorrect']).values.sum()"
      ],
      "execution_count": null,
      "outputs": [
        {
          "output_type": "execute_result",
          "data": {
            "text/plain": [
              "86813"
            ]
          },
          "metadata": {},
          "execution_count": 10
        }
      ]
    },
    {
      "cell_type": "code",
      "metadata": {
        "colab": {
          "base_uri": "https://localhost:8080/",
          "height": 1000
        },
        "id": "y215BF1oZR9G",
        "outputId": "f7d2dbba-2fd3-4f70-b76a-570632a0fa3e"
      },
      "source": [
        "data[data.duplicated(['correct','incorrect'])].sample(50)"
      ],
      "execution_count": null,
      "outputs": [
        {
          "output_type": "execute_result",
          "data": {
            "text/html": [
              "<div>\n",
              "<style scoped>\n",
              "    .dataframe tbody tr th:only-of-type {\n",
              "        vertical-align: middle;\n",
              "    }\n",
              "\n",
              "    .dataframe tbody tr th {\n",
              "        vertical-align: top;\n",
              "    }\n",
              "\n",
              "    .dataframe thead th {\n",
              "        text-align: right;\n",
              "    }\n",
              "</style>\n",
              "<table border=\"1\" class=\"dataframe\">\n",
              "  <thead>\n",
              "    <tr style=\"text-align: right;\">\n",
              "      <th></th>\n",
              "      <th>correct</th>\n",
              "      <th>incorrect</th>\n",
              "      <th>total_edits</th>\n",
              "    </tr>\n",
              "  </thead>\n",
              "  <tbody>\n",
              "    <tr>\n",
              "      <th>651629</th>\n",
              "      <td>I am 19 years old .</td>\n",
              "      <td>I am 19 years old .</td>\n",
              "      <td>0</td>\n",
              "    </tr>\n",
              "    <tr>\n",
              "      <th>603342</th>\n",
              "      <td>Nice to meet you !</td>\n",
              "      <td>Nice to meet you !</td>\n",
              "      <td>0</td>\n",
              "    </tr>\n",
              "    <tr>\n",
              "      <th>522819</th>\n",
              "      <td>Long time no write</td>\n",
              "      <td>Long time no write</td>\n",
              "      <td>0</td>\n",
              "    </tr>\n",
              "    <tr>\n",
              "      <th>51136</th>\n",
              "      <td>p . s .</td>\n",
              "      <td>p . s .</td>\n",
              "      <td>0</td>\n",
              "    </tr>\n",
              "    <tr>\n",
              "      <th>723349</th>\n",
              "      <td>Long time no see</td>\n",
              "      <td>Long time no see</td>\n",
              "      <td>0</td>\n",
              "    </tr>\n",
              "    <tr>\n",
              "      <th>196009</th>\n",
              "      <td>S .</td>\n",
              "      <td>S .</td>\n",
              "      <td>0</td>\n",
              "    </tr>\n",
              "    <tr>\n",
              "      <th>709383</th>\n",
              "      <td>bye .</td>\n",
              "      <td>bye .</td>\n",
              "      <td>0</td>\n",
              "    </tr>\n",
              "    <tr>\n",
              "      <th>780012</th>\n",
              "      <td>7 .</td>\n",
              "      <td>7 .</td>\n",
              "      <td>0</td>\n",
              "    </tr>\n",
              "    <tr>\n",
              "      <th>40136</th>\n",
              "      <td>Hello everyone !</td>\n",
              "      <td>Hello everyone !</td>\n",
              "      <td>0</td>\n",
              "    </tr>\n",
              "    <tr>\n",
              "      <th>153391</th>\n",
              "      <td>: )</td>\n",
              "      <td>: )</td>\n",
              "      <td>0</td>\n",
              "    </tr>\n",
              "    <tr>\n",
              "      <th>141104</th>\n",
              "      <td>URL</td>\n",
              "      <td>URL</td>\n",
              "      <td>0</td>\n",
              "    </tr>\n",
              "    <tr>\n",
              "      <th>887345</th>\n",
              "      <td>?</td>\n",
              "      <td>?</td>\n",
              "      <td>0</td>\n",
              "    </tr>\n",
              "    <tr>\n",
              "      <th>876996</th>\n",
              "      <td>That 's all .</td>\n",
              "      <td>That 's all .</td>\n",
              "      <td>0</td>\n",
              "    </tr>\n",
              "    <tr>\n",
              "      <th>590371</th>\n",
              "      <td>Include specific examples and details in your ...</td>\n",
              "      <td>Include specific examples and details in your ...</td>\n",
              "      <td>0</td>\n",
              "    </tr>\n",
              "    <tr>\n",
              "      <th>162229</th>\n",
              "      <td>Thank you : )</td>\n",
              "      <td>Thank you : )</td>\n",
              "      <td>0</td>\n",
              "    </tr>\n",
              "    <tr>\n",
              "      <th>719379</th>\n",
              "      <td>Departures</td>\n",
              "      <td>Departures</td>\n",
              "      <td>0</td>\n",
              "    </tr>\n",
              "    <tr>\n",
              "      <th>584437</th>\n",
              "      <td>today</td>\n",
              "      <td>today</td>\n",
              "      <td>0</td>\n",
              "    </tr>\n",
              "    <tr>\n",
              "      <th>914432</th>\n",
              "      <td>How amazing !</td>\n",
              "      <td>How amazing !</td>\n",
              "      <td>0</td>\n",
              "    </tr>\n",
              "    <tr>\n",
              "      <th>778630</th>\n",
              "      <td>Diary</td>\n",
              "      <td>Diary</td>\n",
              "      <td>0</td>\n",
              "    </tr>\n",
              "    <tr>\n",
              "      <th>1032459</th>\n",
              "      <td>decision</td>\n",
              "      <td>decision</td>\n",
              "      <td>0</td>\n",
              "    </tr>\n",
              "    <tr>\n",
              "      <th>188930</th>\n",
              "      <td>URL</td>\n",
              "      <td>URL</td>\n",
              "      <td>0</td>\n",
              "    </tr>\n",
              "    <tr>\n",
              "      <th>611990</th>\n",
              "      <td>9 .</td>\n",
              "      <td>9 .</td>\n",
              "      <td>0</td>\n",
              "    </tr>\n",
              "    <tr>\n",
              "      <th>802372</th>\n",
              "      <td>3 .</td>\n",
              "      <td>3 .</td>\n",
              "      <td>0</td>\n",
              "    </tr>\n",
              "    <tr>\n",
              "      <th>692529</th>\n",
              "      <td>my friend</td>\n",
              "      <td>my friend</td>\n",
              "      <td>0</td>\n",
              "    </tr>\n",
              "    <tr>\n",
              "      <th>902195</th>\n",
              "      <td>- - - - - - - - - - - - - - - - - - - -</td>\n",
              "      <td>- - - - - - - - - - - - - - - - - - - -</td>\n",
              "      <td>0</td>\n",
              "    </tr>\n",
              "    <tr>\n",
              "      <th>592801</th>\n",
              "      <td>O .</td>\n",
              "      <td>O .</td>\n",
              "      <td>0</td>\n",
              "    </tr>\n",
              "    <tr>\n",
              "      <th>570722</th>\n",
              "      <td>Thank you for reading .</td>\n",
              "      <td>Thank you for reading .</td>\n",
              "      <td>0</td>\n",
              "    </tr>\n",
              "    <tr>\n",
              "      <th>763263</th>\n",
              "      <td>Nice to meet you ! !</td>\n",
              "      <td>Nice to meet you ! !</td>\n",
              "      <td>0</td>\n",
              "    </tr>\n",
              "    <tr>\n",
              "      <th>39579</th>\n",
              "      <td>Hello !</td>\n",
              "      <td>Hello !</td>\n",
              "      <td>0</td>\n",
              "    </tr>\n",
              "    <tr>\n",
              "      <th>305501</th>\n",
              "      <td>That 's all .</td>\n",
              "      <td>That 's all .</td>\n",
              "      <td>0</td>\n",
              "    </tr>\n",
              "    <tr>\n",
              "      <th>289623</th>\n",
              "      <td>I forgot my ID card .</td>\n",
              "      <td>I forgot my ID card .</td>\n",
              "      <td>0</td>\n",
              "    </tr>\n",
              "    <tr>\n",
              "      <th>759761</th>\n",
              "      <td>So I 'm very tired .</td>\n",
              "      <td>So I 'm very tired .</td>\n",
              "      <td>0</td>\n",
              "    </tr>\n",
              "    <tr>\n",
              "      <th>635933</th>\n",
              "      <td>Yakiniku</td>\n",
              "      <td>Yakiniku</td>\n",
              "      <td>0</td>\n",
              "    </tr>\n",
              "    <tr>\n",
              "      <th>144153</th>\n",
              "      <td>1 .</td>\n",
              "      <td>1 .</td>\n",
              "      <td>0</td>\n",
              "    </tr>\n",
              "    <tr>\n",
              "      <th>627994</th>\n",
              "      <td>I do my best .</td>\n",
              "      <td>I do my best .</td>\n",
              "      <td>0</td>\n",
              "    </tr>\n",
              "    <tr>\n",
              "      <th>1032428</th>\n",
              "      <td>6 .</td>\n",
              "      <td>6 .</td>\n",
              "      <td>0</td>\n",
              "    </tr>\n",
              "    <tr>\n",
              "      <th>791961</th>\n",
              "      <td>* nina *</td>\n",
              "      <td>* nina *</td>\n",
              "      <td>0</td>\n",
              "    </tr>\n",
              "    <tr>\n",
              "      <th>732530</th>\n",
              "      <td>TOEIC</td>\n",
              "      <td>TOEIC</td>\n",
              "      <td>0</td>\n",
              "    </tr>\n",
              "    <tr>\n",
              "      <th>740778</th>\n",
              "      <td>URL</td>\n",
              "      <td>URL</td>\n",
              "      <td>0</td>\n",
              "    </tr>\n",
              "    <tr>\n",
              "      <th>321928</th>\n",
              "      <td>2 .</td>\n",
              "      <td>2 .</td>\n",
              "      <td>0</td>\n",
              "    </tr>\n",
              "    <tr>\n",
              "      <th>805421</th>\n",
              "      <td>Kitatuba</td>\n",
              "      <td>Kitatuba</td>\n",
              "      <td>0</td>\n",
              "    </tr>\n",
              "    <tr>\n",
              "      <th>1018732</th>\n",
              "      <td>Thanks .</td>\n",
              "      <td>Thanks .</td>\n",
              "      <td>0</td>\n",
              "    </tr>\n",
              "    <tr>\n",
              "      <th>392786</th>\n",
              "      <td>2 .</td>\n",
              "      <td>2 .</td>\n",
              "      <td>0</td>\n",
              "    </tr>\n",
              "    <tr>\n",
              "      <th>163067</th>\n",
              "      <td>Hi .</td>\n",
              "      <td>Hi .</td>\n",
              "      <td>0</td>\n",
              "    </tr>\n",
              "    <tr>\n",
              "      <th>886720</th>\n",
              "      <td>5 . . . . ( addressee 's nickname )</td>\n",
              "      <td>5 . . . . ( addressee 's nickname )</td>\n",
              "      <td>0</td>\n",
              "    </tr>\n",
              "    <tr>\n",
              "      <th>654236</th>\n",
              "      <td>X - (</td>\n",
              "      <td>X - (</td>\n",
              "      <td>0</td>\n",
              "    </tr>\n",
              "    <tr>\n",
              "      <th>369894</th>\n",
              "      <td>^ ^</td>\n",
              "      <td>^ ^</td>\n",
              "      <td>0</td>\n",
              "    </tr>\n",
              "    <tr>\n",
              "      <th>561048</th>\n",
              "      <td>Mr .</td>\n",
              "      <td>Mr .</td>\n",
              "      <td>0</td>\n",
              "    </tr>\n",
              "    <tr>\n",
              "      <th>659271</th>\n",
              "      <td>Thank you .</td>\n",
              "      <td>Thank you .</td>\n",
              "      <td>0</td>\n",
              "    </tr>\n",
              "    <tr>\n",
              "      <th>617082</th>\n",
              "      <td>Is that so ?</td>\n",
              "      <td>Is that so ?</td>\n",
              "      <td>0</td>\n",
              "    </tr>\n",
              "  </tbody>\n",
              "</table>\n",
              "</div>"
            ],
            "text/plain": [
              "                                                   correct  ... total_edits\n",
              "651629                                 I am 19 years old .  ...           0\n",
              "603342                                  Nice to meet you !  ...           0\n",
              "522819                                  Long time no write  ...           0\n",
              "51136                                              p . s .  ...           0\n",
              "723349                                    Long time no see  ...           0\n",
              "196009                                                 S .  ...           0\n",
              "709383                                               bye .  ...           0\n",
              "780012                                                 7 .  ...           0\n",
              "40136                                     Hello everyone !  ...           0\n",
              "153391                                                 : )  ...           0\n",
              "141104                                                 URL  ...           0\n",
              "887345                                                   ?  ...           0\n",
              "876996                                       That 's all .  ...           0\n",
              "590371   Include specific examples and details in your ...  ...           0\n",
              "162229                                       Thank you : )  ...           0\n",
              "719379                                          Departures  ...           0\n",
              "584437                                               today  ...           0\n",
              "914432                                       How amazing !  ...           0\n",
              "778630                                               Diary  ...           0\n",
              "1032459                                           decision  ...           0\n",
              "188930                                                 URL  ...           0\n",
              "611990                                                 9 .  ...           0\n",
              "802372                                                 3 .  ...           0\n",
              "692529                                           my friend  ...           0\n",
              "902195             - - - - - - - - - - - - - - - - - - - -  ...           0\n",
              "592801                                                 O .  ...           0\n",
              "570722                             Thank you for reading .  ...           0\n",
              "763263                                Nice to meet you ! !  ...           0\n",
              "39579                                              Hello !  ...           0\n",
              "305501                                       That 's all .  ...           0\n",
              "289623                               I forgot my ID card .  ...           0\n",
              "759761                                So I 'm very tired .  ...           0\n",
              "635933                                            Yakiniku  ...           0\n",
              "144153                                                 1 .  ...           0\n",
              "627994                                      I do my best .  ...           0\n",
              "1032428                                                6 .  ...           0\n",
              "791961                                            * nina *  ...           0\n",
              "732530                                               TOEIC  ...           0\n",
              "740778                                                 URL  ...           0\n",
              "321928                                                 2 .  ...           0\n",
              "805421                                            Kitatuba  ...           0\n",
              "1018732                                           Thanks .  ...           0\n",
              "392786                                                 2 .  ...           0\n",
              "163067                                                Hi .  ...           0\n",
              "886720                 5 . . . . ( addressee 's nickname )  ...           0\n",
              "654236                                               X - (  ...           0\n",
              "369894                                                 ^ ^  ...           0\n",
              "561048                                                Mr .  ...           0\n",
              "659271                                         Thank you .  ...           0\n",
              "617082                                        Is that so ?  ...           0\n",
              "\n",
              "[50 rows x 3 columns]"
            ]
          },
          "metadata": {},
          "execution_count": 11
        }
      ]
    },
    {
      "cell_type": "markdown",
      "metadata": {
        "id": "YpAHAxN_-V8D"
      },
      "source": [
        "Observation: <br>\n",
        "There are 86813 duplicated rows.  <br> \n",
        "We can see there are duplicates like \"URL\", \"Hi\", \"Hello\" and etc"
      ]
    },
    {
      "cell_type": "code",
      "metadata": {
        "colab": {
          "base_uri": "https://localhost:8080/"
        },
        "id": "1ly4i6Vi-mqh",
        "outputId": "2d680813-8e56-42e1-d314-0067f4652bc8"
      },
      "source": [
        "data.drop_duplicates(['correct','incorrect'], inplace=True, keep='first')\n",
        "data.reset_index(drop=True, inplace=True)\n",
        "data.shape"
      ],
      "execution_count": null,
      "outputs": [
        {
          "output_type": "execute_result",
          "data": {
            "text/plain": [
              "(950747, 3)"
            ]
          },
          "metadata": {},
          "execution_count": 12
        }
      ]
    },
    {
      "cell_type": "markdown",
      "metadata": {
        "id": "H1kPHOJm_-W2"
      },
      "source": [
        "##4.4.Visualization of sample points"
      ]
    },
    {
      "cell_type": "code",
      "metadata": {
        "colab": {
          "base_uri": "https://localhost:8080/",
          "height": 202
        },
        "id": "Y62arZDl_vfr",
        "outputId": "d7f4aa0a-b624-42a6-88fd-b25da9e1a88f"
      },
      "source": [
        "data.head()"
      ],
      "execution_count": null,
      "outputs": [
        {
          "output_type": "execute_result",
          "data": {
            "text/html": [
              "<div>\n",
              "<style scoped>\n",
              "    .dataframe tbody tr th:only-of-type {\n",
              "        vertical-align: middle;\n",
              "    }\n",
              "\n",
              "    .dataframe tbody tr th {\n",
              "        vertical-align: top;\n",
              "    }\n",
              "\n",
              "    .dataframe thead th {\n",
              "        text-align: right;\n",
              "    }\n",
              "</style>\n",
              "<table border=\"1\" class=\"dataframe\">\n",
              "  <thead>\n",
              "    <tr style=\"text-align: right;\">\n",
              "      <th></th>\n",
              "      <th>correct</th>\n",
              "      <th>incorrect</th>\n",
              "      <th>total_edits</th>\n",
              "    </tr>\n",
              "  </thead>\n",
              "  <tbody>\n",
              "    <tr>\n",
              "      <th>0</th>\n",
              "      <td>Good luck on your new start !</td>\n",
              "      <td>Good luck on your new start !</td>\n",
              "      <td>0</td>\n",
              "    </tr>\n",
              "    <tr>\n",
              "      <th>1</th>\n",
              "      <td>My teacher is going to move to change his job .</td>\n",
              "      <td>My teacher is going to move to change his job .</td>\n",
              "      <td>0</td>\n",
              "    </tr>\n",
              "    <tr>\n",
              "      <th>2</th>\n",
              "      <td>He is a so nice guy and taught me English very...</td>\n",
              "      <td>He is a so nice guy and taught me English very...</td>\n",
              "      <td>0</td>\n",
              "    </tr>\n",
              "    <tr>\n",
              "      <th>3</th>\n",
              "      <td>And he took in my favorite subjects like soccer .</td>\n",
              "      <td>And he took in my favorite subject like soccer .</td>\n",
              "      <td>1</td>\n",
              "    </tr>\n",
              "    <tr>\n",
              "      <th>4</th>\n",
              "      <td>Actually , he was the one who let me know abou...</td>\n",
              "      <td>Actually , who let me know about Lang - 8 was ...</td>\n",
              "      <td>2</td>\n",
              "    </tr>\n",
              "  </tbody>\n",
              "</table>\n",
              "</div>"
            ],
            "text/plain": [
              "                                             correct  ... total_edits\n",
              "0                      Good luck on your new start !  ...           0\n",
              "1    My teacher is going to move to change his job .  ...           0\n",
              "2  He is a so nice guy and taught me English very...  ...           0\n",
              "3  And he took in my favorite subjects like soccer .  ...           1\n",
              "4  Actually , he was the one who let me know abou...  ...           2\n",
              "\n",
              "[5 rows x 3 columns]"
            ]
          },
          "metadata": {},
          "execution_count": 13
        }
      ]
    },
    {
      "cell_type": "code",
      "metadata": {
        "colab": {
          "base_uri": "https://localhost:8080/",
          "height": 202
        },
        "id": "kyCaOYs3_8qW",
        "outputId": "9e5cc7d1-d09b-47a9-e2c8-419b7a62fb01"
      },
      "source": [
        "data.tail()"
      ],
      "execution_count": null,
      "outputs": [
        {
          "output_type": "execute_result",
          "data": {
            "text/html": [
              "<div>\n",
              "<style scoped>\n",
              "    .dataframe tbody tr th:only-of-type {\n",
              "        vertical-align: middle;\n",
              "    }\n",
              "\n",
              "    .dataframe tbody tr th {\n",
              "        vertical-align: top;\n",
              "    }\n",
              "\n",
              "    .dataframe thead th {\n",
              "        text-align: right;\n",
              "    }\n",
              "</style>\n",
              "<table border=\"1\" class=\"dataframe\">\n",
              "  <thead>\n",
              "    <tr style=\"text-align: right;\">\n",
              "      <th></th>\n",
              "      <th>correct</th>\n",
              "      <th>incorrect</th>\n",
              "      <th>total_edits</th>\n",
              "    </tr>\n",
              "  </thead>\n",
              "  <tbody>\n",
              "    <tr>\n",
              "      <th>950742</th>\n",
              "      <td>As the date had been promised at noon , I went...</td>\n",
              "      <td>As the date had been promised at noon , I went...</td>\n",
              "      <td>0</td>\n",
              "    </tr>\n",
              "    <tr>\n",
              "      <th>950743</th>\n",
              "      <td>11 a . m . and toward the meeting place by sub...</td>\n",
              "      <td>11 a . m . and toward the meeting place by sub...</td>\n",
              "      <td>0</td>\n",
              "    </tr>\n",
              "    <tr>\n",
              "      <th>950744</th>\n",
              "      <td>On the way , I got a mail from her .</td>\n",
              "      <td>On the way , I got a mail from her .</td>\n",
              "      <td>0</td>\n",
              "    </tr>\n",
              "    <tr>\n",
              "      <th>950745</th>\n",
              "      <td>she said she want to change the meeting time t...</td>\n",
              "      <td>It said , she want to make the meeting time at...</td>\n",
              "      <td>4</td>\n",
              "    </tr>\n",
              "    <tr>\n",
              "      <th>950746</th>\n",
              "      <td>So , I had to be wandering around for about 4 ...</td>\n",
              "      <td>So , I had to be wandering around for about 4 ...</td>\n",
              "      <td>0</td>\n",
              "    </tr>\n",
              "  </tbody>\n",
              "</table>\n",
              "</div>"
            ],
            "text/plain": [
              "                                                  correct  ... total_edits\n",
              "950742  As the date had been promised at noon , I went...  ...           0\n",
              "950743  11 a . m . and toward the meeting place by sub...  ...           0\n",
              "950744               On the way , I got a mail from her .  ...           0\n",
              "950745  she said she want to change the meeting time t...  ...           4\n",
              "950746  So , I had to be wandering around for about 4 ...  ...           0\n",
              "\n",
              "[5 rows x 3 columns]"
            ]
          },
          "metadata": {},
          "execution_count": 14
        }
      ]
    },
    {
      "cell_type": "code",
      "metadata": {
        "colab": {
          "base_uri": "https://localhost:8080/",
          "height": 355
        },
        "id": "DMVqkdY4AE6P",
        "outputId": "d5dd3302-a134-42f8-883c-192ae94d7a15"
      },
      "source": [
        "data.sample(10)"
      ],
      "execution_count": null,
      "outputs": [
        {
          "output_type": "execute_result",
          "data": {
            "text/html": [
              "<div>\n",
              "<style scoped>\n",
              "    .dataframe tbody tr th:only-of-type {\n",
              "        vertical-align: middle;\n",
              "    }\n",
              "\n",
              "    .dataframe tbody tr th {\n",
              "        vertical-align: top;\n",
              "    }\n",
              "\n",
              "    .dataframe thead th {\n",
              "        text-align: right;\n",
              "    }\n",
              "</style>\n",
              "<table border=\"1\" class=\"dataframe\">\n",
              "  <thead>\n",
              "    <tr style=\"text-align: right;\">\n",
              "      <th></th>\n",
              "      <th>correct</th>\n",
              "      <th>incorrect</th>\n",
              "      <th>total_edits</th>\n",
              "    </tr>\n",
              "  </thead>\n",
              "  <tbody>\n",
              "    <tr>\n",
              "      <th>506199</th>\n",
              "      <td>I go there too frequently ?</td>\n",
              "      <td>Do I go there too frequently ?</td>\n",
              "      <td>1</td>\n",
              "    </tr>\n",
              "    <tr>\n",
              "      <th>916001</th>\n",
              "      <td>Maybe it 's time to write my article to gradua...</td>\n",
              "      <td>Maybe it 's time to write my article to gradua...</td>\n",
              "      <td>0</td>\n",
              "    </tr>\n",
              "    <tr>\n",
              "      <th>911695</th>\n",
              "      <td>I like it , and I do n't get to hear about it ...</td>\n",
              "      <td>I like it , I cant to listen it everyday .</td>\n",
              "      <td>4</td>\n",
              "    </tr>\n",
              "    <tr>\n",
              "      <th>385082</th>\n",
              "      <td>Today I 'm going to give a presentation about ...</td>\n",
              "      <td>Today I 'm going to give a presentation about ...</td>\n",
              "      <td>1</td>\n",
              "    </tr>\n",
              "    <tr>\n",
              "      <th>122712</th>\n",
              "      <td>Every word can give good explanations through ...</td>\n",
              "      <td>Every word can be given good explanations by a...</td>\n",
              "      <td>2</td>\n",
              "    </tr>\n",
              "    <tr>\n",
              "      <th>465882</th>\n",
              "      <td>But we must look on the bright side .</td>\n",
              "      <td>But look on the bright side .</td>\n",
              "      <td>1</td>\n",
              "    </tr>\n",
              "    <tr>\n",
              "      <th>444154</th>\n",
              "      <td>eh that 's all that I want to write to you .</td>\n",
              "      <td>eh ~ ~ I write to you today , that 's all .</td>\n",
              "      <td>5</td>\n",
              "    </tr>\n",
              "    <tr>\n",
              "      <th>203420</th>\n",
              "      <td>I always listen to music everynight on FM radi...</td>\n",
              "      <td>I always listen to music everynight on FM radi...</td>\n",
              "      <td>0</td>\n",
              "    </tr>\n",
              "    <tr>\n",
              "      <th>63784</th>\n",
              "      <td>A few days ago , this department store announc...</td>\n",
              "      <td>A few days ago , this department store announc...</td>\n",
              "      <td>0</td>\n",
              "    </tr>\n",
              "    <tr>\n",
              "      <th>80772</th>\n",
              "      <td>I have lived in Kamakura since June 2010 .</td>\n",
              "      <td>I have lived in Kamakura since 2010 June .</td>\n",
              "      <td>1</td>\n",
              "    </tr>\n",
              "  </tbody>\n",
              "</table>\n",
              "</div>"
            ],
            "text/plain": [
              "                                                  correct  ... total_edits\n",
              "506199                        I go there too frequently ?  ...           1\n",
              "916001  Maybe it 's time to write my article to gradua...  ...           0\n",
              "911695  I like it , and I do n't get to hear about it ...  ...           4\n",
              "385082  Today I 'm going to give a presentation about ...  ...           1\n",
              "122712  Every word can give good explanations through ...  ...           2\n",
              "465882              But we must look on the bright side .  ...           1\n",
              "444154       eh that 's all that I want to write to you .  ...           5\n",
              "203420  I always listen to music everynight on FM radi...  ...           0\n",
              "63784   A few days ago , this department store announc...  ...           0\n",
              "80772          I have lived in Kamakura since June 2010 .  ...           1\n",
              "\n",
              "[10 rows x 3 columns]"
            ]
          },
          "metadata": {},
          "execution_count": 15
        }
      ]
    },
    {
      "cell_type": "markdown",
      "metadata": {
        "id": "faEKswBCAknC"
      },
      "source": [
        "Observation: <br>\n",
        "We can see that there are numbers and special characters, those has to be removed as they do not add much to model learning"
      ]
    },
    {
      "cell_type": "markdown",
      "metadata": {
        "id": "rhYato-xA4uO"
      },
      "source": [
        "##4.5.Preprocessing text data"
      ]
    },
    {
      "cell_type": "code",
      "metadata": {
        "id": "Si4HQUzpCgV5"
      },
      "source": [
        "def decontracted(phrase):\n",
        "    # specific\n",
        "    phrase = re.sub(r\"won\\'t\", \"will not\", phrase)\n",
        "    phrase = re.sub(r\"can\\'t\", \"can not\", phrase)\n",
        "\n",
        "    # general\n",
        "    phrase = re.sub(r\"n\\'t\", \" not\", phrase)\n",
        "    phrase = re.sub(r\"\\'re\", \" are\", phrase)\n",
        "    phrase = re.sub(r\"\\'s\", \" is\", phrase)\n",
        "    phrase = re.sub(r\"\\'d\", \" would\", phrase)\n",
        "    phrase = re.sub(r\"\\'ll\", \" will\", phrase)\n",
        "    phrase = re.sub(r\"\\'t\", \" not\", phrase)\n",
        "    phrase = re.sub(r\"\\'ve\", \" have\", phrase)\n",
        "    phrase = re.sub(r\"\\'m\", \" am\", phrase)\n",
        "    return phrase"
      ],
      "execution_count": null,
      "outputs": []
    },
    {
      "cell_type": "code",
      "metadata": {
        "id": "1NmxpIKNAG5f"
      },
      "source": [
        "def clean(text):\n",
        "    \"\"\"\n",
        "    takes string as input and\n",
        "    removes characters inside (),{},[] and <>\n",
        "    removes characters like -+@#^/|*(){}$~`\n",
        "    we not not removing ,.!-:;\"' as these characters are present in english language \n",
        "    \"\"\"\n",
        "    text = re.sub('<.*>', '', text)\n",
        "    text = re.sub('\\(.*\\)', '', text)\n",
        "    text = re.sub('\\[.*\\]', '', text)\n",
        "    text = re.sub('{.*}', '', text)\n",
        "    text = re.sub(\"[-+@#^/|*(){}$~<>=_%:;]\",\"\",text)\n",
        "    text = text.replace(\"\\\\\",\"\")\n",
        "    text = re.sub(\"\\[\",\"\",text)\n",
        "    text = re.sub(\"\\]\",\"\",text)\n",
        "    text = re.sub(\"[0-9]\",\"\",text)\n",
        "    text = text.lower()\n",
        "    text = text.strip()\n",
        "    return text"
      ],
      "execution_count": null,
      "outputs": []
    },
    {
      "cell_type": "code",
      "metadata": {
        "id": "BYJFXIjxDegb"
      },
      "source": [
        "data['incorrect'] = data['incorrect'].apply(decontracted)\n",
        "data['correct'] = data['correct'].apply(decontracted)"
      ],
      "execution_count": null,
      "outputs": []
    },
    {
      "cell_type": "code",
      "metadata": {
        "id": "R1pm3doKBBqV"
      },
      "source": [
        "data['incorrect'] = data['incorrect'].apply(clean)\n",
        "data['correct'] = data['correct'].apply(clean)"
      ],
      "execution_count": null,
      "outputs": []
    },
    {
      "cell_type": "markdown",
      "metadata": {
        "id": "q9bdAsvfwX9u"
      },
      "source": [
        "after processing lets check for any nan/null values\n"
      ]
    },
    {
      "cell_type": "code",
      "metadata": {
        "colab": {
          "base_uri": "https://localhost:8080/"
        },
        "id": "3hngGYcEwXGC",
        "outputId": "9823f18e-1c25-4621-84e6-5456457cb150"
      },
      "source": [
        "data.isna().any()"
      ],
      "execution_count": null,
      "outputs": [
        {
          "output_type": "execute_result",
          "data": {
            "text/plain": [
              "correct        False\n",
              "incorrect      False\n",
              "total_edits    False\n",
              "dtype: bool"
            ]
          },
          "metadata": {},
          "execution_count": 22
        }
      ]
    },
    {
      "cell_type": "markdown",
      "metadata": {
        "id": "j3hpw-hGwfoQ"
      },
      "source": [
        "We observed there are no nan values. lets check if there are any empty values. Becaues there are few string like: <br> \n",
        "\n",
        "incorrect: 'See you later !  )'\n",
        "corrected: '(See you later)'\n",
        "\n",
        "after preprocessing they are changed to:\n",
        "incorrect: 'See you later ! : )'\n",
        "correct: ''    "
      ]
    },
    {
      "cell_type": "markdown",
      "metadata": {
        "id": "0RXgldrIBkUM"
      },
      "source": [
        "Visualizatio of sample points after cleaning"
      ]
    },
    {
      "cell_type": "code",
      "metadata": {
        "colab": {
          "base_uri": "https://localhost:8080/"
        },
        "id": "8-2uZte_xFyh",
        "outputId": "bd0a75ab-9843-4aa7-fc5c-f0844dc3bbb9"
      },
      "source": [
        "data[(data['incorrect'] == '') | (data['correct'] == '')].shape"
      ],
      "execution_count": null,
      "outputs": [
        {
          "output_type": "execute_result",
          "data": {
            "text/plain": [
              "(4401, 3)"
            ]
          },
          "metadata": {},
          "execution_count": 23
        }
      ]
    },
    {
      "cell_type": "markdown",
      "metadata": {
        "id": "skEU51zBxwWv"
      },
      "source": [
        "**Observation:** <br>\n",
        "1. We have 4401 rows with either \"incorrect\" or \"correct\" column as ''. \n",
        "2. Lets remove those"
      ]
    },
    {
      "cell_type": "code",
      "metadata": {
        "id": "f8z1RjU9yC1V"
      },
      "source": [
        "data.drop(index=data[(data['incorrect'] == '') | (data['correct'] == '')].index, inplace=True)"
      ],
      "execution_count": null,
      "outputs": []
    },
    {
      "cell_type": "code",
      "metadata": {
        "colab": {
          "base_uri": "https://localhost:8080/"
        },
        "id": "7xE9kE-YyT5f",
        "outputId": "8b933553-5313-4e06-90db-5f72c5392938"
      },
      "source": [
        "data.shape"
      ],
      "execution_count": null,
      "outputs": [
        {
          "output_type": "execute_result",
          "data": {
            "text/plain": [
              "(946346, 3)"
            ]
          },
          "metadata": {},
          "execution_count": 25
        }
      ]
    },
    {
      "cell_type": "code",
      "metadata": {
        "colab": {
          "base_uri": "https://localhost:8080/",
          "height": 662
        },
        "id": "qzRVErLcBO3R",
        "outputId": "4ba94f6e-e07d-48f0-91d4-133687cedb6b"
      },
      "source": [
        "data.sample(20)"
      ],
      "execution_count": null,
      "outputs": [
        {
          "output_type": "execute_result",
          "data": {
            "text/html": [
              "<div>\n",
              "<style scoped>\n",
              "    .dataframe tbody tr th:only-of-type {\n",
              "        vertical-align: middle;\n",
              "    }\n",
              "\n",
              "    .dataframe tbody tr th {\n",
              "        vertical-align: top;\n",
              "    }\n",
              "\n",
              "    .dataframe thead th {\n",
              "        text-align: right;\n",
              "    }\n",
              "</style>\n",
              "<table border=\"1\" class=\"dataframe\">\n",
              "  <thead>\n",
              "    <tr style=\"text-align: right;\">\n",
              "      <th></th>\n",
              "      <th>correct</th>\n",
              "      <th>incorrect</th>\n",
              "      <th>total_edits</th>\n",
              "    </tr>\n",
              "  </thead>\n",
              "  <tbody>\n",
              "    <tr>\n",
              "      <th>28546</th>\n",
              "      <td>he also said many people had already enquired ...</td>\n",
              "      <td>he also said many people had already enquired ...</td>\n",
              "      <td>0</td>\n",
              "    </tr>\n",
              "    <tr>\n",
              "      <th>685262</th>\n",
              "      <td>i know it is not good for myself nor my surrou...</td>\n",
              "      <td>i know it is not good for myself and my surrou...</td>\n",
              "      <td>1</td>\n",
              "    </tr>\n",
              "    <tr>\n",
              "      <th>878707</th>\n",
              "      <td>that  is why today  is title is written in fre...</td>\n",
              "      <td>that  is why today  is title is written in fre...</td>\n",
              "      <td>0</td>\n",
              "    </tr>\n",
              "    <tr>\n",
              "      <th>808832</th>\n",
              "      <td>i had tied it on my shorts in order to prevent...</td>\n",
              "      <td>i had tied it on my shorts in order to prevent...</td>\n",
              "      <td>0</td>\n",
              "    </tr>\n",
              "    <tr>\n",
              "      <th>643115</th>\n",
              "      <td>some peach blossoms , rice cakes , and sweets ...</td>\n",
              "      <td>some peach blossoms , rice cakes , some sweeet...</td>\n",
              "      <td>4</td>\n",
              "    </tr>\n",
              "    <tr>\n",
              "      <th>309360</th>\n",
              "      <td>today , i played tennis .</td>\n",
              "      <td>today , i played tennis .</td>\n",
              "      <td>0</td>\n",
              "    </tr>\n",
              "    <tr>\n",
              "      <th>574842</th>\n",
              "      <td>do you know sweet potato ?</td>\n",
              "      <td>do you know sweet potate ?</td>\n",
              "      <td>1</td>\n",
              "    </tr>\n",
              "    <tr>\n",
              "      <th>259168</th>\n",
              "      <td>domestic disaster</td>\n",
              "      <td>domestic disaster</td>\n",
              "      <td>0</td>\n",
              "    </tr>\n",
              "    <tr>\n",
              "      <th>736614</th>\n",
              "      <td>i have totally no idea what to do now , but i ...</td>\n",
              "      <td>i have totaly no idea what to do now but , i  ...</td>\n",
              "      <td>5</td>\n",
              "    </tr>\n",
              "    <tr>\n",
              "      <th>604640</th>\n",
              "      <td>they will rot , if they are  not on ice .</td>\n",
              "      <td>they will rot , if they wo  not on ice .</td>\n",
              "      <td>2</td>\n",
              "    </tr>\n",
              "    <tr>\n",
              "      <th>755061</th>\n",
              "      <td>i have a ticket of univercity .</td>\n",
              "      <td>i have a ticket of univercity .</td>\n",
              "      <td>0</td>\n",
              "    </tr>\n",
              "    <tr>\n",
              "      <th>654987</th>\n",
              "      <td>i wish i went to school before work .</td>\n",
              "      <td>i wish i went to school before work .</td>\n",
              "      <td>0</td>\n",
              "    </tr>\n",
              "    <tr>\n",
              "      <th>135287</th>\n",
              "      <td>i also be able to find strange points on that ...</td>\n",
              "      <td>i also be able to find strange points on that ...</td>\n",
              "      <td>0</td>\n",
              "    </tr>\n",
              "    <tr>\n",
              "      <th>522811</th>\n",
              "      <td>for example , our dormitory was equiped with a...</td>\n",
              "      <td>such as our dormitory was equiped air  conditi...</td>\n",
              "      <td>3</td>\n",
              "    </tr>\n",
              "    <tr>\n",
              "      <th>899851</th>\n",
              "      <td>my leader assigned it to me just now</td>\n",
              "      <td>just now my leader assigned it to me .</td>\n",
              "      <td>2</td>\n",
              "    </tr>\n",
              "    <tr>\n",
              "      <th>409563</th>\n",
              "      <td>i  have been reading the book `` grammar in us...</td>\n",
              "      <td>i  have been reading the book `` grammar in us...</td>\n",
              "      <td>4</td>\n",
              "    </tr>\n",
              "    <tr>\n",
              "      <th>776441</th>\n",
              "      <td>promise to begin</td>\n",
              "      <td>promise to begin</td>\n",
              "      <td>0</td>\n",
              "    </tr>\n",
              "    <tr>\n",
              "      <th>517940</th>\n",
              "      <td>so i like her so much .</td>\n",
              "      <td>so i like her so much .</td>\n",
              "      <td>0</td>\n",
              "    </tr>\n",
              "    <tr>\n",
              "      <th>891226</th>\n",
              "      <td>since i am in the third grade ,</td>\n",
              "      <td>since i am in the third grade ,</td>\n",
              "      <td>0</td>\n",
              "    </tr>\n",
              "    <tr>\n",
              "      <th>792227</th>\n",
              "      <td>baseball is a team game , teamwork is very imp...</td>\n",
              "      <td>baseball game is a team game , teamwork is ver...</td>\n",
              "      <td>1</td>\n",
              "    </tr>\n",
              "  </tbody>\n",
              "</table>\n",
              "</div>"
            ],
            "text/plain": [
              "                                                  correct  ... total_edits\n",
              "28546   he also said many people had already enquired ...  ...           0\n",
              "685262  i know it is not good for myself nor my surrou...  ...           1\n",
              "878707  that  is why today  is title is written in fre...  ...           0\n",
              "808832  i had tied it on my shorts in order to prevent...  ...           0\n",
              "643115  some peach blossoms , rice cakes , and sweets ...  ...           4\n",
              "309360                          today , i played tennis .  ...           0\n",
              "574842                         do you know sweet potato ?  ...           1\n",
              "259168                                  domestic disaster  ...           0\n",
              "736614  i have totally no idea what to do now , but i ...  ...           5\n",
              "604640          they will rot , if they are  not on ice .  ...           2\n",
              "755061                    i have a ticket of univercity .  ...           0\n",
              "654987              i wish i went to school before work .  ...           0\n",
              "135287  i also be able to find strange points on that ...  ...           0\n",
              "522811  for example , our dormitory was equiped with a...  ...           3\n",
              "899851               my leader assigned it to me just now  ...           2\n",
              "409563  i  have been reading the book `` grammar in us...  ...           4\n",
              "776441                                   promise to begin  ...           0\n",
              "517940                            so i like her so much .  ...           0\n",
              "891226                    since i am in the third grade ,  ...           0\n",
              "792227  baseball is a team game , teamwork is very imp...  ...           1\n",
              "\n",
              "[20 rows x 3 columns]"
            ]
          },
          "metadata": {},
          "execution_count": 26
        }
      ]
    },
    {
      "cell_type": "code",
      "metadata": {
        "colab": {
          "base_uri": "https://localhost:8080/",
          "height": 355
        },
        "id": "_ZncaF1KFs05",
        "outputId": "27b5f525-bef0-444a-ca60-ab8223fb4558"
      },
      "source": [
        "data.sample(10)"
      ],
      "execution_count": null,
      "outputs": [
        {
          "output_type": "execute_result",
          "data": {
            "text/html": [
              "<div>\n",
              "<style scoped>\n",
              "    .dataframe tbody tr th:only-of-type {\n",
              "        vertical-align: middle;\n",
              "    }\n",
              "\n",
              "    .dataframe tbody tr th {\n",
              "        vertical-align: top;\n",
              "    }\n",
              "\n",
              "    .dataframe thead th {\n",
              "        text-align: right;\n",
              "    }\n",
              "</style>\n",
              "<table border=\"1\" class=\"dataframe\">\n",
              "  <thead>\n",
              "    <tr style=\"text-align: right;\">\n",
              "      <th></th>\n",
              "      <th>correct</th>\n",
              "      <th>incorrect</th>\n",
              "      <th>total_edits</th>\n",
              "    </tr>\n",
              "  </thead>\n",
              "  <tbody>\n",
              "    <tr>\n",
              "      <th>664823</th>\n",
              "      <td>tomorrow i  am going to meet the copier machin...</td>\n",
              "      <td>tomorrow i  am going to meet copy machine sals...</td>\n",
              "      <td>2</td>\n",
              "    </tr>\n",
              "    <tr>\n",
              "      <th>249753</th>\n",
              "      <td>life is hard</td>\n",
              "      <td>life is hard</td>\n",
              "      <td>0</td>\n",
              "    </tr>\n",
              "    <tr>\n",
              "      <th>518561</th>\n",
              "      <td>it  is a traditional alcohol of korea .</td>\n",
              "      <td>it  is tradition alcohol of korea</td>\n",
              "      <td>5</td>\n",
              "    </tr>\n",
              "    <tr>\n",
              "      <th>204679</th>\n",
              "      <td>i got some e  mails from my old student today .</td>\n",
              "      <td>i got some e  mails from old student today .</td>\n",
              "      <td>1</td>\n",
              "    </tr>\n",
              "    <tr>\n",
              "      <th>547586</th>\n",
              "      <td>it was very exciting , impressive and wonderfu...</td>\n",
              "      <td>it was very exciting , impressive and wonderfu...</td>\n",
              "      <td>0</td>\n",
              "    </tr>\n",
              "    <tr>\n",
              "      <th>73816</th>\n",
              "      <td>from now on , i just want to try to understand...</td>\n",
              "      <td>from now on , i just wanna try to solve some p...</td>\n",
              "      <td>2</td>\n",
              "    </tr>\n",
              "    <tr>\n",
              "      <th>435176</th>\n",
              "      <td>my name is mica .</td>\n",
              "      <td>my name is mica .</td>\n",
              "      <td>0</td>\n",
              "    </tr>\n",
              "    <tr>\n",
              "      <th>792458</th>\n",
              "      <td>because i can write sentence after thought .</td>\n",
              "      <td>because i can write sentence after i thought .</td>\n",
              "      <td>1</td>\n",
              "    </tr>\n",
              "    <tr>\n",
              "      <th>311593</th>\n",
              "      <td>i arrange my bag and put inside it my notebook...</td>\n",
              "      <td>i arrange my bag , i put inside it my notebook...</td>\n",
              "      <td>3</td>\n",
              "    </tr>\n",
              "    <tr>\n",
              "      <th>340323</th>\n",
              "      <td>you  have been waiting for a long time .</td>\n",
              "      <td>you  have been waiting for a long time .</td>\n",
              "      <td>0</td>\n",
              "    </tr>\n",
              "  </tbody>\n",
              "</table>\n",
              "</div>"
            ],
            "text/plain": [
              "                                                  correct  ... total_edits\n",
              "664823  tomorrow i  am going to meet the copier machin...  ...           2\n",
              "249753                                       life is hard  ...           0\n",
              "518561            it  is a traditional alcohol of korea .  ...           5\n",
              "204679    i got some e  mails from my old student today .  ...           1\n",
              "547586  it was very exciting , impressive and wonderfu...  ...           0\n",
              "73816   from now on , i just want to try to understand...  ...           2\n",
              "435176                                  my name is mica .  ...           0\n",
              "792458       because i can write sentence after thought .  ...           1\n",
              "311593  i arrange my bag and put inside it my notebook...  ...           3\n",
              "340323           you  have been waiting for a long time .  ...           0\n",
              "\n",
              "[10 rows x 3 columns]"
            ]
          },
          "metadata": {},
          "execution_count": 27
        }
      ]
    },
    {
      "cell_type": "markdown",
      "metadata": {
        "id": "VE-Pd6psDKCO"
      },
      "source": [
        "After cleaning, lets check for duplicates after removing special characters"
      ]
    },
    {
      "cell_type": "code",
      "metadata": {
        "colab": {
          "base_uri": "https://localhost:8080/"
        },
        "id": "77hb8-P1DPAd",
        "outputId": "be627ec5-5c38-47e9-9e35-fc9772b484b2"
      },
      "source": [
        "data.duplicated(['correct','incorrect']).values.sum()"
      ],
      "execution_count": null,
      "outputs": [
        {
          "output_type": "execute_result",
          "data": {
            "text/plain": [
              "16613"
            ]
          },
          "metadata": {},
          "execution_count": 28
        }
      ]
    },
    {
      "cell_type": "markdown",
      "metadata": {
        "id": "oymSOpa4DxRj"
      },
      "source": [
        "**Obsevation :** <br>\n",
        "1. We can see after preprocessing there are 16613 duplicate values\n",
        "2. removing those as they do not add for model training"
      ]
    },
    {
      "cell_type": "code",
      "metadata": {
        "colab": {
          "base_uri": "https://localhost:8080/",
          "height": 414
        },
        "id": "7dGTeIiUcCt_",
        "outputId": "7744143f-d723-4cad-d705-ef5e4d226f98"
      },
      "source": [
        "data[data.duplicated(['correct','incorrect'])]"
      ],
      "execution_count": null,
      "outputs": [
        {
          "output_type": "execute_result",
          "data": {
            "text/html": [
              "<div>\n",
              "<style scoped>\n",
              "    .dataframe tbody tr th:only-of-type {\n",
              "        vertical-align: middle;\n",
              "    }\n",
              "\n",
              "    .dataframe tbody tr th {\n",
              "        vertical-align: top;\n",
              "    }\n",
              "\n",
              "    .dataframe thead th {\n",
              "        text-align: right;\n",
              "    }\n",
              "</style>\n",
              "<table border=\"1\" class=\"dataframe\">\n",
              "  <thead>\n",
              "    <tr style=\"text-align: right;\">\n",
              "      <th></th>\n",
              "      <th>correct</th>\n",
              "      <th>incorrect</th>\n",
              "      <th>total_edits</th>\n",
              "    </tr>\n",
              "  </thead>\n",
              "  <tbody>\n",
              "    <tr>\n",
              "      <th>225</th>\n",
              "      <td>bye !</td>\n",
              "      <td>bye !</td>\n",
              "      <td>0</td>\n",
              "    </tr>\n",
              "    <tr>\n",
              "      <th>342</th>\n",
              "      <td>self  introduction</td>\n",
              "      <td>self  introduction</td>\n",
              "      <td>0</td>\n",
              "    </tr>\n",
              "    <tr>\n",
              "      <th>371</th>\n",
              "      <td>.</td>\n",
              "      <td>.</td>\n",
              "      <td>0</td>\n",
              "    </tr>\n",
              "    <tr>\n",
              "      <th>374</th>\n",
              "      <td>.</td>\n",
              "      <td>.</td>\n",
              "      <td>0</td>\n",
              "    </tr>\n",
              "    <tr>\n",
              "      <th>377</th>\n",
              "      <td>.</td>\n",
              "      <td>.</td>\n",
              "      <td>0</td>\n",
              "    </tr>\n",
              "    <tr>\n",
              "      <th>...</th>\n",
              "      <td>...</td>\n",
              "      <td>...</td>\n",
              "      <td>...</td>\n",
              "    </tr>\n",
              "    <tr>\n",
              "      <th>950368</th>\n",
              "      <td>hello everyone ! ! !</td>\n",
              "      <td>hello everyone ! ! !</td>\n",
              "      <td>0</td>\n",
              "    </tr>\n",
              "    <tr>\n",
              "      <th>950410</th>\n",
              "      <td>aeroflot</td>\n",
              "      <td>aeroflot</td>\n",
              "      <td>0</td>\n",
              "    </tr>\n",
              "    <tr>\n",
              "      <th>950539</th>\n",
              "      <td>.</td>\n",
              "      <td>.</td>\n",
              "      <td>0</td>\n",
              "    </tr>\n",
              "    <tr>\n",
              "      <th>950641</th>\n",
              "      <td>life insurance</td>\n",
              "      <td>life insurance</td>\n",
              "      <td>0</td>\n",
              "    </tr>\n",
              "    <tr>\n",
              "      <th>950711</th>\n",
              "      <td>thanks to my friends</td>\n",
              "      <td>thanks to my friends</td>\n",
              "      <td>0</td>\n",
              "    </tr>\n",
              "  </tbody>\n",
              "</table>\n",
              "<p>16613 rows × 3 columns</p>\n",
              "</div>"
            ],
            "text/plain": [
              "                     correct             incorrect  total_edits\n",
              "225                    bye !                 bye !            0\n",
              "342       self  introduction    self  introduction            0\n",
              "371                        .                     .            0\n",
              "374                        .                     .            0\n",
              "377                        .                     .            0\n",
              "...                      ...                   ...          ...\n",
              "950368  hello everyone ! ! !  hello everyone ! ! !            0\n",
              "950410              aeroflot              aeroflot            0\n",
              "950539                     .                     .            0\n",
              "950641        life insurance        life insurance            0\n",
              "950711  thanks to my friends  thanks to my friends            0\n",
              "\n",
              "[16613 rows x 3 columns]"
            ]
          },
          "metadata": {},
          "execution_count": 29
        }
      ]
    },
    {
      "cell_type": "code",
      "metadata": {
        "colab": {
          "base_uri": "https://localhost:8080/"
        },
        "id": "wbCuBMTvD-TO",
        "outputId": "afd932b6-b0b5-4df5-c12d-612b4a1bbe3f"
      },
      "source": [
        "data.drop_duplicates(['correct','incorrect'], inplace=True, keep='first')\n",
        "data.reset_index(drop=True, inplace=True)\n",
        "data.shape"
      ],
      "execution_count": null,
      "outputs": [
        {
          "output_type": "execute_result",
          "data": {
            "text/plain": [
              "(929733, 3)"
            ]
          },
          "metadata": {},
          "execution_count": 30
        }
      ]
    },
    {
      "cell_type": "code",
      "metadata": {
        "colab": {
          "base_uri": "https://localhost:8080/"
        },
        "id": "_Wp6G-RRcX1i",
        "outputId": "adbd32a7-e320-41b4-ad6c-3ccb52a84f0c"
      },
      "source": [
        "data.isna().any()"
      ],
      "execution_count": null,
      "outputs": [
        {
          "output_type": "execute_result",
          "data": {
            "text/plain": [
              "correct        False\n",
              "incorrect      False\n",
              "total_edits    False\n",
              "dtype: bool"
            ]
          },
          "metadata": {},
          "execution_count": 31
        }
      ]
    },
    {
      "cell_type": "code",
      "metadata": {
        "id": "tCj9nD6ICM1c"
      },
      "source": [
        "data.to_csv('./Data/csv_data/lang8/lang8_anno_id0_preprocessed.csv', index=False)"
      ],
      "execution_count": null,
      "outputs": []
    },
    {
      "cell_type": "code",
      "metadata": {
        "id": "4Vp9rlg9DfIo"
      },
      "source": [
        "data = pd.read_csv('./Data/csv_data/lang8/lang8_anno_id0_preprocessed.csv')"
      ],
      "execution_count": null,
      "outputs": []
    },
    {
      "cell_type": "markdown",
      "metadata": {
        "id": "qB_BeHIgCl7n"
      },
      "source": [
        "##4.6.Univariate Analysis"
      ]
    },
    {
      "cell_type": "markdown",
      "metadata": {
        "id": "4P63m8SGCt3A"
      },
      "source": [
        "###4.6.1.Analysis on characters"
      ]
    },
    {
      "cell_type": "markdown",
      "metadata": {
        "id": "xu92UiwbC0rq"
      },
      "source": [
        "####4.6.1.1.Incorrect "
      ]
    },
    {
      "cell_type": "code",
      "metadata": {
        "id": "PkeeiJHaCjv1"
      },
      "source": [
        "char_count = lambda x: len(str(x))"
      ],
      "execution_count": null,
      "outputs": []
    },
    {
      "cell_type": "code",
      "metadata": {
        "id": "zge1FaRYC-20"
      },
      "source": [
        "data['incorrect_char_len'] = data['incorrect'].apply(char_count)\n",
        "data['correct_char_len'] = data['correct'].apply(char_count)"
      ],
      "execution_count": null,
      "outputs": []
    },
    {
      "cell_type": "code",
      "metadata": {
        "colab": {
          "base_uri": "https://localhost:8080/",
          "height": 355
        },
        "id": "7oL52MH2DHAn",
        "outputId": "51591724-d6a8-492b-ecc2-5dd0a81bd74b"
      },
      "source": [
        "data.sample(10)"
      ],
      "execution_count": null,
      "outputs": [
        {
          "output_type": "execute_result",
          "data": {
            "text/html": [
              "<div>\n",
              "<style scoped>\n",
              "    .dataframe tbody tr th:only-of-type {\n",
              "        vertical-align: middle;\n",
              "    }\n",
              "\n",
              "    .dataframe tbody tr th {\n",
              "        vertical-align: top;\n",
              "    }\n",
              "\n",
              "    .dataframe thead th {\n",
              "        text-align: right;\n",
              "    }\n",
              "</style>\n",
              "<table border=\"1\" class=\"dataframe\">\n",
              "  <thead>\n",
              "    <tr style=\"text-align: right;\">\n",
              "      <th></th>\n",
              "      <th>correct</th>\n",
              "      <th>incorrect</th>\n",
              "      <th>total_edits</th>\n",
              "      <th>incorrect_char_len</th>\n",
              "      <th>correct_char_len</th>\n",
              "    </tr>\n",
              "  </thead>\n",
              "  <tbody>\n",
              "    <tr>\n",
              "      <th>391277</th>\n",
              "      <td>another busy day !</td>\n",
              "      <td>another busy day !</td>\n",
              "      <td>0</td>\n",
              "      <td>18</td>\n",
              "      <td>18</td>\n",
              "    </tr>\n",
              "    <tr>\n",
              "      <th>741102</th>\n",
              "      <td>the aim of my visit was to eat the bison burger .</td>\n",
              "      <td>the aim of my visit was to eat the bison burger .</td>\n",
              "      <td>0</td>\n",
              "      <td>49</td>\n",
              "      <td>49</td>\n",
              "    </tr>\n",
              "    <tr>\n",
              "      <th>822288</th>\n",
              "      <td>today was the last day of school in this year ...</td>\n",
              "      <td>today was the last day of school in this year ...</td>\n",
              "      <td>0</td>\n",
              "      <td>112</td>\n",
              "      <td>112</td>\n",
              "    </tr>\n",
              "    <tr>\n",
              "      <th>188763</th>\n",
              "      <td>describe your dream workplace .</td>\n",
              "      <td>describe your dream workplace .</td>\n",
              "      <td>0</td>\n",
              "      <td>31</td>\n",
              "      <td>31</td>\n",
              "    </tr>\n",
              "    <tr>\n",
              "      <th>350892</th>\n",
              "      <td>my name is krokawa .</td>\n",
              "      <td>my name is krokawa .</td>\n",
              "      <td>0</td>\n",
              "      <td>20</td>\n",
              "      <td>20</td>\n",
              "    </tr>\n",
              "    <tr>\n",
              "      <th>375947</th>\n",
              "      <td>my throat was still sore .</td>\n",
              "      <td>my throat was still soar .</td>\n",
              "      <td>1</td>\n",
              "      <td>26</td>\n",
              "      <td>26</td>\n",
              "    </tr>\n",
              "    <tr>\n",
              "      <th>572074</th>\n",
              "      <td>because i think he deserves  the yankees .</td>\n",
              "      <td>because he deserves the yankees , i think .</td>\n",
              "      <td>3</td>\n",
              "      <td>43</td>\n",
              "      <td>42</td>\n",
              "    </tr>\n",
              "    <tr>\n",
              "      <th>845520</th>\n",
              "      <td>today , i searched for my german friend  is na...</td>\n",
              "      <td>today , i searched my germany friend in her na...</td>\n",
              "      <td>3</td>\n",
              "      <td>50</td>\n",
              "      <td>50</td>\n",
              "    </tr>\n",
              "    <tr>\n",
              "      <th>921460</th>\n",
              "      <td>and through some windows i can see some green ...</td>\n",
              "      <td>and through some windows i can see some greeen...</td>\n",
              "      <td>1</td>\n",
              "      <td>64</td>\n",
              "      <td>63</td>\n",
              "    </tr>\n",
              "    <tr>\n",
              "      <th>439395</th>\n",
              "      <td>i  am not flabby , but it  is important to avo...</td>\n",
              "      <td>i  am not flabby , but it  is important to avo...</td>\n",
              "      <td>0</td>\n",
              "      <td>85</td>\n",
              "      <td>85</td>\n",
              "    </tr>\n",
              "  </tbody>\n",
              "</table>\n",
              "</div>"
            ],
            "text/plain": [
              "                                                  correct  ... correct_char_len\n",
              "391277                                 another busy day !  ...               18\n",
              "741102  the aim of my visit was to eat the bison burger .  ...               49\n",
              "822288  today was the last day of school in this year ...  ...              112\n",
              "188763                    describe your dream workplace .  ...               31\n",
              "350892                               my name is krokawa .  ...               20\n",
              "375947                         my throat was still sore .  ...               26\n",
              "572074         because i think he deserves  the yankees .  ...               42\n",
              "845520  today , i searched for my german friend  is na...  ...               50\n",
              "921460  and through some windows i can see some green ...  ...               63\n",
              "439395  i  am not flabby , but it  is important to avo...  ...               85\n",
              "\n",
              "[10 rows x 5 columns]"
            ]
          },
          "metadata": {},
          "execution_count": 36
        }
      ]
    },
    {
      "cell_type": "markdown",
      "metadata": {
        "id": "WR6AyoeYE44V"
      },
      "source": [
        "####character range in incorrect data points"
      ]
    },
    {
      "cell_type": "code",
      "metadata": {
        "colab": {
          "base_uri": "https://localhost:8080/"
        },
        "id": "sJxkZ36GEbzw",
        "outputId": "72c3c6a8-ba55-414a-c75c-ff13153fb4f3"
      },
      "source": [
        "data['incorrect_char_len'].min(), data['incorrect_char_len'].max()"
      ],
      "execution_count": null,
      "outputs": [
        {
          "output_type": "execute_result",
          "data": {
            "text/plain": [
              "(1, 1769)"
            ]
          },
          "metadata": {},
          "execution_count": 37
        }
      ]
    },
    {
      "cell_type": "markdown",
      "metadata": {
        "id": "7s2YNEFFGhkK"
      },
      "source": [
        "Observation: <br> \n",
        "1. we have min character length as 1, may be a single character. We should remove these points as they do not add much for model training"
      ]
    },
    {
      "cell_type": "code",
      "metadata": {
        "colab": {
          "base_uri": "https://localhost:8080/",
          "height": 1000
        },
        "id": "pAyic0VdG30P",
        "outputId": "211e3eb8-37cc-4673-c8d2-86cb04d61566"
      },
      "source": [
        "data[data['incorrect_char_len'] == 1]"
      ],
      "execution_count": null,
      "outputs": [
        {
          "output_type": "execute_result",
          "data": {
            "text/html": [
              "<div>\n",
              "<style scoped>\n",
              "    .dataframe tbody tr th:only-of-type {\n",
              "        vertical-align: middle;\n",
              "    }\n",
              "\n",
              "    .dataframe tbody tr th {\n",
              "        vertical-align: top;\n",
              "    }\n",
              "\n",
              "    .dataframe thead th {\n",
              "        text-align: right;\n",
              "    }\n",
              "</style>\n",
              "<table border=\"1\" class=\"dataframe\">\n",
              "  <thead>\n",
              "    <tr style=\"text-align: right;\">\n",
              "      <th></th>\n",
              "      <th>correct</th>\n",
              "      <th>incorrect</th>\n",
              "      <th>total_edits</th>\n",
              "      <th>incorrect_char_len</th>\n",
              "      <th>correct_char_len</th>\n",
              "    </tr>\n",
              "  </thead>\n",
              "  <tbody>\n",
              "    <tr>\n",
              "      <th>364</th>\n",
              "      <td>.</td>\n",
              "      <td>.</td>\n",
              "      <td>0</td>\n",
              "      <td>1</td>\n",
              "      <td>1</td>\n",
              "    </tr>\n",
              "    <tr>\n",
              "      <th>460</th>\n",
              "      <td>d</td>\n",
              "      <td>d</td>\n",
              "      <td>0</td>\n",
              "      <td>1</td>\n",
              "      <td>1</td>\n",
              "    </tr>\n",
              "    <tr>\n",
              "      <th>1412</th>\n",
              "      <td>w</td>\n",
              "      <td>w</td>\n",
              "      <td>0</td>\n",
              "      <td>1</td>\n",
              "      <td>1</td>\n",
              "    </tr>\n",
              "    <tr>\n",
              "      <th>2064</th>\n",
              "      <td>t</td>\n",
              "      <td>t</td>\n",
              "      <td>0</td>\n",
              "      <td>1</td>\n",
              "      <td>1</td>\n",
              "    </tr>\n",
              "    <tr>\n",
              "      <th>2703</th>\n",
              "      <td>a</td>\n",
              "      <td>a</td>\n",
              "      <td>0</td>\n",
              "      <td>1</td>\n",
              "      <td>1</td>\n",
              "    </tr>\n",
              "    <tr>\n",
              "      <th>4704</th>\n",
              "      <td>x</td>\n",
              "      <td>x</td>\n",
              "      <td>0</td>\n",
              "      <td>1</td>\n",
              "      <td>1</td>\n",
              "    </tr>\n",
              "    <tr>\n",
              "      <th>7755</th>\n",
              "      <td>!</td>\n",
              "      <td>!</td>\n",
              "      <td>0</td>\n",
              "      <td>1</td>\n",
              "      <td>1</td>\n",
              "    </tr>\n",
              "    <tr>\n",
              "      <th>7883</th>\n",
              "      <td>p</td>\n",
              "      <td>p</td>\n",
              "      <td>0</td>\n",
              "      <td>1</td>\n",
              "      <td>1</td>\n",
              "    </tr>\n",
              "    <tr>\n",
              "      <th>8298</th>\n",
              "      <td>'</td>\n",
              "      <td>'</td>\n",
              "      <td>0</td>\n",
              "      <td>1</td>\n",
              "      <td>1</td>\n",
              "    </tr>\n",
              "    <tr>\n",
              "      <th>9045</th>\n",
              "      <td>?</td>\n",
              "      <td>?</td>\n",
              "      <td>1</td>\n",
              "      <td>1</td>\n",
              "      <td>1</td>\n",
              "    </tr>\n",
              "    <tr>\n",
              "      <th>11404</th>\n",
              "      <td>v</td>\n",
              "      <td>v</td>\n",
              "      <td>0</td>\n",
              "      <td>1</td>\n",
              "      <td>1</td>\n",
              "    </tr>\n",
              "    <tr>\n",
              "      <th>13676</th>\n",
              "      <td>i</td>\n",
              "      <td>i</td>\n",
              "      <td>0</td>\n",
              "      <td>1</td>\n",
              "      <td>1</td>\n",
              "    </tr>\n",
              "    <tr>\n",
              "      <th>19388</th>\n",
              "      <td>m</td>\n",
              "      <td>m</td>\n",
              "      <td>0</td>\n",
              "      <td>1</td>\n",
              "      <td>1</td>\n",
              "    </tr>\n",
              "    <tr>\n",
              "      <th>20983</th>\n",
              "      <td>o</td>\n",
              "      <td>o</td>\n",
              "      <td>0</td>\n",
              "      <td>1</td>\n",
              "      <td>1</td>\n",
              "    </tr>\n",
              "    <tr>\n",
              "      <th>36026</th>\n",
              "      <td>s</td>\n",
              "      <td>s</td>\n",
              "      <td>0</td>\n",
              "      <td>1</td>\n",
              "      <td>1</td>\n",
              "    </tr>\n",
              "    <tr>\n",
              "      <th>39936</th>\n",
              "      <td>c</td>\n",
              "      <td>c</td>\n",
              "      <td>0</td>\n",
              "      <td>1</td>\n",
              "      <td>1</td>\n",
              "    </tr>\n",
              "    <tr>\n",
              "      <th>59584</th>\n",
              "      <td>`</td>\n",
              "      <td>`</td>\n",
              "      <td>0</td>\n",
              "      <td>1</td>\n",
              "      <td>1</td>\n",
              "    </tr>\n",
              "    <tr>\n",
              "      <th>60050</th>\n",
              "      <td>l</td>\n",
              "      <td>l</td>\n",
              "      <td>0</td>\n",
              "      <td>1</td>\n",
              "      <td>1</td>\n",
              "    </tr>\n",
              "    <tr>\n",
              "      <th>63817</th>\n",
              "      <td>an hour .</td>\n",
              "      <td>.</td>\n",
              "      <td>1</td>\n",
              "      <td>1</td>\n",
              "      <td>9</td>\n",
              "    </tr>\n",
              "    <tr>\n",
              "      <th>79058</th>\n",
              "      <td>q</td>\n",
              "      <td>q</td>\n",
              "      <td>0</td>\n",
              "      <td>1</td>\n",
              "      <td>1</td>\n",
              "    </tr>\n",
              "    <tr>\n",
              "      <th>82210</th>\n",
              "      <td>b</td>\n",
              "      <td>b</td>\n",
              "      <td>0</td>\n",
              "      <td>1</td>\n",
              "      <td>1</td>\n",
              "    </tr>\n",
              "    <tr>\n",
              "      <th>96191</th>\n",
              "      <td>am</td>\n",
              "      <td>m</td>\n",
              "      <td>2</td>\n",
              "      <td>1</td>\n",
              "      <td>2</td>\n",
              "    </tr>\n",
              "    <tr>\n",
              "      <th>108853</th>\n",
              "      <td>h</td>\n",
              "      <td>h</td>\n",
              "      <td>0</td>\n",
              "      <td>1</td>\n",
              "      <td>1</td>\n",
              "    </tr>\n",
              "    <tr>\n",
              "      <th>110688</th>\n",
              "      <td>j</td>\n",
              "      <td>j</td>\n",
              "      <td>0</td>\n",
              "      <td>1</td>\n",
              "      <td>1</td>\n",
              "    </tr>\n",
              "    <tr>\n",
              "      <th>133093</th>\n",
              "      <td>f</td>\n",
              "      <td>f</td>\n",
              "      <td>0</td>\n",
              "      <td>1</td>\n",
              "      <td>1</td>\n",
              "    </tr>\n",
              "    <tr>\n",
              "      <th>138562</th>\n",
              "      <td>r</td>\n",
              "      <td>r</td>\n",
              "      <td>0</td>\n",
              "      <td>1</td>\n",
              "      <td>1</td>\n",
              "    </tr>\n",
              "    <tr>\n",
              "      <th>146303</th>\n",
              "      <td>,</td>\n",
              "      <td>,</td>\n",
              "      <td>0</td>\n",
              "      <td>1</td>\n",
              "      <td>1</td>\n",
              "    </tr>\n",
              "    <tr>\n",
              "      <th>176992</th>\n",
              "      <td>'   q  q</td>\n",
              "      <td>'</td>\n",
              "      <td>1</td>\n",
              "      <td>1</td>\n",
              "      <td>8</td>\n",
              "    </tr>\n",
              "    <tr>\n",
              "      <th>178176</th>\n",
              "      <td>k</td>\n",
              "      <td>k</td>\n",
              "      <td>0</td>\n",
              "      <td>1</td>\n",
              "      <td>1</td>\n",
              "    </tr>\n",
              "    <tr>\n",
              "      <th>184147</th>\n",
              "      <td>g</td>\n",
              "      <td>g</td>\n",
              "      <td>0</td>\n",
              "      <td>1</td>\n",
              "      <td>1</td>\n",
              "    </tr>\n",
              "    <tr>\n",
              "      <th>193357</th>\n",
              "      <td>n</td>\n",
              "      <td>n</td>\n",
              "      <td>0</td>\n",
              "      <td>1</td>\n",
              "      <td>1</td>\n",
              "    </tr>\n",
              "    <tr>\n",
              "      <th>195074</th>\n",
              "      <td>created the body part .</td>\n",
              "      <td>.</td>\n",
              "      <td>1</td>\n",
              "      <td>1</td>\n",
              "      <td>23</td>\n",
              "    </tr>\n",
              "    <tr>\n",
              "      <th>209023</th>\n",
              "      <td>part</td>\n",
              "      <td>.</td>\n",
              "      <td>2</td>\n",
              "      <td>1</td>\n",
              "      <td>4</td>\n",
              "    </tr>\n",
              "    <tr>\n",
              "      <th>248631</th>\n",
              "      <td>x   p</td>\n",
              "      <td>x</td>\n",
              "      <td>1</td>\n",
              "      <td>1</td>\n",
              "      <td>5</td>\n",
              "    </tr>\n",
              "    <tr>\n",
              "      <th>262769</th>\n",
              "      <td>u</td>\n",
              "      <td>u</td>\n",
              "      <td>0</td>\n",
              "      <td>1</td>\n",
              "      <td>1</td>\n",
              "    </tr>\n",
              "    <tr>\n",
              "      <th>272240</th>\n",
              "      <td>it  is the vet , dear !</td>\n",
              "      <td>!</td>\n",
              "      <td>3</td>\n",
              "      <td>1</td>\n",
              "      <td>23</td>\n",
              "    </tr>\n",
              "    <tr>\n",
              "      <th>305339</th>\n",
              "      <td>st .</td>\n",
              "      <td>.</td>\n",
              "      <td>1</td>\n",
              "      <td>1</td>\n",
              "      <td>4</td>\n",
              "    </tr>\n",
              "    <tr>\n",
              "      <th>337963</th>\n",
              "      <td>twenty !</td>\n",
              "      <td>!</td>\n",
              "      <td>1</td>\n",
              "      <td>1</td>\n",
              "      <td>8</td>\n",
              "    </tr>\n",
              "    <tr>\n",
              "      <th>347283</th>\n",
              "      <td>&amp;</td>\n",
              "      <td>&amp;</td>\n",
              "      <td>0</td>\n",
              "      <td>1</td>\n",
              "      <td>1</td>\n",
              "    </tr>\n",
              "    <tr>\n",
              "      <th>357324</th>\n",
              "      <td>december th . diary    ?</td>\n",
              "      <td>.</td>\n",
              "      <td>4</td>\n",
              "      <td>1</td>\n",
              "      <td>24</td>\n",
              "    </tr>\n",
              "    <tr>\n",
              "      <th>407204</th>\n",
              "      <td>m       money</td>\n",
              "      <td>m</td>\n",
              "      <td>1</td>\n",
              "      <td>1</td>\n",
              "      <td>13</td>\n",
              "    </tr>\n",
              "    <tr>\n",
              "      <th>407206</th>\n",
              "      <td>g         glasses</td>\n",
              "      <td>g</td>\n",
              "      <td>1</td>\n",
              "      <td>1</td>\n",
              "      <td>17</td>\n",
              "    </tr>\n",
              "    <tr>\n",
              "      <th>407208</th>\n",
              "      <td>h            homosexual</td>\n",
              "      <td>h</td>\n",
              "      <td>1</td>\n",
              "      <td>1</td>\n",
              "      <td>23</td>\n",
              "    </tr>\n",
              "    <tr>\n",
              "      <th>407210</th>\n",
              "      <td>s       shoes</td>\n",
              "      <td>s</td>\n",
              "      <td>1</td>\n",
              "      <td>1</td>\n",
              "      <td>13</td>\n",
              "    </tr>\n",
              "    <tr>\n",
              "      <th>407215</th>\n",
              "      <td>f      food</td>\n",
              "      <td>f</td>\n",
              "      <td>1</td>\n",
              "      <td>1</td>\n",
              "      <td>11</td>\n",
              "    </tr>\n",
              "    <tr>\n",
              "      <th>407217</th>\n",
              "      <td>b        braces</td>\n",
              "      <td>b</td>\n",
              "      <td>1</td>\n",
              "      <td>1</td>\n",
              "      <td>15</td>\n",
              "    </tr>\n",
              "    <tr>\n",
              "      <th>410792</th>\n",
              "      <td>s .</td>\n",
              "      <td>s</td>\n",
              "      <td>1</td>\n",
              "      <td>1</td>\n",
              "      <td>3</td>\n",
              "    </tr>\n",
              "    <tr>\n",
              "      <th>439758</th>\n",
              "      <td>e</td>\n",
              "      <td>e</td>\n",
              "      <td>0</td>\n",
              "      <td>1</td>\n",
              "      <td>1</td>\n",
              "    </tr>\n",
              "    <tr>\n",
              "      <th>468255</th>\n",
              "      <td>songs like because the night  patti smith , ha...</td>\n",
              "      <td>,</td>\n",
              "      <td>4</td>\n",
              "      <td>1</td>\n",
              "      <td>109</td>\n",
              "    </tr>\n",
              "    <tr>\n",
              "      <th>475713</th>\n",
              "      <td>y</td>\n",
              "      <td>y</td>\n",
              "      <td>0</td>\n",
              "      <td>1</td>\n",
              "      <td>1</td>\n",
              "    </tr>\n",
              "    <tr>\n",
              "      <th>481666</th>\n",
              "      <td>december , th ,  .</td>\n",
              "      <td>.</td>\n",
              "      <td>2</td>\n",
              "      <td>1</td>\n",
              "      <td>18</td>\n",
              "    </tr>\n",
              "    <tr>\n",
              "      <th>517587</th>\n",
              "      <td>? ?</td>\n",
              "      <td>.</td>\n",
              "      <td>8</td>\n",
              "      <td>1</td>\n",
              "      <td>3</td>\n",
              "    </tr>\n",
              "    <tr>\n",
              "      <th>522406</th>\n",
              "      <td>g .</td>\n",
              "      <td>g</td>\n",
              "      <td>1</td>\n",
              "      <td>1</td>\n",
              "      <td>3</td>\n",
              "    </tr>\n",
              "    <tr>\n",
              "      <th>660948</th>\n",
              "      <td>o , but am about to become  soon !</td>\n",
              "      <td>o</td>\n",
              "      <td>2</td>\n",
              "      <td>1</td>\n",
              "      <td>34</td>\n",
              "    </tr>\n",
              "    <tr>\n",
              "      <th>692444</th>\n",
              "      <td>q . .</td>\n",
              "      <td>q</td>\n",
              "      <td>1</td>\n",
              "      <td>1</td>\n",
              "      <td>5</td>\n",
              "    </tr>\n",
              "    <tr>\n",
              "      <th>772646</th>\n",
              "      <td>sometimes , kanji can be written incorrectly ,...</td>\n",
              "      <td>.</td>\n",
              "      <td>7</td>\n",
              "      <td>1</td>\n",
              "      <td>78</td>\n",
              "    </tr>\n",
              "    <tr>\n",
              "      <th>781706</th>\n",
              "      <td>z</td>\n",
              "      <td>z</td>\n",
              "      <td>0</td>\n",
              "      <td>1</td>\n",
              "      <td>1</td>\n",
              "    </tr>\n",
              "    <tr>\n",
              "      <th>787336</th>\n",
              "      <td>b  this is correct</td>\n",
              "      <td>b</td>\n",
              "      <td>1</td>\n",
              "      <td>1</td>\n",
              "      <td>18</td>\n",
              "    </tr>\n",
              "    <tr>\n",
              "      <th>790539</th>\n",
              "      <td>aged  .</td>\n",
              "      <td>.</td>\n",
              "      <td>1</td>\n",
              "      <td>1</td>\n",
              "      <td>7</td>\n",
              "    </tr>\n",
              "    <tr>\n",
              "      <th>822145</th>\n",
              "      <td>optimistic characters .</td>\n",
              "      <td>.</td>\n",
              "      <td>1</td>\n",
              "      <td>1</td>\n",
              "      <td>23</td>\n",
              "    </tr>\n",
              "  </tbody>\n",
              "</table>\n",
              "</div>"
            ],
            "text/plain": [
              "                                                  correct  ... correct_char_len\n",
              "364                                                     .  ...                1\n",
              "460                                                     d  ...                1\n",
              "1412                                                    w  ...                1\n",
              "2064                                                    t  ...                1\n",
              "2703                                                    a  ...                1\n",
              "4704                                                    x  ...                1\n",
              "7755                                                    !  ...                1\n",
              "7883                                                    p  ...                1\n",
              "8298                                                    '  ...                1\n",
              "9045                                                    ?  ...                1\n",
              "11404                                                   v  ...                1\n",
              "13676                                                   i  ...                1\n",
              "19388                                                   m  ...                1\n",
              "20983                                                   o  ...                1\n",
              "36026                                                   s  ...                1\n",
              "39936                                                   c  ...                1\n",
              "59584                                                   `  ...                1\n",
              "60050                                                   l  ...                1\n",
              "63817                                           an hour .  ...                9\n",
              "79058                                                   q  ...                1\n",
              "82210                                                   b  ...                1\n",
              "96191                                                  am  ...                2\n",
              "108853                                                  h  ...                1\n",
              "110688                                                  j  ...                1\n",
              "133093                                                  f  ...                1\n",
              "138562                                                  r  ...                1\n",
              "146303                                                  ,  ...                1\n",
              "176992                                           '   q  q  ...                8\n",
              "178176                                                  k  ...                1\n",
              "184147                                                  g  ...                1\n",
              "193357                                                  n  ...                1\n",
              "195074                            created the body part .  ...               23\n",
              "209023                                               part  ...                4\n",
              "248631                                              x   p  ...                5\n",
              "262769                                                  u  ...                1\n",
              "272240                            it  is the vet , dear !  ...               23\n",
              "305339                                               st .  ...                4\n",
              "337963                                           twenty !  ...                8\n",
              "347283                                                  &  ...                1\n",
              "357324                           december th . diary    ?  ...               24\n",
              "407204                                      m       money  ...               13\n",
              "407206                                  g         glasses  ...               17\n",
              "407208                            h            homosexual  ...               23\n",
              "407210                                      s       shoes  ...               13\n",
              "407215                                        f      food  ...               11\n",
              "407217                                    b        braces  ...               15\n",
              "410792                                                s .  ...                3\n",
              "439758                                                  e  ...                1\n",
              "468255  songs like because the night  patti smith , ha...  ...              109\n",
              "475713                                                  y  ...                1\n",
              "481666                                 december , th ,  .  ...               18\n",
              "517587                                                ? ?  ...                3\n",
              "522406                                                g .  ...                3\n",
              "660948                 o , but am about to become  soon !  ...               34\n",
              "692444                                              q . .  ...                5\n",
              "772646  sometimes , kanji can be written incorrectly ,...  ...               78\n",
              "781706                                                  z  ...                1\n",
              "787336                                 b  this is correct  ...               18\n",
              "790539                                            aged  .  ...                7\n",
              "822145                            optimistic characters .  ...               23\n",
              "\n",
              "[60 rows x 5 columns]"
            ]
          },
          "metadata": {},
          "execution_count": 38
        }
      ]
    },
    {
      "cell_type": "code",
      "metadata": {
        "colab": {
          "base_uri": "https://localhost:8080/"
        },
        "id": "wCmbufUVK1nn",
        "outputId": "71fb49ff-0e61-43e9-afee-313600eaa8bb"
      },
      "source": [
        "data = data[data['incorrect_char_len'] > 1]\n",
        "data.reset_index(drop=True, inplace=True)\n",
        "data.shape"
      ],
      "execution_count": null,
      "outputs": [
        {
          "output_type": "execute_result",
          "data": {
            "text/plain": [
              "(929673, 5)"
            ]
          },
          "metadata": {},
          "execution_count": 39
        }
      ]
    },
    {
      "cell_type": "markdown",
      "metadata": {
        "id": "7KJKPxenizxt"
      },
      "source": [
        "####Percentile values"
      ]
    },
    {
      "cell_type": "code",
      "metadata": {
        "colab": {
          "base_uri": "https://localhost:8080/"
        },
        "id": "YFZLWK64i6LG",
        "outputId": "5f5d1c49-0498-4dfb-f756-fedfa4afee82"
      },
      "source": [
        "for p in range(0,101,10):\n",
        "  p_value = np.percentile(data['incorrect_char_len'].values, p)\n",
        "  print(f'{p} th percentile value is: {p_value}')"
      ],
      "execution_count": null,
      "outputs": [
        {
          "output_type": "stream",
          "name": "stdout",
          "text": [
            "0 th percentile value is: 2.0\n",
            "10 th percentile value is: 20.0\n",
            "20 th percentile value is: 28.0\n",
            "30 th percentile value is: 34.0\n",
            "40 th percentile value is: 41.0\n",
            "50 th percentile value is: 47.0\n",
            "60 th percentile value is: 55.0\n",
            "70 th percentile value is: 65.0\n",
            "80 th percentile value is: 77.0\n",
            "90 th percentile value is: 99.0\n",
            "100 th percentile value is: 1769.0\n"
          ]
        }
      ]
    },
    {
      "cell_type": "code",
      "metadata": {
        "colab": {
          "base_uri": "https://localhost:8080/"
        },
        "id": "eLsgem6-jZjr",
        "outputId": "d2ef9c20-a415-4743-ea36-c8f8ed3bda29"
      },
      "source": [
        "for p in range(90,101):\n",
        "  p_value = np.percentile(data['incorrect_char_len'].values, p)\n",
        "  print(f'{p} th percentile value is: {p_value}')"
      ],
      "execution_count": null,
      "outputs": [
        {
          "output_type": "stream",
          "name": "stdout",
          "text": [
            "90 th percentile value is: 99.0\n",
            "91 th percentile value is: 103.0\n",
            "92 th percentile value is: 106.0\n",
            "93 th percentile value is: 111.0\n",
            "94 th percentile value is: 116.0\n",
            "95 th percentile value is: 122.0\n",
            "96 th percentile value is: 129.0\n",
            "97 th percentile value is: 139.0\n",
            "98 th percentile value is: 153.0\n",
            "99 th percentile value is: 178.0\n",
            "100 th percentile value is: 1769.0\n"
          ]
        }
      ]
    },
    {
      "cell_type": "markdown",
      "metadata": {
        "id": "Fif6hxsz9mhR"
      },
      "source": [
        "####4.6.1.2.correct"
      ]
    },
    {
      "cell_type": "markdown",
      "metadata": {
        "id": "N171LBnf9q-H"
      },
      "source": [
        "####character range in correct data points"
      ]
    },
    {
      "cell_type": "code",
      "metadata": {
        "colab": {
          "base_uri": "https://localhost:8080/"
        },
        "id": "wAV-0X0B9XL6",
        "outputId": "b510fb12-0b9e-46aa-91a6-64c457dc77b8"
      },
      "source": [
        "data['correct_char_len'].min(), data['correct_char_len'].max()"
      ],
      "execution_count": null,
      "outputs": [
        {
          "output_type": "execute_result",
          "data": {
            "text/plain": [
              "(1, 2623)"
            ]
          },
          "metadata": {},
          "execution_count": 42
        }
      ]
    },
    {
      "cell_type": "code",
      "metadata": {
        "colab": {
          "base_uri": "https://localhost:8080/",
          "height": 1000
        },
        "id": "Ri8stIel9zOQ",
        "outputId": "18e5c318-f1b5-40fc-d0f1-08664e69173d"
      },
      "source": [
        "data[data['correct_char_len'] == 1]"
      ],
      "execution_count": null,
      "outputs": [
        {
          "output_type": "execute_result",
          "data": {
            "text/html": [
              "<div>\n",
              "<style scoped>\n",
              "    .dataframe tbody tr th:only-of-type {\n",
              "        vertical-align: middle;\n",
              "    }\n",
              "\n",
              "    .dataframe tbody tr th {\n",
              "        vertical-align: top;\n",
              "    }\n",
              "\n",
              "    .dataframe thead th {\n",
              "        text-align: right;\n",
              "    }\n",
              "</style>\n",
              "<table border=\"1\" class=\"dataframe\">\n",
              "  <thead>\n",
              "    <tr style=\"text-align: right;\">\n",
              "      <th></th>\n",
              "      <th>correct</th>\n",
              "      <th>incorrect</th>\n",
              "      <th>total_edits</th>\n",
              "      <th>incorrect_char_len</th>\n",
              "      <th>correct_char_len</th>\n",
              "    </tr>\n",
              "  </thead>\n",
              "  <tbody>\n",
              "    <tr>\n",
              "      <th>19256</th>\n",
              "      <td>.</td>\n",
              "      <td>daily life .</td>\n",
              "      <td>1</td>\n",
              "      <td>12</td>\n",
              "      <td>1</td>\n",
              "    </tr>\n",
              "    <tr>\n",
              "      <th>20652</th>\n",
              "      <td>.</td>\n",
              "      <td>took some medicine .</td>\n",
              "      <td>1</td>\n",
              "      <td>20</td>\n",
              "      <td>1</td>\n",
              "    </tr>\n",
              "    <tr>\n",
              "      <th>55788</th>\n",
              "      <td>.</td>\n",
              "      <td>i think , it  is not true in real life i think .</td>\n",
              "      <td>4</td>\n",
              "      <td>48</td>\n",
              "      <td>1</td>\n",
              "    </tr>\n",
              "    <tr>\n",
              "      <th>59247</th>\n",
              "      <td>.</td>\n",
              "      <td>you .</td>\n",
              "      <td>1</td>\n",
              "      <td>5</td>\n",
              "      <td>1</td>\n",
              "    </tr>\n",
              "    <tr>\n",
              "      <th>68569</th>\n",
              "      <td>,</td>\n",
              "      <td>maiko nakai ,</td>\n",
              "      <td>1</td>\n",
              "      <td>13</td>\n",
              "      <td>1</td>\n",
              "    </tr>\n",
              "    <tr>\n",
              "      <th>68570</th>\n",
              "      <td>.</td>\n",
              "      <td>hello .</td>\n",
              "      <td>1</td>\n",
              "      <td>7</td>\n",
              "      <td>1</td>\n",
              "    </tr>\n",
              "    <tr>\n",
              "      <th>82173</th>\n",
              "      <td>.</td>\n",
              "      <td>things had been changing gradually and irrever...</td>\n",
              "      <td>3</td>\n",
              "      <td>68</td>\n",
              "      <td>1</td>\n",
              "    </tr>\n",
              "    <tr>\n",
              "      <th>83768</th>\n",
              "      <td>.</td>\n",
              "      <td>at first .</td>\n",
              "      <td>1</td>\n",
              "      <td>10</td>\n",
              "      <td>1</td>\n",
              "    </tr>\n",
              "    <tr>\n",
              "      <th>141562</th>\n",
              "      <td>d</td>\n",
              "      <td>im fresh man  d</td>\n",
              "      <td>1</td>\n",
              "      <td>15</td>\n",
              "      <td>1</td>\n",
              "    </tr>\n",
              "    <tr>\n",
              "      <th>155261</th>\n",
              "      <td>.</td>\n",
              "      <td>to near park .</td>\n",
              "      <td>1</td>\n",
              "      <td>14</td>\n",
              "      <td>1</td>\n",
              "    </tr>\n",
              "    <tr>\n",
              "      <th>170371</th>\n",
              "      <td>.</td>\n",
              "      <td>sometimes boys give some accesories or other g...</td>\n",
              "      <td>3</td>\n",
              "      <td>84</td>\n",
              "      <td>1</td>\n",
              "    </tr>\n",
              "    <tr>\n",
              "      <th>171445</th>\n",
              "      <td>.</td>\n",
              "      <td>maybe , again , it would be another dream .</td>\n",
              "      <td>1</td>\n",
              "      <td>43</td>\n",
              "      <td>1</td>\n",
              "    </tr>\n",
              "    <tr>\n",
              "      <th>175475</th>\n",
              "      <td>!</td>\n",
              "      <td>do ours best !</td>\n",
              "      <td>1</td>\n",
              "      <td>14</td>\n",
              "      <td>1</td>\n",
              "    </tr>\n",
              "    <tr>\n",
              "      <th>194030</th>\n",
              "      <td>.</td>\n",
              "      <td>there is just a secure and safety .</td>\n",
              "      <td>6</td>\n",
              "      <td>35</td>\n",
              "      <td>1</td>\n",
              "    </tr>\n",
              "    <tr>\n",
              "      <th>205345</th>\n",
              "      <td>?</td>\n",
              "      <td>then i enjoy to take some pictures with feeling .</td>\n",
              "      <td>6</td>\n",
              "      <td>49</td>\n",
              "      <td>1</td>\n",
              "    </tr>\n",
              "    <tr>\n",
              "      <th>217717</th>\n",
              "      <td>.</td>\n",
              "      <td>m .</td>\n",
              "      <td>1</td>\n",
              "      <td>3</td>\n",
              "      <td>1</td>\n",
              "    </tr>\n",
              "    <tr>\n",
              "      <th>226007</th>\n",
              "      <td>.</td>\n",
              "      <td>professional internet poker player by occupati...</td>\n",
              "      <td>1</td>\n",
              "      <td>134</td>\n",
              "      <td>1</td>\n",
              "    </tr>\n",
              "    <tr>\n",
              "      <th>282174</th>\n",
              "      <td>.</td>\n",
              "      <td>she likes also cats .</td>\n",
              "      <td>1</td>\n",
              "      <td>21</td>\n",
              "      <td>1</td>\n",
              "    </tr>\n",
              "    <tr>\n",
              "      <th>293255</th>\n",
              "      <td>.</td>\n",
              "      <td>for tech support .</td>\n",
              "      <td>1</td>\n",
              "      <td>18</td>\n",
              "      <td>1</td>\n",
              "    </tr>\n",
              "    <tr>\n",
              "      <th>309678</th>\n",
              "      <td>.</td>\n",
              "      <td>however it was quite difficult to sell my illu...</td>\n",
              "      <td>1</td>\n",
              "      <td>56</td>\n",
              "      <td>1</td>\n",
              "    </tr>\n",
              "    <tr>\n",
              "      <th>313039</th>\n",
              "      <td>?</td>\n",
              "      <td>' ? ?</td>\n",
              "      <td>1</td>\n",
              "      <td>5</td>\n",
              "      <td>1</td>\n",
              "    </tr>\n",
              "    <tr>\n",
              "      <th>321429</th>\n",
              "      <td>.</td>\n",
              "      <td>i have to third cange a airplane to go to tasm...</td>\n",
              "      <td>7</td>\n",
              "      <td>52</td>\n",
              "      <td>1</td>\n",
              "    </tr>\n",
              "    <tr>\n",
              "      <th>367891</th>\n",
              "      <td>.</td>\n",
              "      <td>i am young .</td>\n",
              "      <td>1</td>\n",
              "      <td>12</td>\n",
              "      <td>1</td>\n",
              "    </tr>\n",
              "    <tr>\n",
              "      <th>381746</th>\n",
              "      <td>.</td>\n",
              "      <td>yes in  .</td>\n",
              "      <td>1</td>\n",
              "      <td>9</td>\n",
              "      <td>1</td>\n",
              "    </tr>\n",
              "    <tr>\n",
              "      <th>389488</th>\n",
              "      <td>.</td>\n",
              "      <td>sea , beach and palm  trees on the beach and b...</td>\n",
              "      <td>2</td>\n",
              "      <td>70</td>\n",
              "      <td>1</td>\n",
              "    </tr>\n",
              "    <tr>\n",
              "      <th>398093</th>\n",
              "      <td>.</td>\n",
              "      <td>there is mt .</td>\n",
              "      <td>1</td>\n",
              "      <td>13</td>\n",
              "      <td>1</td>\n",
              "    </tr>\n",
              "    <tr>\n",
              "      <th>458383</th>\n",
              "      <td>.</td>\n",
              "      <td>is japanese holiday .</td>\n",
              "      <td>1</td>\n",
              "      <td>21</td>\n",
              "      <td>1</td>\n",
              "    </tr>\n",
              "    <tr>\n",
              "      <th>461391</th>\n",
              "      <td>.</td>\n",
              "      <td>i  am very lucky person working with them .</td>\n",
              "      <td>2</td>\n",
              "      <td>43</td>\n",
              "      <td>1</td>\n",
              "    </tr>\n",
              "    <tr>\n",
              "      <th>477103</th>\n",
              "      <td>.</td>\n",
              "      <td>out .</td>\n",
              "      <td>1</td>\n",
              "      <td>5</td>\n",
              "      <td>1</td>\n",
              "    </tr>\n",
              "    <tr>\n",
              "      <th>540517</th>\n",
              "      <td>?</td>\n",
              "      <td>i  am really longing for the days .</td>\n",
              "      <td>5</td>\n",
              "      <td>35</td>\n",
              "      <td>1</td>\n",
              "    </tr>\n",
              "    <tr>\n",
              "      <th>544208</th>\n",
              "      <td>.</td>\n",
              "      <td>o .</td>\n",
              "      <td>1</td>\n",
              "      <td>3</td>\n",
              "      <td>1</td>\n",
              "    </tr>\n",
              "    <tr>\n",
              "      <th>549486</th>\n",
              "      <td>.</td>\n",
              "      <td>many participants are there .</td>\n",
              "      <td>3</td>\n",
              "      <td>29</td>\n",
              "      <td>1</td>\n",
              "    </tr>\n",
              "    <tr>\n",
              "      <th>568752</th>\n",
              "      <td>.</td>\n",
              "      <td>i am hungry .</td>\n",
              "      <td>1</td>\n",
              "      <td>13</td>\n",
              "      <td>1</td>\n",
              "    </tr>\n",
              "    <tr>\n",
              "      <th>600440</th>\n",
              "      <td>.</td>\n",
              "      <td>noddle .</td>\n",
              "      <td>1</td>\n",
              "      <td>8</td>\n",
              "      <td>1</td>\n",
              "    </tr>\n",
              "    <tr>\n",
              "      <th>655601</th>\n",
              "      <td>?</td>\n",
              "      <td>it is difference from japan that i was really ...</td>\n",
              "      <td>7</td>\n",
              "      <td>62</td>\n",
              "      <td>1</td>\n",
              "    </tr>\n",
              "    <tr>\n",
              "      <th>658749</th>\n",
              "      <td>.</td>\n",
              "      <td>, , , i  am sorry .</td>\n",
              "      <td>1</td>\n",
              "      <td>19</td>\n",
              "      <td>1</td>\n",
              "    </tr>\n",
              "    <tr>\n",
              "      <th>660518</th>\n",
              "      <td>.</td>\n",
              "      <td>she is good worker if she want to do .</td>\n",
              "      <td>6</td>\n",
              "      <td>38</td>\n",
              "      <td>1</td>\n",
              "    </tr>\n",
              "    <tr>\n",
              "      <th>668112</th>\n",
              "      <td>,</td>\n",
              "      <td>s ,</td>\n",
              "      <td>1</td>\n",
              "      <td>3</td>\n",
              "      <td>1</td>\n",
              "    </tr>\n",
              "    <tr>\n",
              "      <th>669727</th>\n",
              "      <td>.</td>\n",
              "      <td>it is not fruitful to say ill to each other .</td>\n",
              "      <td>5</td>\n",
              "      <td>45</td>\n",
              "      <td>1</td>\n",
              "    </tr>\n",
              "    <tr>\n",
              "      <th>683033</th>\n",
              "      <td>.</td>\n",
              "      <td>for example university of tokyo , keio univers...</td>\n",
              "      <td>2</td>\n",
              "      <td>84</td>\n",
              "      <td>1</td>\n",
              "    </tr>\n",
              "    <tr>\n",
              "      <th>688575</th>\n",
              "      <td>.</td>\n",
              "      <td>there are a lot of scars .</td>\n",
              "      <td>4</td>\n",
              "      <td>26</td>\n",
              "      <td>1</td>\n",
              "    </tr>\n",
              "    <tr>\n",
              "      <th>703552</th>\n",
              "      <td>.</td>\n",
              "      <td>moreover i decided that i will wake up early a...</td>\n",
              "      <td>4</td>\n",
              "      <td>92</td>\n",
              "      <td>1</td>\n",
              "    </tr>\n",
              "    <tr>\n",
              "      <th>705553</th>\n",
              "      <td>.</td>\n",
              "      <td>factally nowdays a depressed korea economy cau...</td>\n",
              "      <td>10</td>\n",
              "      <td>81</td>\n",
              "      <td>1</td>\n",
              "    </tr>\n",
              "    <tr>\n",
              "      <th>733087</th>\n",
              "      <td>.</td>\n",
              "      <td>because , they almost watch the tv program to ...</td>\n",
              "      <td>7</td>\n",
              "      <td>55</td>\n",
              "      <td>1</td>\n",
              "    </tr>\n",
              "    <tr>\n",
              "      <th>748854</th>\n",
              "      <td>.</td>\n",
              "      <td>them .</td>\n",
              "      <td>1</td>\n",
              "      <td>6</td>\n",
              "      <td>1</td>\n",
              "    </tr>\n",
              "    <tr>\n",
              "      <th>757187</th>\n",
              "      <td>.</td>\n",
              "      <td>i soon got it .</td>\n",
              "      <td>3</td>\n",
              "      <td>15</td>\n",
              "      <td>1</td>\n",
              "    </tr>\n",
              "    <tr>\n",
              "      <th>786990</th>\n",
              "      <td>,</td>\n",
              "      <td>i live close to the office , so just  minutes ...</td>\n",
              "      <td>3</td>\n",
              "      <td>72</td>\n",
              "      <td>1</td>\n",
              "    </tr>\n",
              "    <tr>\n",
              "      <th>804046</th>\n",
              "      <td>.</td>\n",
              "      <td>because no body willing to feel that he is for...</td>\n",
              "      <td>5</td>\n",
              "      <td>104</td>\n",
              "      <td>1</td>\n",
              "    </tr>\n",
              "    <tr>\n",
              "      <th>823129</th>\n",
              "      <td>i</td>\n",
              "      <td>i actually had my hair cut the other day and a...</td>\n",
              "      <td>2</td>\n",
              "      <td>80</td>\n",
              "      <td>1</td>\n",
              "    </tr>\n",
              "    <tr>\n",
              "      <th>825401</th>\n",
              "      <td>.</td>\n",
              "      <td>on face .</td>\n",
              "      <td>1</td>\n",
              "      <td>9</td>\n",
              "      <td>1</td>\n",
              "    </tr>\n",
              "    <tr>\n",
              "      <th>826045</th>\n",
              "      <td>.</td>\n",
              "      <td>of  .</td>\n",
              "      <td>1</td>\n",
              "      <td>5</td>\n",
              "      <td>1</td>\n",
              "    </tr>\n",
              "    <tr>\n",
              "      <th>844758</th>\n",
              "      <td>!</td>\n",
              "      <td>man !</td>\n",
              "      <td>1</td>\n",
              "      <td>5</td>\n",
              "      <td>1</td>\n",
              "    </tr>\n",
              "    <tr>\n",
              "      <th>854938</th>\n",
              "      <td>!</td>\n",
              "      <td>very after i said that , i was blushed because...</td>\n",
              "      <td>10</td>\n",
              "      <td>116</td>\n",
              "      <td>1</td>\n",
              "    </tr>\n",
              "    <tr>\n",
              "      <th>864756</th>\n",
              "      <td>.</td>\n",
              "      <td>had them .</td>\n",
              "      <td>1</td>\n",
              "      <td>10</td>\n",
              "      <td>1</td>\n",
              "    </tr>\n",
              "    <tr>\n",
              "      <th>872442</th>\n",
              "      <td>.</td>\n",
              "      <td>life .</td>\n",
              "      <td>1</td>\n",
              "      <td>6</td>\n",
              "      <td>1</td>\n",
              "    </tr>\n",
              "    <tr>\n",
              "      <th>888680</th>\n",
              "      <td>.</td>\n",
              "      <td>for i were once a sinner who was running towar...</td>\n",
              "      <td>10</td>\n",
              "      <td>105</td>\n",
              "      <td>1</td>\n",
              "    </tr>\n",
              "    <tr>\n",
              "      <th>895852</th>\n",
              "      <td>.</td>\n",
              "      <td>i think i need more time having exposure to en...</td>\n",
              "      <td>3</td>\n",
              "      <td>53</td>\n",
              "      <td>1</td>\n",
              "    </tr>\n",
              "    <tr>\n",
              "      <th>900854</th>\n",
              "      <td>.</td>\n",
              "      <td>or philosopher movie .</td>\n",
              "      <td>1</td>\n",
              "      <td>22</td>\n",
              "      <td>1</td>\n",
              "    </tr>\n",
              "  </tbody>\n",
              "</table>\n",
              "</div>"
            ],
            "text/plain": [
              "       correct  ... correct_char_len\n",
              "19256        .  ...                1\n",
              "20652        .  ...                1\n",
              "55788        .  ...                1\n",
              "59247        .  ...                1\n",
              "68569        ,  ...                1\n",
              "68570        .  ...                1\n",
              "82173        .  ...                1\n",
              "83768        .  ...                1\n",
              "141562       d  ...                1\n",
              "155261       .  ...                1\n",
              "170371       .  ...                1\n",
              "171445       .  ...                1\n",
              "175475       !  ...                1\n",
              "194030       .  ...                1\n",
              "205345       ?  ...                1\n",
              "217717       .  ...                1\n",
              "226007       .  ...                1\n",
              "282174       .  ...                1\n",
              "293255       .  ...                1\n",
              "309678       .  ...                1\n",
              "313039       ?  ...                1\n",
              "321429       .  ...                1\n",
              "367891       .  ...                1\n",
              "381746       .  ...                1\n",
              "389488       .  ...                1\n",
              "398093       .  ...                1\n",
              "458383       .  ...                1\n",
              "461391       .  ...                1\n",
              "477103       .  ...                1\n",
              "540517       ?  ...                1\n",
              "544208       .  ...                1\n",
              "549486       .  ...                1\n",
              "568752       .  ...                1\n",
              "600440       .  ...                1\n",
              "655601       ?  ...                1\n",
              "658749       .  ...                1\n",
              "660518       .  ...                1\n",
              "668112       ,  ...                1\n",
              "669727       .  ...                1\n",
              "683033       .  ...                1\n",
              "688575       .  ...                1\n",
              "703552       .  ...                1\n",
              "705553       .  ...                1\n",
              "733087       .  ...                1\n",
              "748854       .  ...                1\n",
              "757187       .  ...                1\n",
              "786990       ,  ...                1\n",
              "804046       .  ...                1\n",
              "823129       i  ...                1\n",
              "825401       .  ...                1\n",
              "826045       .  ...                1\n",
              "844758       !  ...                1\n",
              "854938       !  ...                1\n",
              "864756       .  ...                1\n",
              "872442       .  ...                1\n",
              "888680       .  ...                1\n",
              "895852       .  ...                1\n",
              "900854       .  ...                1\n",
              "\n",
              "[58 rows x 5 columns]"
            ]
          },
          "metadata": {},
          "execution_count": 43
        }
      ]
    },
    {
      "cell_type": "code",
      "metadata": {
        "colab": {
          "base_uri": "https://localhost:8080/"
        },
        "id": "xlZXkdbc99ch",
        "outputId": "e7c69c84-46c3-482e-c440-455eccab2c84"
      },
      "source": [
        "data = data[data['correct_char_len'] > 1]\n",
        "data.reset_index(drop=True, inplace=True)\n",
        "data.shape"
      ],
      "execution_count": null,
      "outputs": [
        {
          "output_type": "execute_result",
          "data": {
            "text/plain": [
              "(929615, 5)"
            ]
          },
          "metadata": {},
          "execution_count": 44
        }
      ]
    },
    {
      "cell_type": "markdown",
      "metadata": {
        "id": "Qb_BSUQyj7hx"
      },
      "source": [
        "####Percentile"
      ]
    },
    {
      "cell_type": "code",
      "metadata": {
        "colab": {
          "base_uri": "https://localhost:8080/"
        },
        "id": "MknyYXEOgEKO",
        "outputId": "4412e78c-38cd-4219-f5c6-1895f23344aa"
      },
      "source": [
        "for p in range(0,101,10):\n",
        "  p_value = np.percentile(data['correct_char_len'].values, p)\n",
        "  print(f'{p} th percentile value is: {p_value}')"
      ],
      "execution_count": null,
      "outputs": [
        {
          "output_type": "stream",
          "name": "stdout",
          "text": [
            "0 th percentile value is: 2.0\n",
            "10 th percentile value is: 21.0\n",
            "20 th percentile value is: 28.0\n",
            "30 th percentile value is: 35.0\n",
            "40 th percentile value is: 42.0\n",
            "50 th percentile value is: 48.0\n",
            "60 th percentile value is: 56.0\n",
            "70 th percentile value is: 66.0\n",
            "80 th percentile value is: 78.0\n",
            "90 th percentile value is: 101.0\n",
            "100 th percentile value is: 2623.0\n"
          ]
        }
      ]
    },
    {
      "cell_type": "code",
      "metadata": {
        "colab": {
          "base_uri": "https://localhost:8080/"
        },
        "id": "mQggOEcJj92F",
        "outputId": "853d022a-822b-4210-fb70-cc5e7d3908e1"
      },
      "source": [
        "for p in range(90,101):\n",
        "  p_value = np.percentile(data['correct_char_len'].values, p)\n",
        "  print(f'{p} th percentile value is: {p_value}')"
      ],
      "execution_count": null,
      "outputs": [
        {
          "output_type": "stream",
          "name": "stdout",
          "text": [
            "90 th percentile value is: 101.0\n",
            "91 th percentile value is: 104.0\n",
            "92 th percentile value is: 108.0\n",
            "93 th percentile value is: 112.0\n",
            "94 th percentile value is: 117.0\n",
            "95 th percentile value is: 123.0\n",
            "96 th percentile value is: 131.0\n",
            "97 th percentile value is: 140.0\n",
            "98 th percentile value is: 155.0\n",
            "99 th percentile value is: 179.0\n",
            "100 th percentile value is: 2623.0\n"
          ]
        }
      ]
    },
    {
      "cell_type": "markdown",
      "metadata": {
        "id": "pvLa1i29ALp6"
      },
      "source": [
        "###4.6.2.Analysis on words"
      ]
    },
    {
      "cell_type": "code",
      "metadata": {
        "id": "jHVmtET0_64W"
      },
      "source": [
        "word_count = lambda x: len(str(x).split()) "
      ],
      "execution_count": null,
      "outputs": []
    },
    {
      "cell_type": "code",
      "metadata": {
        "id": "xRnq16ZgAZe9"
      },
      "source": [
        "data['incorrect_word_len'] = data.iloc[:, 1].apply(word_count)\n",
        "data['correct_word_len'] = data.iloc[:, 0].apply(word_count)"
      ],
      "execution_count": null,
      "outputs": []
    },
    {
      "cell_type": "code",
      "metadata": {
        "colab": {
          "base_uri": "https://localhost:8080/",
          "height": 268
        },
        "id": "Ky3U_RAYAilu",
        "outputId": "747724ba-11c1-447a-f2e5-7e494665448a"
      },
      "source": [
        "data.head()"
      ],
      "execution_count": null,
      "outputs": [
        {
          "output_type": "execute_result",
          "data": {
            "text/html": [
              "<div>\n",
              "<style scoped>\n",
              "    .dataframe tbody tr th:only-of-type {\n",
              "        vertical-align: middle;\n",
              "    }\n",
              "\n",
              "    .dataframe tbody tr th {\n",
              "        vertical-align: top;\n",
              "    }\n",
              "\n",
              "    .dataframe thead th {\n",
              "        text-align: right;\n",
              "    }\n",
              "</style>\n",
              "<table border=\"1\" class=\"dataframe\">\n",
              "  <thead>\n",
              "    <tr style=\"text-align: right;\">\n",
              "      <th></th>\n",
              "      <th>correct</th>\n",
              "      <th>incorrect</th>\n",
              "      <th>total_edits</th>\n",
              "      <th>incorrect_char_len</th>\n",
              "      <th>correct_char_len</th>\n",
              "      <th>incorrect_word_len</th>\n",
              "      <th>correct_word_len</th>\n",
              "    </tr>\n",
              "  </thead>\n",
              "  <tbody>\n",
              "    <tr>\n",
              "      <th>0</th>\n",
              "      <td>good luck on your new start !</td>\n",
              "      <td>good luck on your new start !</td>\n",
              "      <td>0</td>\n",
              "      <td>29</td>\n",
              "      <td>29</td>\n",
              "      <td>7</td>\n",
              "      <td>7</td>\n",
              "    </tr>\n",
              "    <tr>\n",
              "      <th>1</th>\n",
              "      <td>my teacher is going to move to change his job .</td>\n",
              "      <td>my teacher is going to move to change his job .</td>\n",
              "      <td>0</td>\n",
              "      <td>47</td>\n",
              "      <td>47</td>\n",
              "      <td>11</td>\n",
              "      <td>11</td>\n",
              "    </tr>\n",
              "    <tr>\n",
              "      <th>2</th>\n",
              "      <td>he is a so nice guy and taught me english very...</td>\n",
              "      <td>he is a so nice guy and taught me english very...</td>\n",
              "      <td>0</td>\n",
              "      <td>106</td>\n",
              "      <td>106</td>\n",
              "      <td>23</td>\n",
              "      <td>23</td>\n",
              "    </tr>\n",
              "    <tr>\n",
              "      <th>3</th>\n",
              "      <td>and he took in my favorite subjects like soccer .</td>\n",
              "      <td>and he took in my favorite subject like soccer .</td>\n",
              "      <td>1</td>\n",
              "      <td>48</td>\n",
              "      <td>49</td>\n",
              "      <td>10</td>\n",
              "      <td>10</td>\n",
              "    </tr>\n",
              "    <tr>\n",
              "      <th>4</th>\n",
              "      <td>actually , he was the one who let me know abou...</td>\n",
              "      <td>actually , who let me know about lang   was him .</td>\n",
              "      <td>2</td>\n",
              "      <td>49</td>\n",
              "      <td>58</td>\n",
              "      <td>11</td>\n",
              "      <td>14</td>\n",
              "    </tr>\n",
              "  </tbody>\n",
              "</table>\n",
              "</div>"
            ],
            "text/plain": [
              "                                             correct  ... correct_word_len\n",
              "0                      good luck on your new start !  ...                7\n",
              "1    my teacher is going to move to change his job .  ...               11\n",
              "2  he is a so nice guy and taught me english very...  ...               23\n",
              "3  and he took in my favorite subjects like soccer .  ...               10\n",
              "4  actually , he was the one who let me know abou...  ...               14\n",
              "\n",
              "[5 rows x 7 columns]"
            ]
          },
          "metadata": {},
          "execution_count": 49
        }
      ]
    },
    {
      "cell_type": "code",
      "metadata": {
        "id": "XaERf27vC4YH"
      },
      "source": [
        "data.to_csv('./Data/csv_data/lang8/lang8_anno_id0_preprocessed_word.csv', index=False)"
      ],
      "execution_count": null,
      "outputs": []
    },
    {
      "cell_type": "code",
      "metadata": {
        "id": "I10HwcQfHkon"
      },
      "source": [
        "data = pd.read_csv('./Data/csv_data/lang8/lang8_anno_id0_preprocessed_word.csv')"
      ],
      "execution_count": null,
      "outputs": []
    },
    {
      "cell_type": "markdown",
      "metadata": {
        "id": "wCo3YLaLCRSS"
      },
      "source": [
        "####4.6.2.1.Incorrect: How words in Incorrect sentences are distributed"
      ]
    },
    {
      "cell_type": "markdown",
      "metadata": {
        "id": "1jzBOn8vCWzm"
      },
      "source": [
        "#####Histogram"
      ]
    },
    {
      "cell_type": "code",
      "metadata": {
        "colab": {
          "base_uri": "https://localhost:8080/",
          "height": 388
        },
        "id": "B29wHYtLA_o2",
        "outputId": "ec64d267-b7be-4a42-e9e8-852876a9c292"
      },
      "source": [
        "hist_bins = list(range(data['incorrect_word_len'].min(), data['incorrect_word_len'].max()+15,15))\n",
        "sns.displot(list(data['incorrect_word_len'].values), bins=hist_bins, kde=True, color='green',edgecolor='red')\n",
        "plt.grid()\n",
        "plt.title('Distribution of incorrect sentence length')\n",
        "plt.xlabel(\"Bins (length)\")\n",
        "plt.show()"
      ],
      "execution_count": null,
      "outputs": [
        {
          "output_type": "display_data",
          "data": {
            "image/png": "[encoded data removed]",
            "text/plain": [
              "<Figure size 360x360 with 1 Axes>"
            ]
          },
          "metadata": {
            "needs_background": "light"
          }
        }
      ]
    },
    {
      "cell_type": "markdown",
      "metadata": {
        "id": "tTBtDulhELiA"
      },
      "source": [
        "**Observation:** <br>\n",
        "1. Most of data points has length between 1-15\n",
        "2. Most of datapoints has length less than or equal to 50\n",
        "3. Data is not normally distributed"
      ]
    },
    {
      "cell_type": "markdown",
      "metadata": {
        "id": "oqIuP-uWEgLq"
      },
      "source": [
        "#####Cumulative distribution"
      ]
    },
    {
      "cell_type": "code",
      "metadata": {
        "colab": {
          "base_uri": "https://localhost:8080/",
          "height": 395
        },
        "id": "PSfNXn3DDYCP",
        "outputId": "682aadee-94d9-4d51-a195-db0b288125e1"
      },
      "source": [
        "sns.displot(data['incorrect_word_len'].values, kind='ecdf')\n",
        "plt.xlabel(\"length\")\n",
        "plt.title(\"Cumulative distribution on incorrect sentence length\")\n",
        "plt.grid()\n",
        "plt.show()"
      ],
      "execution_count": null,
      "outputs": [
        {
          "output_type": "display_data",
          "data": {
            "image/png": "[encoded data removed]",
            "text/plain": [
              "<Figure size 360x360 with 1 Axes>"
            ]
          },
          "metadata": {
            "needs_background": "light"
          }
        }
      ]
    },
    {
      "cell_type": "markdown",
      "metadata": {
        "id": "QqUPkperEumf"
      },
      "source": [
        "**Observation:** <br>\n",
        "1. We can see 99% of data points has length less than 50"
      ]
    },
    {
      "cell_type": "markdown",
      "metadata": {
        "id": "NUPe0llHE5sA"
      },
      "source": [
        "#####Statistics - Mean, Median, Mode"
      ]
    },
    {
      "cell_type": "code",
      "metadata": {
        "colab": {
          "base_uri": "https://localhost:8080/"
        },
        "id": "x1CmRfSlEr0l",
        "outputId": "a66a4d5e-03d2-4845-f5b8-fa5af26a59b3"
      },
      "source": [
        "print(\"Length statistics of incorrect sentences:\")\n",
        "print(\"=\"*100)\n",
        "\n",
        "print(\"Minimum : \", data['incorrect_word_len'].min())\n",
        "print(\"Maximum : \", data['incorrect_word_len'].max())\n",
        "print(\"Mean : \", data['incorrect_word_len'].mean())\n",
        "print(\"Median : \", data['incorrect_word_len'].median())\n",
        "print(\"Mode : \", mode(data['incorrect_word_len'].values))"
      ],
      "execution_count": null,
      "outputs": [
        {
          "output_type": "stream",
          "name": "stdout",
          "text": [
            "Length statistics of incorrect sentences:\n",
            "====================================================================================================\n",
            "Minimum :  1\n",
            "Maximum :  310\n",
            "Mean :  11.909582999413736\n",
            "Median :  10.0\n",
            "Mode :  ModeResult(mode=array([8]), count=array([74105]))\n"
          ]
        }
      ]
    },
    {
      "cell_type": "markdown",
      "metadata": {
        "id": "GqQtw5ChFd3e"
      },
      "source": [
        "**Observation:** <br>\n",
        "1. Mean > Median > Mode so data is right skewed\n",
        "2. Most of the sentences (74225) has length = 8"
      ]
    },
    {
      "cell_type": "markdown",
      "metadata": {
        "id": "VMAv9g4AGD27"
      },
      "source": [
        "#####0-100 percentile in steps of 10"
      ]
    },
    {
      "cell_type": "code",
      "metadata": {
        "colab": {
          "base_uri": "https://localhost:8080/"
        },
        "id": "v2WR2UI9FMMN",
        "outputId": "dc3ae8f1-e6a3-4ce3-8828-762ea90fea9a"
      },
      "source": [
        "p_value = list(range(0,101,10))\n",
        "\n",
        "for p in p_value:\n",
        "  print(f'{p}th percentile value is {np.round(np.percentile(data[\"incorrect_word_len\"].values,p))}')"
      ],
      "execution_count": null,
      "outputs": [
        {
          "output_type": "stream",
          "name": "stdout",
          "text": [
            "0th percentile value is 1.0\n",
            "10th percentile value is 5.0\n",
            "20th percentile value is 6.0\n",
            "30th percentile value is 8.0\n",
            "40th percentile value is 9.0\n",
            "50th percentile value is 10.0\n",
            "60th percentile value is 12.0\n",
            "70th percentile value is 14.0\n",
            "80th percentile value is 16.0\n",
            "90th percentile value is 21.0\n",
            "100th percentile value is 310.0\n"
          ]
        }
      ]
    },
    {
      "cell_type": "markdown",
      "metadata": {
        "id": "tuXLExagMloh"
      },
      "source": [
        "Observation: <br> \n",
        "1. 90% of datapoints has length less than or equal to 21\n",
        "2. We can see there is large variance between 90-100percentile"
      ]
    },
    {
      "cell_type": "markdown",
      "metadata": {
        "id": "K5Oc1VGGM-Yi"
      },
      "source": [
        "#####90-100 percentile in steps of 1"
      ]
    },
    {
      "cell_type": "code",
      "metadata": {
        "colab": {
          "base_uri": "https://localhost:8080/"
        },
        "id": "jm5CO21FMgJ0",
        "outputId": "e8cf7cc3-e4ed-48ac-c46a-d8a539af6e83"
      },
      "source": [
        "p_value = list(range(90,101))\n",
        "\n",
        "for p in p_value:\n",
        "  print(f'{p}th percentile value is {np.round(np.percentile(data[\"incorrect_word_len\"].values,p))}')"
      ],
      "execution_count": null,
      "outputs": [
        {
          "output_type": "stream",
          "name": "stdout",
          "text": [
            "90th percentile value is 21.0\n",
            "91th percentile value is 21.0\n",
            "92th percentile value is 22.0\n",
            "93th percentile value is 23.0\n",
            "94th percentile value is 24.0\n",
            "95th percentile value is 25.0\n",
            "96th percentile value is 27.0\n",
            "97th percentile value is 28.0\n",
            "98th percentile value is 31.0\n",
            "99th percentile value is 36.0\n",
            "100th percentile value is 310.0\n"
          ]
        }
      ]
    },
    {
      "cell_type": "markdown",
      "metadata": {
        "id": "IyzqvUS3NHT3"
      },
      "source": [
        "**Observation:** <br>\n",
        "1. 99% of datapoints has length less than or equal to 36\n",
        "2. There is large variance between 99-100 percentile"
      ]
    },
    {
      "cell_type": "markdown",
      "metadata": {
        "id": "SjPhXMvQS0D0"
      },
      "source": [
        "#####99.1-100 percentile in step of .1"
      ]
    },
    {
      "cell_type": "code",
      "metadata": {
        "colab": {
          "base_uri": "https://localhost:8080/"
        },
        "id": "y2uiehPPNDe7",
        "outputId": "a1c36650-f343-433b-8fe0-71dc34503a3c"
      },
      "source": [
        "p_value = [99.1, 99.2, 99.3, 99.4, 99.5, 99.6, 99.7, 99.8, 99.9, 100]\n",
        "\n",
        "for p in p_value:\n",
        "  print(f'{p}th percentile value is {np.round(np.percentile(data[\"incorrect_word_len\"].values,p))}')"
      ],
      "execution_count": null,
      "outputs": [
        {
          "output_type": "stream",
          "name": "stdout",
          "text": [
            "99.1th percentile value is 37.0\n",
            "99.2th percentile value is 38.0\n",
            "99.3th percentile value is 39.0\n",
            "99.4th percentile value is 40.0\n",
            "99.5th percentile value is 42.0\n",
            "99.6th percentile value is 43.0\n",
            "99.7th percentile value is 46.0\n",
            "99.8th percentile value is 50.0\n",
            "99.9th percentile value is 57.0\n",
            "100th percentile value is 310.0\n"
          ]
        }
      ]
    },
    {
      "cell_type": "markdown",
      "metadata": {
        "id": "lG21BwiCNrFd"
      },
      "source": [
        "**Observation:** <br>\n",
        "1. Only .1% of datapoints has length greater than 57"
      ]
    },
    {
      "cell_type": "markdown",
      "metadata": {
        "id": "f0lF7QDbODj4"
      },
      "source": [
        "#####Visualization of points whose length greater than 56 (99.9%)"
      ]
    },
    {
      "cell_type": "code",
      "metadata": {
        "colab": {
          "base_uri": "https://localhost:8080/"
        },
        "id": "AQVyCrbZPI3b",
        "outputId": "27c26b36-507d-41d5-bc2d-79c6d9f559b6"
      },
      "source": [
        "data[data['incorrect_word_len'] >= 56]['incorrect'].values.shape"
      ],
      "execution_count": null,
      "outputs": [
        {
          "output_type": "execute_result",
          "data": {
            "text/plain": [
              "(1069,)"
            ]
          },
          "metadata": {},
          "execution_count": 58
        }
      ]
    },
    {
      "cell_type": "code",
      "metadata": {
        "colab": {
          "base_uri": "https://localhost:8080/"
        },
        "id": "6y4kmLiNNpWm",
        "outputId": "9e118ff0-b661-4aa9-b711-2d23d936167e"
      },
      "source": [
        "random.sample(data[data['incorrect_word_len'] >= 56]['incorrect'].values.tolist(), 10)"
      ],
      "execution_count": null,
      "outputs": [
        {
          "output_type": "execute_result",
          "data": {
            "text/plain": [
              "['when at work is not much to do i pick up my notebook and start practice my hiragana  katakana , i hope some day be as good as that , that i would go to japan to sharp my skills , my all life dream is to become into a internacional bissenes bachelort and to be working all over the world , but now on it seems so much like a dream , that i much of the times feld down and surpassed for such a dream i have so , getting back to the main point , after finished my work at my fathers place y took my computer and watched some anime material i did have in .',\n",
              " 'and i had to come to office this morning before    , so i had to get up before  , so terrible , but it  is strange that i did  not feel sleepy today , just i did feel that i was not in myself . . . emm . . . like , i was just sitting here , doing nothing , thinking nothing . . .',\n",
              " 'the main characters of the serie are keroro , that is very childish and selfish and always try to make laugh people , but he is a very bad comedian , then we have giroro , he is always thinking on the invasion and he  is a military man , the third character is tamama , he  is a toadpole , so his sex is not defined , he is bipolar and he like sweets , the fourth member of the platoon is kururu , he is a mad scientist , he likes bothering people and he  is a pervert , and finally we have dororo , he  is an econinja , he came to conquer the planet , but when he saw the beauty of it , he decided to save it , he is always forgotten by the platoon , poor dororo ahahah .',\n",
              " '? ? girls are sometimes too silly , because of loving a guy , they do  not mind to carry a heavy baby to every way for  months . . , just to have an offspring for a guy  still have to face the changes in terms of body shape  but guys do  not have to .',\n",
              " 'besides , i have    lessons at school every day exept saturday as on saturday i have  lessons which are over at half past  p . m . when my groupmates decided when the courses started on saturday i asked to begin them after  p . m . but nobody supported me even those who did  not care when to start .',\n",
              " 'and rectify risign oar merchant royally innumerable verge community prosperous foam veteran feature monarch novelty junction principle thrive combination splash synthesis deteriortate confer miracle limp consent abnormal mischief introduction colonial efficient benefit bosom solar dissolve fisherman semiconductor arrange orderly meantime reptile rag tuition heave enthusiasm pope elderly edible supervise likewise plea reclaim thorough trunk historic fitting cashier sober obsolete navy rural indulge funeral mobilise feminnie combat style stylishly',\n",
              " 'in my view my life is  not a fairy tale where i am a prince the days sometimes get me down and `` por lo general `` , i  am always alone in a lot of occasions my head thinks about finding an easy solution for everything my problems , i think that you guys will imagine it about what i want to say , moreover , sometimes , i hate that the things do  not come out how i want .',\n",
              " 'for me it  is fashinating looking in people  is eyes and reading through them to know their real feelings , their eyes can tell me something hidden , what the mouth wo  not say  fear , sadness , happiness , envy , shyness , embarrass , anger , surprise , pleasure , lie , pain , complicity , reproach . .',\n",
              " 'i think i can be a part of this society i do my best to learn a culture and a language , but i  am not sure if i can be mingled with the people who like to grade other people by their color and language and if i can enjoy my life while i  am here as when i was in my country .',\n",
              " 'i do  not know how long i will stay here , but everything seems gets better , and i like the feeling now , because i can ask qustions now , no matter how easy it is , i do  not care , because i want to know the answer , it is the noly to grow up .']"
            ]
          },
          "metadata": {},
          "execution_count": 59
        }
      ]
    },
    {
      "cell_type": "markdown",
      "metadata": {
        "id": "QWjyT1XNPh_E"
      },
      "source": [
        "**Observation:** <br>\n",
        "1. We can see there are 1069 datapoints whose length is greater than or equal  99.9%\n",
        "2. All these points seems to be genuine points, not an outlier/random points\n"
      ]
    },
    {
      "cell_type": "markdown",
      "metadata": {
        "id": "Qx-_JvIoP9Kr"
      },
      "source": [
        "####4.6.2.2.Correct: How words in correct sentences are distributed"
      ]
    },
    {
      "cell_type": "markdown",
      "metadata": {
        "id": "j3JnuyBeQJrP"
      },
      "source": [
        "#####Histogram"
      ]
    },
    {
      "cell_type": "code",
      "metadata": {
        "colab": {
          "base_uri": "https://localhost:8080/",
          "height": 388
        },
        "id": "L7TFr1fYQIZx",
        "outputId": "ed1e5b4f-7bc6-4f92-81db-b153065a5244"
      },
      "source": [
        "hist_bins = list(range(data['correct_word_len'].min(), data['correct_word_len'].max()+15,15))\n",
        "sns.displot(list(data['correct_word_len'].values), bins=hist_bins, kde=True, color='green',edgecolor='red')\n",
        "plt.grid()\n",
        "plt.title('Distribution of correct sentence length')\n",
        "plt.xlabel(\"Bins (length)\")\n",
        "plt.show()"
      ],
      "execution_count": null,
      "outputs": [
        {
          "output_type": "display_data",
          "data": {
            "image/png": "[encoded data removed]",
            "text/plain": [
              "<Figure size 360x360 with 1 Axes>"
            ]
          },
          "metadata": {
            "needs_background": "light"
          }
        }
      ]
    },
    {
      "cell_type": "markdown",
      "metadata": {
        "id": "fQGwj8I3QckN"
      },
      "source": [
        "**Observation:** <br>\n",
        "1. We can see most of the sentences length lie between 0-15\n",
        "2. We can see most of the sentences has length less than 50\n",
        "3. Data is not normally distributed"
      ]
    },
    {
      "cell_type": "markdown",
      "metadata": {
        "id": "Jr9XxKsWQ4hk"
      },
      "source": [
        "#####Cumulative distribution"
      ]
    },
    {
      "cell_type": "code",
      "metadata": {
        "colab": {
          "base_uri": "https://localhost:8080/",
          "height": 395
        },
        "id": "QfPpoLdzQTTk",
        "outputId": "5778fe90-abc6-4d45-8699-a7b58801fdd1"
      },
      "source": [
        "sns.displot(data['correct_word_len'].values, kind='ecdf')\n",
        "plt.xlabel(\"length\")\n",
        "plt.title(\"Cumulative distribution on correct sentence length\")\n",
        "plt.grid()\n",
        "plt.show()"
      ],
      "execution_count": null,
      "outputs": [
        {
          "output_type": "display_data",
          "data": {
            "image/png": "[encoded data removed]",
            "text/plain": [
              "<Figure size 360x360 with 1 Axes>"
            ]
          },
          "metadata": {
            "needs_background": "light"
          }
        }
      ]
    },
    {
      "cell_type": "markdown",
      "metadata": {
        "id": "2Pl6ydrnRVkV"
      },
      "source": [
        "Observation: <br>\n",
        "1. 90% of datapoints length less than or equal 50"
      ]
    },
    {
      "cell_type": "markdown",
      "metadata": {
        "id": "3UC-YYQoRlUN"
      },
      "source": [
        "#####Statistics - Mean, Median, Mode"
      ]
    },
    {
      "cell_type": "code",
      "metadata": {
        "colab": {
          "base_uri": "https://localhost:8080/"
        },
        "id": "VsZIBzonQ-t3",
        "outputId": "a6f0dbf4-4001-4207-c0c5-1d8d6e98c131"
      },
      "source": [
        "print(\"Length statistics of correct sentences:\")\n",
        "print(\"=\"*100)\n",
        "\n",
        "print(\"Minimum : \", data['correct_word_len'].min())\n",
        "print(\"Maximum : \", data['correct_word_len'].max())\n",
        "print(\"Mean : \", data['correct_word_len'].mean())\n",
        "print(\"Median : \", data['correct_word_len'].median())\n",
        "print(\"Mode : \", mode(data['correct_word_len'].values))"
      ],
      "execution_count": null,
      "outputs": [
        {
          "output_type": "stream",
          "name": "stdout",
          "text": [
            "Length statistics of correct sentences:\n",
            "====================================================================================================\n",
            "Minimum :  1\n",
            "Maximum :  487\n",
            "Mean :  12.10741973827875\n",
            "Median :  11.0\n",
            "Mode :  ModeResult(mode=array([8]), count=array([72182]))\n"
          ]
        }
      ]
    },
    {
      "cell_type": "markdown",
      "metadata": {
        "id": "35OIisr7Rv7U"
      },
      "source": [
        "**Observation:** <br>\n",
        "1. Mean > Median > Mode so data is right skewed\n",
        "2. Most of the sentences (72312) has length = 8"
      ]
    },
    {
      "cell_type": "markdown",
      "metadata": {
        "id": "zt_RUyC7R5Jb"
      },
      "source": [
        "#####0-100 percentile in steps of 10"
      ]
    },
    {
      "cell_type": "code",
      "metadata": {
        "colab": {
          "base_uri": "https://localhost:8080/"
        },
        "id": "hbVpBM1LRrjB",
        "outputId": "448ab461-e539-4a84-d71d-0f99dc241c65"
      },
      "source": [
        "p_value = list(range(0,101,10))\n",
        "\n",
        "for p in p_value:\n",
        "  print(f'{p}th percentile value is {np.round(np.percentile(data[\"correct_word_len\"].values,p))}')"
      ],
      "execution_count": null,
      "outputs": [
        {
          "output_type": "stream",
          "name": "stdout",
          "text": [
            "0th percentile value is 1.0\n",
            "10th percentile value is 5.0\n",
            "20th percentile value is 7.0\n",
            "30th percentile value is 8.0\n",
            "40th percentile value is 9.0\n",
            "50th percentile value is 11.0\n",
            "60th percentile value is 12.0\n",
            "70th percentile value is 14.0\n",
            "80th percentile value is 17.0\n",
            "90th percentile value is 21.0\n",
            "100th percentile value is 487.0\n"
          ]
        }
      ]
    },
    {
      "cell_type": "markdown",
      "metadata": {
        "id": "QbWL6A9GR-2q"
      },
      "source": [
        "Observation: <br>\n",
        "1. 90% of data points has length less than or equal to 21\n",
        "2. We can see there is large variance between 90-100 percentile"
      ]
    },
    {
      "cell_type": "markdown",
      "metadata": {
        "id": "9Sc4TMUTSd4L"
      },
      "source": [
        "#####90-100 percentile in steps of 1"
      ]
    },
    {
      "cell_type": "code",
      "metadata": {
        "colab": {
          "base_uri": "https://localhost:8080/"
        },
        "id": "FV0hEdJRR9sY",
        "outputId": "f06080e7-2305-44c6-db05-5d45c2b74461"
      },
      "source": [
        "p_value = list(range(90,101))\n",
        "\n",
        "for p in p_value:\n",
        "  print(f'{p}th percentile value is {np.round(np.percentile(data[\"correct_word_len\"].values,p))}')"
      ],
      "execution_count": null,
      "outputs": [
        {
          "output_type": "stream",
          "name": "stdout",
          "text": [
            "90th percentile value is 21.0\n",
            "91th percentile value is 22.0\n",
            "92th percentile value is 22.0\n",
            "93th percentile value is 23.0\n",
            "94th percentile value is 24.0\n",
            "95th percentile value is 25.0\n",
            "96th percentile value is 27.0\n",
            "97th percentile value is 29.0\n",
            "98th percentile value is 32.0\n",
            "99th percentile value is 36.0\n",
            "100th percentile value is 487.0\n"
          ]
        }
      ]
    },
    {
      "cell_type": "markdown",
      "metadata": {
        "id": "IWIB7BV1SnEy"
      },
      "source": [
        "**Obsevation:** <br>\n",
        "1. 99% of data has length less than 36\n",
        "2. We can see large variance between 99-100 percentile"
      ]
    },
    {
      "cell_type": "markdown",
      "metadata": {
        "id": "gSSATgwCS4Q5"
      },
      "source": [
        "#####99.1-100 percentile in step of .1"
      ]
    },
    {
      "cell_type": "code",
      "metadata": {
        "colab": {
          "base_uri": "https://localhost:8080/"
        },
        "id": "0zEOd1u0SmGt",
        "outputId": "7c59f36a-944b-44e7-d28a-1d4191cb2a6e"
      },
      "source": [
        "p_value = [99.1, 99.2, 99.3, 99.4, 99.5, 99.6, 99.7, 99.8, 99.9, 100]\n",
        "\n",
        "for p in p_value:\n",
        "  print(f'{p}th percentile value is {np.round(np.percentile(data[\"correct_word_len\"].values,p))}')"
      ],
      "execution_count": null,
      "outputs": [
        {
          "output_type": "stream",
          "name": "stdout",
          "text": [
            "99.1th percentile value is 37.0\n",
            "99.2th percentile value is 38.0\n",
            "99.3th percentile value is 39.0\n",
            "99.4th percentile value is 40.0\n",
            "99.5th percentile value is 42.0\n",
            "99.6th percentile value is 44.0\n",
            "99.7th percentile value is 46.0\n",
            "99.8th percentile value is 50.0\n",
            "99.9th percentile value is 57.0\n",
            "100th percentile value is 487.0\n"
          ]
        }
      ]
    },
    {
      "cell_type": "markdown",
      "metadata": {
        "id": "So1G6WMCTBtj"
      },
      "source": [
        "#####Visualization of points whose length greater than 56 (99.9%)"
      ]
    },
    {
      "cell_type": "code",
      "metadata": {
        "colab": {
          "base_uri": "https://localhost:8080/"
        },
        "id": "vZ_RineGS8SD",
        "outputId": "52839a8a-0b6f-4c6e-a21e-a78cbae48dae"
      },
      "source": [
        "data[data['correct_word_len'] >= 57]['correct'].values.shape"
      ],
      "execution_count": null,
      "outputs": [
        {
          "output_type": "execute_result",
          "data": {
            "text/plain": [
              "(1007,)"
            ]
          },
          "metadata": {},
          "execution_count": 66
        }
      ]
    },
    {
      "cell_type": "code",
      "metadata": {
        "colab": {
          "base_uri": "https://localhost:8080/"
        },
        "id": "ih0soCFRTGMs",
        "outputId": "6867de47-b8fe-4931-eaaa-58801e7d02ce"
      },
      "source": [
        "random.sample(data[data['correct_word_len'] >= 57]['correct'].values.tolist(), 10)"
      ],
      "execution_count": null,
      "outputs": [
        {
          "output_type": "execute_result",
          "data": {
            "text/plain": [
              "['i did  not expected it , because my speech at the interview exam was so screwed up , to say the least  i had chosen `` should we put a restriction on the financial market ? `` or something like that , i ca  not remember exact phrasing , for a topic , which i do  not know anything about .',\n",
              " 'have you ever thought about your lifetime ? what you want to be ? i think people have their dreams when they are kids , but how many of their dreams come true ? if you were one of those people who was very successful in their life and your dream came true , it would be great , but if you were  not one of those people , have you been trying to change it or give up ? especially after you married and had a family .',\n",
              " 'we persuaded my father again when we had supper , and my father agreed with a heavy nod . however , he said that there was a request that we must find someone to repair the wooden house and move the furniture from the wrecked house to the wooden house before we leave , otherwise the rain would destroyed their houses completely .',\n",
              " 'also , i believe the process of receiving  precepts is a very serious promise to buddha that i am willing to follow his teaching in my every life , as the positive karma brought by receiving and upholding the precepts runs through the whole reincarnation process and , by doing so , will bring me back to learn buddhism in the next life .',\n",
              " 'also , i ate the expensive food at her house because we bought a lot of thing for that , you know , thing near her house . it is really expensive but on that day , we did  not care . but , we cared about whether or not we could eat the food , because maybe it would  not not delicious .',\n",
              " 'i went to a japanese food store and i eat sushi and it was good but i cant have to much of if but over all it was good and the gohan was awsome to but i wish they had onigiri do anyone knows how to make one cuz iv been dieing for one of thoses forever .',\n",
              " 'from then on , i always try my great best to work on this job , i , however , do not know why i would put my youth into this project , wwwwwwwwhy i chose this career at that time , why i am willing to stay here as i just receive less salary than i plant .',\n",
              " \"since i wanted to satisfy others ' expectation , especially like the one of my revered seniors  , i almost panicked to write a consistent , transparent article and to propose such an interesting point , for our seminar of the theme `` globalization . `` at the end , however , i gave up to write it because of so much of the burden i felt .\",\n",
              " 'i  am a  years old ugly guy who is trying to get better on improving his english skills ! so yeah  d hm . . i  am currently studying english at one british peruvian institute here in the capital city lima  when i took the qualification test at first ! i never thought i could even pass to the advanced level just like that !',\n",
              " \"i took out my lovely word book from my sack and started memorizing some english words when i heard the mum  is seriously irritated voice saying , ' why ca  not you draw correctly ? ' then she suddenly grabbed the crayon from the girl  is hand and began lecturing on how to draw pictures ' properly . '\"]"
            ]
          },
          "metadata": {},
          "execution_count": 67
        }
      ]
    },
    {
      "cell_type": "markdown",
      "metadata": {
        "id": "Ewh3aHYnTSSh"
      },
      "source": [
        "**Obsevation:** <br>\n",
        "1. We have 1025 datapoints whose length is greater than 950\n",
        "2. These points seems to be genuine english sentences. Not an outlier or random points"
      ]
    },
    {
      "cell_type": "markdown",
      "metadata": {
        "id": "mSTNINUyVzQ5"
      },
      "source": [
        "####4.6.2.3.Analysis on total edits"
      ]
    },
    {
      "cell_type": "markdown",
      "metadata": {
        "id": "Mu4gbdotJVMu"
      },
      "source": [
        "#####Histogram"
      ]
    },
    {
      "cell_type": "code",
      "metadata": {
        "colab": {
          "base_uri": "https://localhost:8080/",
          "height": 385
        },
        "id": "q7eTHmEbWGcU",
        "outputId": "57bc3847-44cb-4470-f4d4-976c74afd2c3"
      },
      "source": [
        "hist_bins = list(range(data['total_edits'].min(), data['total_edits'].max()+10, 10))\n",
        "sns.displot(data['total_edits'], bins=hist_bins)\n",
        "plt.title(\"Distribution of total edits\")\n",
        "plt.show()"
      ],
      "execution_count": null,
      "outputs": [
        {
          "output_type": "display_data",
          "data": {
            "image/png": "[encoded data removed]",
            "text/plain": [
              "<Figure size 360x360 with 1 Axes>"
            ]
          },
          "metadata": {
            "needs_background": "light"
          }
        }
      ]
    },
    {
      "cell_type": "code",
      "metadata": {
        "colab": {
          "base_uri": "https://localhost:8080/",
          "height": 296
        },
        "id": "8LWQK5yjJco8",
        "outputId": "860ba2d9-c6f8-43bf-d219-aeaf579b4089"
      },
      "source": [
        "sns.kdeplot(data['total_edits'])\n",
        "plt.title(\"Distribution of total edits\")\n",
        "plt.grid()\n",
        "plt.show()"
      ],
      "execution_count": null,
      "outputs": [
        {
          "output_type": "display_data",
          "data": {
            "image/png": "[encoded data removed]",
            "text/plain": [
              "<Figure size 432x288 with 1 Axes>"
            ]
          },
          "metadata": {
            "needs_background": "light"
          }
        }
      ]
    },
    {
      "cell_type": "markdown",
      "metadata": {
        "id": "Aj6hrXUqKCMu"
      },
      "source": [
        "Observation: <br>\n",
        "1. Only few sentences has edits greater than 20"
      ]
    },
    {
      "cell_type": "markdown",
      "metadata": {
        "id": "GIaXHL9eJYJQ"
      },
      "source": [
        "#####cumulative distribution"
      ]
    },
    {
      "cell_type": "code",
      "metadata": {
        "colab": {
          "base_uri": "https://localhost:8080/",
          "height": 395
        },
        "id": "i7cDKkDCKPin",
        "outputId": "166eb8b1-d73a-44a6-9a74-b82ad0565edb"
      },
      "source": [
        "sns.displot(data['total_edits'].values, kind='ecdf')\n",
        "plt.xlabel(\"length\")\n",
        "plt.title(\"Cumulative distribution on total_edits\")\n",
        "plt.grid()\n",
        "plt.show()"
      ],
      "execution_count": null,
      "outputs": [
        {
          "output_type": "display_data",
          "data": {
            "image/png": "[encoded data removed]",
            "text/plain": [
              "<Figure size 360x360 with 1 Axes>"
            ]
          },
          "metadata": {
            "needs_background": "light"
          }
        }
      ]
    },
    {
      "cell_type": "markdown",
      "metadata": {
        "id": "5BtcYvWO-K8P"
      },
      "source": [
        "#####Statistics-Mean, Median, Mode"
      ]
    },
    {
      "cell_type": "code",
      "metadata": {
        "colab": {
          "base_uri": "https://localhost:8080/"
        },
        "id": "fuL2Bhvo-Cpk",
        "outputId": "5fdf01cf-7774-47a9-9e46-61d9d7fab80b"
      },
      "source": [
        "print(\"Length statistics of correct sentences:\")\n",
        "print(\"=\"*100)\n",
        "\n",
        "print(\"Minimum : \", data['total_edits'].min())\n",
        "print(\"Maximum : \", data['total_edits'].max())\n",
        "print(\"Mean : \", data['total_edits'].mean())\n",
        "print(\"Median : \", data['total_edits'].median())\n",
        "print(\"Mode : \", mode(data['total_edits'].values))"
      ],
      "execution_count": null,
      "outputs": [
        {
          "output_type": "stream",
          "name": "stdout",
          "text": [
            "Length statistics of correct sentences:\n",
            "====================================================================================================\n",
            "Minimum :  0\n",
            "Maximum :  167\n",
            "Mean :  1.2664059852734735\n",
            "Median :  1.0\n",
            "Mode :  ModeResult(mode=array([0]), count=array([436385]))\n"
          ]
        }
      ]
    },
    {
      "cell_type": "markdown",
      "metadata": {
        "id": "gzfF5TCO-bk4"
      },
      "source": [
        "**Observation:** <br>\n",
        "1. min edits = 0 and max edits = 167\n",
        "2. mean > median > mode. Hence data is right skewed\n",
        "3. Maximum sentences has edits = 0"
      ]
    },
    {
      "cell_type": "markdown",
      "metadata": {
        "id": "I6T5_uCiKi7O"
      },
      "source": [
        "#####0-100 percentile in steps of 10"
      ]
    },
    {
      "cell_type": "code",
      "metadata": {
        "colab": {
          "base_uri": "https://localhost:8080/"
        },
        "id": "VPMnVqZFKmxb",
        "outputId": "0a4f3dae-c5fd-4c19-9613-b4ae42ff27e0"
      },
      "source": [
        "p_value = list(range(0,101,10))\n",
        "\n",
        "for p in p_value:\n",
        "  print(f'{p}th percentile value is {np.round(np.percentile(data[\"total_edits\"].values,p))}')"
      ],
      "execution_count": null,
      "outputs": [
        {
          "output_type": "stream",
          "name": "stdout",
          "text": [
            "0th percentile value is 0.0\n",
            "10th percentile value is 0.0\n",
            "20th percentile value is 0.0\n",
            "30th percentile value is 0.0\n",
            "40th percentile value is 0.0\n",
            "50th percentile value is 1.0\n",
            "60th percentile value is 1.0\n",
            "70th percentile value is 2.0\n",
            "80th percentile value is 2.0\n",
            "90th percentile value is 4.0\n",
            "100th percentile value is 167.0\n"
          ]
        }
      ]
    },
    {
      "cell_type": "markdown",
      "metadata": {
        "id": "l-HaWjRyKtdq"
      },
      "source": [
        "**Observation:** <br>\n",
        "1. 50% of data points has total_edits less than or equal to 1\n",
        "2. 90% of data points has total_edits less tahn or equal to 3\n",
        "3. We can see there is large variance between 90-100%"
      ]
    },
    {
      "cell_type": "markdown",
      "metadata": {
        "id": "pOKc44N7LgCU"
      },
      "source": [
        "#####90-100 percentile in steps of 1"
      ]
    },
    {
      "cell_type": "code",
      "metadata": {
        "colab": {
          "base_uri": "https://localhost:8080/"
        },
        "id": "NOY-uKzmLh2U",
        "outputId": "dffa3f4f-b98f-4859-d648-1e4f6d0b8e62"
      },
      "source": [
        "p_value = list(range(90,101))\n",
        "\n",
        "for p in p_value:\n",
        "  print(f'{p}th percentile value is {np.round(np.percentile(data[\"total_edits\"].values,p))}')"
      ],
      "execution_count": null,
      "outputs": [
        {
          "output_type": "stream",
          "name": "stdout",
          "text": [
            "90th percentile value is 4.0\n",
            "91th percentile value is 4.0\n",
            "92th percentile value is 4.0\n",
            "93th percentile value is 4.0\n",
            "94th percentile value is 4.0\n",
            "95th percentile value is 5.0\n",
            "96th percentile value is 5.0\n",
            "97th percentile value is 5.0\n",
            "98th percentile value is 6.0\n",
            "99th percentile value is 7.0\n",
            "100th percentile value is 167.0\n"
          ]
        }
      ]
    },
    {
      "cell_type": "markdown",
      "metadata": {
        "id": "Iq1sXmqcLqQ7"
      },
      "source": [
        "**Observation:** <br>\n",
        "1. 99% of data points has total edits 7\n",
        "2. We can see there is large variance between 99-100"
      ]
    },
    {
      "cell_type": "markdown",
      "metadata": {
        "id": "3D3LQjTAMgii"
      },
      "source": [
        "#####99.1-100 percentile in step of .1"
      ]
    },
    {
      "cell_type": "code",
      "metadata": {
        "colab": {
          "base_uri": "https://localhost:8080/"
        },
        "id": "76QGdm3eL9pV",
        "outputId": "577b43b2-60a4-4c41-dd6b-9022ee8d47cd"
      },
      "source": [
        "p_value = [99.1, 99.2, 99.3, 99.4, 99.5, 99.6, 99.7, 99.8, 99.9, 100]\n",
        "\n",
        "for p in p_value:\n",
        "  print(f'{p}th percentile value is {np.round(np.percentile(data[\"total_edits\"].values,p))}')"
      ],
      "execution_count": null,
      "outputs": [
        {
          "output_type": "stream",
          "name": "stdout",
          "text": [
            "99.1th percentile value is 8.0\n",
            "99.2th percentile value is 8.0\n",
            "99.3th percentile value is 8.0\n",
            "99.4th percentile value is 8.0\n",
            "99.5th percentile value is 9.0\n",
            "99.6th percentile value is 9.0\n",
            "99.7th percentile value is 10.0\n",
            "99.8th percentile value is 11.0\n",
            "99.9th percentile value is 12.0\n",
            "100th percentile value is 167.0\n"
          ]
        }
      ]
    },
    {
      "cell_type": "markdown",
      "metadata": {
        "id": "EpdyWSm4MIWP"
      },
      "source": [
        "**Observation:** <br>\n",
        "1. 99.9% of data points has total edits less than or equal to 12.\n",
        "2. Only .1% of datapoints has total edits greater than or equal to 12 "
      ]
    },
    {
      "cell_type": "code",
      "metadata": {
        "colab": {
          "base_uri": "https://localhost:8080/",
          "height": 227
        },
        "id": "cfLcMylFp1Ij",
        "outputId": "35605135-1e12-45b1-83ae-5a7b9f72383c"
      },
      "source": [
        "fig, ax = plt.subplots(figsize=(30,5))\n",
        "\n",
        "data['total_edits'].value_counts(sort=True).plot(kind='bar',ax=ax)\n",
        "\n",
        "for p in ax.patches:\n",
        "  ax.annotate(str(np.round((p.get_height()/data.shape[0])*100, 5)), (p.get_x() * 1.005, p.get_height() * 1.005))\n",
        "\n",
        "plt.show()"
      ],
      "execution_count": null,
      "outputs": [
        {
          "output_type": "display_data",
          "data": {
            "image/png": "[encoded data removed]",
            "text/plain": [
              "<Figure size 2160x360 with 1 Axes>"
            ]
          },
          "metadata": {
            "needs_background": "light"
          }
        }
      ]
    },
    {
      "cell_type": "markdown",
      "metadata": {
        "id": "8VJtgQPjsEpu"
      },
      "source": [
        "**Observation**: <br>\n",
        "1. 47% (nearly 50) of data has 0 edits i.e, correct sentence == incorret sentences"
      ]
    },
    {
      "cell_type": "markdown",
      "metadata": {
        "id": "Q1zTHHUaUDNA"
      },
      "source": [
        "##4.7.Bivariate Analysis"
      ]
    },
    {
      "cell_type": "markdown",
      "metadata": {
        "id": "2FA49Bj4UIx7"
      },
      "source": [
        "###4.7.1.How correct and incorrect sentens(word) length distributed"
      ]
    },
    {
      "cell_type": "code",
      "metadata": {
        "colab": {
          "base_uri": "https://localhost:8080/",
          "height": 296
        },
        "id": "Ur5TNVP5TL3R",
        "outputId": "aad70a43-886f-4ce4-a1b9-c72577f4be7e"
      },
      "source": [
        "sns.kdeplot(data['correct_word_len'], label='correct(word len)', color='green')\n",
        "sns.kdeplot(data['incorrect_word_len'], label='incorrect(word len)')\n",
        "plt.grid()\n",
        "plt.legend()\n",
        "plt.xlabel(\"length (word count)\")\n",
        "plt.plot()"
      ],
      "execution_count": null,
      "outputs": [
        {
          "output_type": "execute_result",
          "data": {
            "text/plain": [
              "[]"
            ]
          },
          "metadata": {},
          "execution_count": 76
        },
        {
          "output_type": "display_data",
          "data": {
            "image/png": "[encoded data removed]",
            "text/plain": [
              "<Figure size 432x288 with 1 Axes>"
            ]
          },
          "metadata": {
            "needs_background": "light"
          }
        }
      ]
    },
    {
      "cell_type": "markdown",
      "metadata": {
        "id": "bbThOx3vU_7i"
      },
      "source": [
        "**Observation:** <br>\n",
        "1. We can see both distributions are overlapping on each other. \n",
        "2. Hence we can conclude incorrect_word_len and correct_word_len follows same distribution"
      ]
    },
    {
      "cell_type": "code",
      "metadata": {
        "colab": {
          "base_uri": "https://localhost:8080/",
          "height": 367
        },
        "id": "CzoGHrgMQdnJ",
        "outputId": "ca8cd917-2d4c-4ca7-912a-f29a6a2ed7ff"
      },
      "source": [
        "plt.figure(figsize=(10,5))\n",
        "sns.lineplot(data=data, x='incorrect_word_len', y='correct_word_len')\n",
        "plt.grid()\n",
        "plt.title(\"incorrect_word_len v/s correct_word_len\")\n",
        "plt.plot()"
      ],
      "execution_count": null,
      "outputs": [
        {
          "output_type": "execute_result",
          "data": {
            "text/plain": [
              "[]"
            ]
          },
          "metadata": {},
          "execution_count": 77
        },
        {
          "output_type": "display_data",
          "data": {
            "image/png": "[encoded data removed]",
            "text/plain": [
              "<Figure size 720x360 with 1 Axes>"
            ]
          },
          "metadata": {
            "needs_background": "light"
          }
        }
      ]
    },
    {
      "cell_type": "markdown",
      "metadata": {
        "id": "DncQoAXrTD0F"
      },
      "source": [
        "**Observation:** <br>\n",
        "1. incorrect_word_len and correct_word_len are almost linearly corelated.\n",
        "2. As incorrect sentence length increases, correct sentence length is also increasing"
      ]
    },
    {
      "cell_type": "markdown",
      "metadata": {
        "id": "__3qFjN9VjvP"
      },
      "source": [
        "###4.7.2.Total edits v/s incorrect sent length"
      ]
    },
    {
      "cell_type": "code",
      "metadata": {
        "colab": {
          "base_uri": "https://localhost:8080/",
          "height": 367
        },
        "id": "rZ7TYgtEXyyD",
        "outputId": "dcb80c60-cecd-4c43-f371-3d1cba1429bf"
      },
      "source": [
        "plt.figure(figsize=(10,5))\n",
        "sns.lineplot(data=data, x='incorrect_word_len', y='total_edits')\n",
        "plt.grid()\n",
        "plt.title(\"incorrect words length v/s total_edits\")\n",
        "plt.plot()"
      ],
      "execution_count": null,
      "outputs": [
        {
          "output_type": "execute_result",
          "data": {
            "text/plain": [
              "[]"
            ]
          },
          "metadata": {},
          "execution_count": 78
        },
        {
          "output_type": "display_data",
          "data": {
            "image/png": "[encoded data removed]",
            "text/plain": [
              "<Figure size 720x360 with 1 Axes>"
            ]
          },
          "metadata": {
            "needs_background": "light"
          }
        }
      ]
    },
    {
      "cell_type": "markdown",
      "metadata": {
        "id": "citBFJL2PcOp"
      },
      "source": [
        "**Observation:** <br>\n",
        "1. incorrect sent len and total_edits are not perfectly linearly corelated \n",
        "2. We can see when the sent len between 0-50, total_edits is linearly related \n",
        "3. when length between 250-310, total_edits is linearly related. \n",
        "4. Hence we can conclude as incorrect sentences length increases, total_edits and length has linear relationship"
      ]
    },
    {
      "cell_type": "markdown",
      "metadata": {
        "id": "W-IyZ5YYcIxL"
      },
      "source": [
        "##4.8.Vocabulary"
      ]
    },
    {
      "cell_type": "markdown",
      "metadata": {
        "id": "JVtuK7ocjX8O"
      },
      "source": [
        "###4.8.1.Incorrect"
      ]
    },
    {
      "cell_type": "code",
      "metadata": {
        "colab": {
          "base_uri": "https://localhost:8080/"
        },
        "id": "GpUFCvx6jZX_",
        "outputId": "59b8808c-f020-41bd-d277-2f46e25537d9"
      },
      "source": [
        "cv_incorrect = CountVectorizer()\n",
        "cv_incorrect.fit(data['incorrect'].astype(str).tolist())"
      ],
      "execution_count": null,
      "outputs": [
        {
          "output_type": "execute_result",
          "data": {
            "text/plain": [
              "CountVectorizer(analyzer='word', binary=False, decode_error='strict',\n",
              "                dtype=<class 'numpy.int64'>, encoding='utf-8', input='content',\n",
              "                lowercase=True, max_df=1.0, max_features=None, min_df=1,\n",
              "                ngram_range=(1, 1), preprocessor=None, stop_words=None,\n",
              "                strip_accents=None, token_pattern='(?u)\\\\b\\\\w\\\\w+\\\\b',\n",
              "                tokenizer=None, vocabulary=None)"
            ]
          },
          "metadata": {},
          "execution_count": 79
        }
      ]
    },
    {
      "cell_type": "code",
      "metadata": {
        "colab": {
          "base_uri": "https://localhost:8080/"
        },
        "id": "2MDmntGnkQ3e",
        "outputId": "44b2bbe9-ec6e-4d97-9bdf-b922695f532a"
      },
      "source": [
        "print('Incorrect vocab size = ', len(cv_incorrect.get_feature_names()))"
      ],
      "execution_count": null,
      "outputs": [
        {
          "output_type": "stream",
          "name": "stdout",
          "text": [
            "Incorrect vocab size =  105044\n"
          ]
        }
      ]
    },
    {
      "cell_type": "markdown",
      "metadata": {
        "id": "1D19NaZYk_nC"
      },
      "source": [
        "###4.8.2.Correct"
      ]
    },
    {
      "cell_type": "code",
      "metadata": {
        "colab": {
          "base_uri": "https://localhost:8080/"
        },
        "id": "7XaCUjfCkbaj",
        "outputId": "3e9ac637-f1f2-482b-d23a-67bfdb5434a3"
      },
      "source": [
        "cv_correct = CountVectorizer()\n",
        "cv_correct.fit(data['correct'].astype(str).tolist())"
      ],
      "execution_count": null,
      "outputs": [
        {
          "output_type": "execute_result",
          "data": {
            "text/plain": [
              "CountVectorizer(analyzer='word', binary=False, decode_error='strict',\n",
              "                dtype=<class 'numpy.int64'>, encoding='utf-8', input='content',\n",
              "                lowercase=True, max_df=1.0, max_features=None, min_df=1,\n",
              "                ngram_range=(1, 1), preprocessor=None, stop_words=None,\n",
              "                strip_accents=None, token_pattern='(?u)\\\\b\\\\w\\\\w+\\\\b',\n",
              "                tokenizer=None, vocabulary=None)"
            ]
          },
          "metadata": {},
          "execution_count": 81
        }
      ]
    },
    {
      "cell_type": "code",
      "metadata": {
        "colab": {
          "base_uri": "https://localhost:8080/"
        },
        "id": "xAYtloRKlNm6",
        "outputId": "8c78301c-f02e-49f1-8622-9f6d7ddec346"
      },
      "source": [
        "print('Correct vocab size = ', len(cv_correct.get_feature_names()))"
      ],
      "execution_count": null,
      "outputs": [
        {
          "output_type": "stream",
          "name": "stdout",
          "text": [
            "Correct vocab size =  89222\n"
          ]
        }
      ]
    },
    {
      "cell_type": "markdown",
      "metadata": {
        "id": "g_sh1Ud-lWzV"
      },
      "source": [
        "**Observation:** <br>\n",
        "1. incorrect has vocabulary size of 105044\n",
        "2. correct vocabulary has size of 89222\n",
        "3. Incorrect vocabulary size is greater than correct vocabulary. \n",
        "4. This is because we incorrect contains miss spelled wods, incorrect words, words in different forms etc"
      ]
    },
    {
      "cell_type": "code",
      "metadata": {
        "id": "FnKK4rt1mzaB"
      },
      "source": [
        "incorrect_vocab = set(cv_incorrect.get_feature_names())\n",
        "correct_vocab = set(cv_correct.get_feature_names())\n",
        "\n",
        "total_words_cnt = len(incorrect_vocab.union(correct_vocab))\n",
        "total_incorrect_words_cnt = len(incorrect_vocab.difference(correct_vocab))\n",
        "cnt_correct_words_from_both = len(incorrect_vocab.intersection(correct_vocab))\n",
        "total_correct_words_cnt = len(correct_vocab.difference(incorrect_vocab)) + cnt_correct_words_from_both\n"
      ],
      "execution_count": null,
      "outputs": []
    },
    {
      "cell_type": "code",
      "metadata": {
        "colab": {
          "base_uri": "https://localhost:8080/"
        },
        "id": "usZeGsEPpEH2",
        "outputId": "7c491a92-60fa-46dd-c7a4-db5122e6f1ef"
      },
      "source": [
        "print(\"Count of words from incorrect sentences vocabulary: \", len(incorrect_vocab))\n",
        "print(\"Count of words from correct sentences vocabulary: \", len(correct_vocab))\n",
        "print(\"\\n\")\n",
        "print(\"Total words: \", total_words_cnt)\n",
        "print(f\"Total incorrect words: {total_incorrect_words_cnt} percentage: {np.round((total_incorrect_words_cnt/total_words_cnt)*100, 4)}\")\n",
        "print(f\"Total correct words: {total_correct_words_cnt} percentage: {np.round((total_correct_words_cnt/total_words_cnt)*100, 4)}\")"
      ],
      "execution_count": null,
      "outputs": [
        {
          "output_type": "stream",
          "name": "stdout",
          "text": [
            "Count of words from incorrect sentences vocabulary:  105044\n",
            "Count of words from correct sentences vocabulary:  89222\n",
            "\n",
            "\n",
            "Total words:  114188\n",
            "Total incorrect words: 24966 percentage: 21.8639\n",
            "Total correct words: 89222 percentage: 78.1361\n"
          ]
        }
      ]
    },
    {
      "cell_type": "markdown",
      "metadata": {
        "id": "fhkR26s-nyRY"
      },
      "source": [
        "**Observation:** <br>\n",
        "1. There are 24975 words which are pesent only in incorrect vocabulary not in correct vocabulary. \n",
        "2. That means there are 24975 incorrect words. \n"
      ]
    },
    {
      "cell_type": "markdown",
      "metadata": {
        "id": "9UuL8x_QtugW"
      },
      "source": [
        "**Observation:** <br>\n",
        "1. There are total of 114198 words. \n",
        "2. amoung which 21% of words are incorrect (21%)\n",
        "3. And 89223 words are correct (78%)\n",
        "4. Percentage of incorrect words are less than  correct words. "
      ]
    },
    {
      "cell_type": "markdown",
      "metadata": {
        "id": "4c7uNXOguSMw"
      },
      "source": [
        "##5.Final Summarization"
      ]
    },
    {
      "cell_type": "markdown",
      "metadata": {
        "id": "kBBbMGazutto"
      },
      "source": [
        "**Observation:** <br>\n",
        "1. We are working on lang8 dataset <br>\n",
        "(source:: https://docs.google.com/forms/d/e/1FAIpQLSflRX3h5QYxegivjHN7SJ194OxZ4XN_7Rt0cNpR2YbmNV-7Ag/viewform)\n",
        "\n",
        "Tomoya Mizumoto, Mamoru Komachi, Masaaki Nagata and Yuji Matsumoto.\n",
        "Mining Revision Log of Language Learning SNS for Automated Japanese\n",
        "Error Correction of Second Language Learners. In Proceedings of the\n",
        "5th International Joint Conference on Natural Language Processing\n",
        "(IJCNLP), pp.147-155. Chiang Mai, Thailand, November 2011.\n",
        "\n",
        "Toshikazu Tajiri, Mamoru Komachi and Yuji Matsumoto. Tense and Aspect\n",
        "Error Correction for ESL Learners Using Global Context. In Proceedings\n",
        "of the 50th Annual Meeting of the Association for Computational\n",
        "Linguistics: Short Papers (oral), pp.198-202. Jeju Island, Korea, July 2012.\n",
        "\n",
        "2. Data is present in .m2 file \"lang8.train.auto.bea19.m2\"\n",
        "\n",
        "3. In .m2 file line followed by S is original/incorrect sentence. (sentence which needs to be corrected), and sentence follwed by A is sentnce annotated by annotator(0,1,2,3,4). Annotated sentences are nothing but corrected sentences.\n",
        "\n",
        "4. For our case study we are only taking sentences annotated by annotator 0. \n",
        "\n",
        "5. .m2 file has total of 1037562  sentences. \n",
        "\n",
        "6. Each datapoints/sentences are preprocessed (removal of special character)  \n",
        "\n",
        "7. Incorrect Sentence Summary: \n",
        "\n",
        "  *   range: 1-310 (min-max)\n",
        "  *   mean: 11\n",
        "  *   90th percentile: 20 \n",
        "  *   99th percentile: 36\n",
        "  *   But sentences whose length is greater than 36 is not an outlier/random point. They are actual sentence. \n",
        "\n",
        "8. Correct Sentence Summary:\n",
        "\n",
        "  *   range: 1-488 (min-max)\n",
        "  *   mean: 11\n",
        "  *   90th percentile: 21\n",
        "  *   99th percentile: 36\n",
        "  *    But sentences whose length is greater than 36 is not an outlier/random point. They are actual sentence.\n",
        "\n",
        "9. Total edits\n",
        "\n",
        "  *   range: 0-167\n",
        "  *   mean: 1\n",
        "  *   90th percentile: 3\n",
        "  *   99th percentile: 7\n",
        "  *   There are many sentences with edits = 0. That means those sentences are correct. We are not removing those sentences, because moel should know this is right sentence and it doen't require ant changes\n",
        "\n",
        "10. As sentences length increase toatl edits has also increased. \n",
        "\n",
        "11. We have also observed as incorrect sentence length increases, correct sentence length also increases\n",
        "\n",
        "11. incorrect vocab size > correct vocab size (incorrect cvocab contains miss spelled words)\n",
        "\n",
        "\n",
        "\n",
        "\n",
        "\n",
        "\n",
        "\n",
        "\n",
        "\n",
        "\n",
        "\n",
        "\n",
        "\n",
        "\n",
        "\n",
        "\n",
        "\n",
        "\n",
        "\n",
        "\n",
        "\n",
        "\n",
        "\n",
        "\n",
        "\n",
        "\n"
      ]
    },
    {
      "cell_type": "code",
      "metadata": {
        "id": "a3oqNgxd-pMQ"
      },
      "source": [
        ""
      ],
      "execution_count": null,
      "outputs": []
    }
  ]
}